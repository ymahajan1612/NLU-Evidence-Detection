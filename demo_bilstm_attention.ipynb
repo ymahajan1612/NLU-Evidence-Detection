{
  "cells": [
    {
      "cell_type": "markdown",
      "metadata": {
        "id": "FSPZiKbwpLrv"
      },
      "source": [
        "# Group 5 - ED(B) - Deep Learning Approach without the use of Transformers - Demo"
      ]
    },
    {
      "cell_type": "markdown",
      "metadata": {
        "id": "v9JJywR7qNJf"
      },
      "source": [
        "### Dependency Management"
      ]
    },
    {
      "cell_type": "code",
      "execution_count": 13,
      "metadata": {
        "id": "o5glhMS3o_V-"
      },
      "outputs": [],
      "source": [
        "import torch\n",
        "from torch.utils.data import DataLoader\n",
        "import pandas as pd\n",
        "import numpy as np\n",
        "import pickle\n",
        "import os\n",
        "import nltk\n",
        "from tqdm import tqdm\n",
        "from torch.nn.utils.rnn import pad_sequence"
      ]
    },
    {
      "cell_type": "code",
      "execution_count": null,
      "metadata": {
        "id": "LwJhLGgkYSNj"
      },
      "outputs": [],
      "source": [
        "# Create a directory for NLTK data\n",
        "nltk_data_dir = os.path.join(os.getcwd(), 'nltk_data')\n",
        "os.makedirs(nltk_data_dir, exist_ok=True)\n",
        "\n",
        "# Set the NLTK data path\n",
        "nltk.data.path.append(nltk_data_dir)\n",
        "\n",
        "# Download punkt to the specified directory\n",
        "nltk.download('punkt_tab', download_dir=nltk_data_dir)"
      ]
    },
    {
      "cell_type": "code",
      "execution_count": null,
      "metadata": {
        "id": "AR_5P1dUqX-t"
      },
      "outputs": [],
      "source": [
        "# Set random seed for reproducibility\n",
        "torch.manual_seed(42)\n",
        "np.random.seed(42)\n",
        "if torch.cuda.is_available():\n",
        "    torch.cuda.manual_seed_all(42)\n",
        "\n",
        "# Device configuration\n",
        "device = torch.device('cuda' if torch.cuda.is_available() else 'cpu')\n",
        "print(f\"Using device: {device}\")\n",
        "\n",
        "# Create output directory for models and plots\n",
        "os.makedirs('models', exist_ok=True)"
      ]
    },
    {
      "cell_type": "code",
      "execution_count": 16,
      "metadata": {
        "id": "N3LTpB8A-ESd"
      },
      "outputs": [],
      "source": [
        "from evidence_detection.bilstm_with_attention import BiLSTMAttention\n",
        "from evidence_detection.vocabulary import Vocabulary\n",
        "from evidence_detection.evidence_detection_dataset import EvidenceDetectionDataset"
      ]
    },
    {
      "cell_type": "markdown",
      "metadata": {
        "id": "2fP5so_aZzX-"
      },
      "source": [
        "### Load test set"
      ]
    },
    {
      "cell_type": "code",
      "execution_count": null,
      "metadata": {
        "id": "WO6PRKnBZzX_"
      },
      "outputs": [],
      "source": [
        "test_path = 'data/test.csv'\n",
        "test_df = pd.read_csv(test_path)\n",
        "\n",
        "test_df.head()"
      ]
    },
    {
      "cell_type": "markdown",
      "metadata": {
        "id": "4Ddb9kXBQu6f"
      },
      "source": [
        "### Load the vocabulary and set the embedding dimension\n",
        "\n",
        "The vocabulary \"vocab.pkl\" an be downloaded from the following link: https://drive.google.com/drive/folders/1TWv5UKNsNeQGxafx3GQf87Dc8vcp5V8t"
      ]
    },
    {
      "cell_type": "code",
      "execution_count": 18,
      "metadata": {
        "id": "xmQ5wmJS292k"
      },
      "outputs": [],
      "source": [
        "# Load vocabulary\n",
        "with open('vocab.pkl', 'rb') as f:\n",
        "    vocab = pickle.load(f)"
      ]
    },
    {
      "cell_type": "code",
      "execution_count": 19,
      "metadata": {
        "id": "IjTPin1qX8m7"
      },
      "outputs": [],
      "source": [
        "# Use the same embedding dimension used in training\n",
        "embedding_dim = 300"
      ]
    },
    {
      "cell_type": "markdown",
      "metadata": {
        "id": "Xdptq83IScgZ"
      },
      "source": [
        "### Create test dataset and dataloader"
      ]
    },
    {
      "cell_type": "code",
      "execution_count": 20,
      "metadata": {
        "id": "C-aNGSEp48sA"
      },
      "outputs": [],
      "source": [
        "def collate_fn(batch):\n",
        "  \"\"\"\n",
        "  Custom collate function to handle variable-length sequences and\n",
        "  to collate batches without labels for test data.\n",
        "\n",
        "  Args:\n",
        "    batch: A batch of data from the dataset\n",
        "\n",
        "  Returns:\n",
        "    Dictionary with padded sequences and other batch information\n",
        "  \"\"\"\n",
        "  # Separate batch elements\n",
        "  claims = [item['claim_ids'] for item in batch]\n",
        "  claim_lengths = torch.tensor([item['claim_length'] for item in batch])\n",
        "  evidences = [item['evidence_ids'] for item in batch]\n",
        "  evidence_lengths = torch.tensor([item['evidence_length'] for item in batch])\n",
        "\n",
        "  # Pad sequences\n",
        "  padded_claims = pad_sequence(claims, batch_first=True, padding_value=0)\n",
        "  padded_evidences = pad_sequence(evidences, batch_first=True, padding_value=0)\n",
        "\n",
        "  return {\n",
        "    'claim_ids': padded_claims,\n",
        "    'claim_lengths': claim_lengths,\n",
        "    'evidence_ids': padded_evidences,\n",
        "    'evidence_lengths': evidence_lengths,\n",
        "  }"
      ]
    },
    {
      "cell_type": "code",
      "execution_count": null,
      "metadata": {
        "colab": {
          "base_uri": "https://localhost:8080/"
        },
        "id": "MqPwNaH73Yb_",
        "outputId": "fe5334a6-c998-4c47-9991-d4810b02c098"
      },
      "outputs": [],
      "source": [
        "# Create dataset\n",
        "test_dataset = EvidenceDetectionDataset(test_df, vocab, is_test=True)\n",
        "print(f\"Test dataset created: {len(test_dataset)} samples\")"
      ]
    },
    {
      "cell_type": "code",
      "execution_count": 22,
      "metadata": {
        "id": "NWIofl_E5Ntm"
      },
      "outputs": [],
      "source": [
        "# Create test data loader for testing\n",
        "test_loader = DataLoader(\n",
        "    test_dataset,\n",
        "    batch_size=32,\n",
        "    shuffle=False,\n",
        "    collate_fn=collate_fn\n",
        ")"
      ]
    },
    {
      "cell_type": "markdown",
      "metadata": {
        "id": "QGiSImv2wyTG"
      },
      "source": [
        "### Load the model architecture and weights\n",
        "\n",
        "The model weights \"ED_model_B.pt\" and architecture \"model_architecture_parameters/parameters.pkl\" can be downloaded from the following link:\n",
        "https://drive.google.com/drive/folders/1TWv5UKNsNeQGxafx3GQf87Dc8vcp5V8t"
      ]
    },
    {
      "cell_type": "code",
      "execution_count": null,
      "metadata": {
        "id": "k83WRdv3vnUP"
      },
      "outputs": [],
      "source": [
        "model_path = \"ED_model_B.pt\"\n",
        "\n",
        "# Load the best hyperparameters\n",
        "with open('model_architecture_parameters/parameters.pkl', 'rb') as f:\n",
        "    best_params = pickle.load(f)\n",
        "\n",
        "print(\"Loaded hyperparameters:\", best_params)\n",
        "model = BiLSTMAttention(\n",
        "    vocab_size=len(vocab),\n",
        "    embedding_dim=embedding_dim,\n",
        "    num_layers=1,\n",
        "    hidden_dim=best_params['hidden_dim'],\n",
        "    dropout=best_params['dropout'],\n",
        ")\n",
        "\n",
        "# Load the trained weights\n",
        "model.load_state_dict(torch.load(model_path))\n",
        "model.to(device)\n",
        "print(\"Model loaded successfully.\")\n",
        "print(model)"
      ]
    },
    {
      "cell_type": "markdown",
      "metadata": {
        "id": "IHG7ZMdPcskD"
      },
      "source": [
        "### Test the model"
      ]
    },
    {
      "cell_type": "code",
      "execution_count": null,
      "metadata": {
        "id": "t4J9rWMPtFTz"
      },
      "outputs": [],
      "source": [
        "# Set to evaluation mode\n",
        "model.eval()\n",
        "\n",
        "# Run inference\n",
        "print(\"\\nMaking predictions on test data...\\n\")\n",
        "all_predictions = []\n",
        "\n",
        "with torch.no_grad():\n",
        "    for batch in tqdm(test_loader, desc=\"Testing\"):\n",
        "        # Move batch to device\n",
        "        claim_ids = batch['claim_ids'].to(device)\n",
        "        claim_lengths = batch['claim_lengths']\n",
        "        evidence_ids = batch['evidence_ids'].to(device)\n",
        "        evidence_lengths = batch['evidence_lengths']\n",
        "\n",
        "        # Forward pass\n",
        "        logits, _ = model(claim_ids, claim_lengths, evidence_ids, evidence_lengths)\n",
        "\n",
        "        # Get predictions (0 or 1)\n",
        "        predictions = torch.argmax(logits, dim=1).cpu().numpy()\n",
        "        all_predictions.extend(predictions)\n",
        "\n",
        "# Save predictions to CSV\n",
        "predictions_df = pd.DataFrame({'prediction': all_predictions})\n",
        "predictions_df.to_csv('predictions.csv', index=False)\n",
        "print(f\"Predictions saved to 'predictions.csv'\")"
      ]
    }
  ],
  "metadata": {
    "accelerator": "GPU",
    "colab": {
      "gpuType": "A100",
      "machine_shape": "hm",
      "provenance": []
    },
    "kernelspec": {
      "display_name": "Python 3",
      "name": "python3"
    },
    "language_info": {
      "name": "python"
    }
  },
  "nbformat": 4,
  "nbformat_minor": 0
}
