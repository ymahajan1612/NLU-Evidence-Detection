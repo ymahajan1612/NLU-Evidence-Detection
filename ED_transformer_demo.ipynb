{
  "cells": [
    {
      "cell_type": "markdown",
      "metadata": {
        "id": "OpRz5Ngb3xz7"
      },
      "source": [
        "# **Group 5 ED(C) Deep Learning Approach with the use of Transformers - Demo on the test set**"
      ]
    },
    {
      "cell_type": "markdown",
      "metadata": {
        "id": "4l4RNxN505NE"
      },
      "source": [
        "Import necessary libraries"
      ]
    },
    {
      "cell_type": "code",
      "execution_count": null,
      "metadata": {
        "id": "i3UjvGquLClU"
      },
      "outputs": [],
      "source": [
        "from claims_dataset import ClaimEvidenceDataset\n",
        "from evidence_classifier import EvidenceClassifier\n",
        "import pandas as pd\n",
        "import torch\n",
        "from torch import nn\n",
        "from torch.utils.data import DataLoader"
      ]
    },
    {
      "cell_type": "markdown",
      "metadata": {
        "id": "-vDE0dTk1B9j"
      },
      "source": [
        "Load the test set"
      ]
    },
    {
      "cell_type": "code",
      "execution_count": null,
      "metadata": {
        "id": "b0QIiZe-NZVb"
      },
      "outputs": [],
      "source": [
        "test_df = pd.read_csv('data/test.csv')\n",
        "test_df.head()"
      ]
    },
    {
      "cell_type": "markdown",
      "metadata": {
        "id": "2I1uFUCn5DMP"
      },
      "source": [
        "Load the model and output its structure\n",
        "\n",
        "The 'ED_model_C.pth' model can be downloaded from the following link: https://drive.google.com/drive/folders/1TWv5UKNsNeQGxafx3GQf87Dc8vcp5V8t?usp=sharing"
      ]
    },
    {
      "cell_type": "code",
      "execution_count": null,
      "metadata": {
        "id": "m-C8QyLk5Cva"
      },
      "outputs": [],
      "source": [
        "model_path = 'ED_model_C.pth'\n",
        "model = EvidenceClassifier()\n",
        "model.load_state_dict(torch.load(model_path))\n",
        "print(model)"
      ]
    },
    {
      "cell_type": "markdown",
      "metadata": {
        "id": "YwGTjS_M5lrC"
      },
      "source": [
        "Define the predict function"
      ]
    },
    {
      "cell_type": "code",
      "execution_count": null,
      "metadata": {
        "id": "_pXPL5dNp6px"
      },
      "outputs": [],
      "source": [
        "def predict(test_csv, model_path):\n",
        "  # Set device to cuda to run on GPU\n",
        "  device = torch.device(\"cuda\") if torch.cuda.is_available() else torch.device(\"cpu\")\n",
        "  # Load the model state dictionary\n",
        "  model = EvidenceClassifier().to(device)\n",
        "  model.load_state_dict(torch.load(model_path, map_location=device))\n",
        "\n",
        "  # load the data to evaluate on (in this case the dev dataset)\n",
        "  test_dataset = ClaimEvidenceDataset(test_csv)\n",
        "  test_loader = DataLoader(test_dataset, batch_size=8, shuffle=False)\n",
        "  # set the model to evaluation mode\n",
        "  model.eval()\n",
        "\n",
        "  all_predictions = []\n",
        "  all_probabilities = []\n",
        "\n",
        "  with torch.no_grad():\n",
        "    for batch in test_loader:\n",
        "      input_ids = batch['input_ids'].to(device)\n",
        "      attention_mask = batch['attention_mask'].to(device)\n",
        "      token_type_ids = batch['token_type_ids'].to(device)\n",
        "      labels = batch['labels'].to(device)\n",
        "\n",
        "      logits = model(input_ids, attention_mask, token_type_ids)\n",
        "      probabilities = torch.nn.functional.softmax(logits, dim=1)\n",
        "      predictions = torch.argmax(probabilities, dim=1)\n",
        "\n",
        "      all_predictions.extend(predictions.cpu().numpy())\n",
        "      all_probabilities.extend(probabilities.cpu().numpy())\n",
        "\n",
        "\n",
        "  df = pd.read_csv(test_csv)\n",
        "  df['prediction'] = all_predictions\n",
        "  return df"
      ]
    },
    {
      "cell_type": "markdown",
      "metadata": {
        "id": "zrP6GlG06Vlk"
      },
      "source": [
        "Run the model in inference mode on the test set and print first few predictions"
      ]
    },
    {
      "cell_type": "code",
      "execution_count": null,
      "metadata": {
        "id": "NhTvb9c1_WhV"
      },
      "outputs": [],
      "source": [
        "predictions = predict('data/test.csv', 'ED_model_C.pth')\n",
        "\n",
        "for i in range(10):\n",
        "  print(f\"Evidence: {predictions['evidence'][i]}\")\n",
        "  print(f\"Claim: {predictions['claim'][i]}\")\n",
        "  print(f\"Label: {predictions['label'][i]}\")\n",
        "  print(f\"Prediction: {predictions['prediction'][i]}\")"
      ]
    },
    {
      "cell_type": "markdown",
      "metadata": {
        "id": "EC5CcxKh-UeI"
      },
      "source": [
        "Save the predictions"
      ]
    },
    {
      "cell_type": "code",
      "execution_count": null,
      "metadata": {
        "id": "czUSIdriAZri"
      },
      "outputs": [],
      "source": [
        "predictions['prediction'].to_csv('Group_5_C.csv', index=False)"
      ]
    },
    {
      "cell_type": "markdown",
      "metadata": {
        "id": "KNbD8mr-C3as"
      },
      "source": [
        "Run the model on User Inputs"
      ]
    },
    {
      "cell_type": "code",
      "execution_count": null,
      "metadata": {
        "id": "tTiUDXW5BzYh"
      },
      "outputs": [],
      "source": [
        "claim = input(\"Enter a claim: \")\n",
        "evidence = input(\"Enter an evidence: \")\n",
        "\n",
        "df = pd.DataFrame({'claim': [claim], 'evidence': [evidence]})\n",
        "df.to_csv('data/input.csv', index=False)\n",
        "predictions = predict('data/input.csv', 'ED_model_C.pth')\n",
        "prediction = \"relevant\" if predictions['prediction'][0] == 1 else \"irrelevant\"\n",
        "print(f\"Claim: {predictions['claim'][0]}\")\n",
        "print(f\"Evidence: {predictions['evidence'][0]}\")\n",
        "print(f\"Prediction: {prediction}\")"
      ]
    }
  ],
  "metadata": {
    "accelerator": "GPU",
    "colab": {
      "gpuType": "A100",
      "machine_shape": "hm",
      "provenance": []
    },
    "kernelspec": {
      "display_name": "base",
      "language": "python",
      "name": "python3"
    },
    "language_info": {
      "name": "python",
      "version": "3.12.4"
    }
  },
  "nbformat": 4,
  "nbformat_minor": 0
}
