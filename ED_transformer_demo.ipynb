{
  "nbformat": 4,
  "nbformat_minor": 0,
  "metadata": {
    "colab": {
      "provenance": [],
      "machine_shape": "hm",
      "gpuType": "A100"
    },
    "kernelspec": {
      "name": "python3",
      "display_name": "Python 3"
    },
    "language_info": {
      "name": "python"
    },
    "accelerator": "GPU"
  },
  "cells": [
    {
      "cell_type": "markdown",
      "source": [
        "# **Group 5 ED(C) Deep Learning Approach with the use of Transformers - Demo on the test set**"
      ],
      "metadata": {
        "id": "OpRz5Ngb3xz7"
      }
    },
    {
      "cell_type": "markdown",
      "source": [
        "Import necessary libraries"
      ],
      "metadata": {
        "id": "4l4RNxN505NE"
      }
    },
    {
      "cell_type": "code",
      "source": [
        "from claims_dataset import ClaimEvidenceDataset\n",
        "from evidence_classifier import EvidenceClassifier\n",
        "import pandas as pd\n",
        "import torch\n",
        "from torch import nn\n",
        "from torch.utils.data import DataLoader"
      ],
      "metadata": {
        "id": "i3UjvGquLClU"
      },
      "execution_count": null,
      "outputs": []
    },
    {
      "cell_type": "markdown",
      "source": [
        "Load the dev set"
      ],
      "metadata": {
        "id": "-vDE0dTk1B9j"
      }
    },
    {
      "cell_type": "code",
      "source": [
        "test_df = pd.read_csv('data/test.csv')\n",
        "test_df.head()"
      ],
      "metadata": {
        "id": "b0QIiZe-NZVb"
      },
      "execution_count": null,
      "outputs": []
    },
    {
      "cell_type": "markdown",
      "source": [
        "Load the model and output its structure\n",
        "\n",
        "The 'ED_model_C.pth' model can be downloaded from the following link: https://drive.google.com/drive/folders/1TWv5UKNsNeQGxafx3GQf87Dc8vcp5V8t?usp=sharing"
      ],
      "metadata": {
        "id": "2I1uFUCn5DMP"
      }
    },
    {
      "cell_type": "code",
      "source": [
        "model_path = 'ED_model_C.pth'\n",
        "model = EvidenceClassifier()\n",
        "model.load_state_dict(torch.load(model_path))\n",
        "print(model)"
      ],
      "metadata": {
        "id": "m-C8QyLk5Cva"
      },
      "execution_count": null,
      "outputs": []
    },
    {
      "cell_type": "markdown",
      "source": [
        "Define the predict function"
      ],
      "metadata": {
        "id": "YwGTjS_M5lrC"
      }
    },
    {
      "cell_type": "code",
      "source": [
        "def predict(test_csv, model_path):\n",
        "  # Set device to cuda to run on GPU\n",
        "  device = torch.device(\"cuda\") if torch.cuda.is_available() else torch.device(\"cpu\")\n",
        "  # Load the model state dictionary\n",
        "  model = EvidenceClassifier().to(device)\n",
        "  model.load_state_dict(torch.load(model_path, map_location=device))\n",
        "\n",
        "  # load the data to evaluate on (in this case the dev dataset)\n",
        "  test_dataset = ClaimEvidenceDataset(test_csv)\n",
        "  test_loader = DataLoader(test_dataset, batch_size=8, shuffle=False)\n",
        "  # set the model to evaluation mode\n",
        "  model.eval()\n",
        "\n",
        "  all_predictions = []\n",
        "  all_probabilities = []\n",
        "\n",
        "  with torch.no_grad():\n",
        "    for batch in test_loader:\n",
        "      input_ids = batch['input_ids'].to(device)\n",
        "      attention_mask = batch['attention_mask'].to(device)\n",
        "      token_type_ids = batch['token_type_ids'].to(device)\n",
        "      labels = batch['labels'].to(device)\n",
        "\n",
        "      logits = model(input_ids, attention_mask, token_type_ids)\n",
        "      probabilities = torch.nn.functional.softmax(logits, dim=1)\n",
        "      predictions = torch.argmax(probabilities, dim=1)\n",
        "\n",
        "      all_predictions.extend(predictions.cpu().numpy())\n",
        "      all_probabilities.extend(probabilities.cpu().numpy())\n",
        "\n",
        "\n",
        "  df = pd.read_csv(test_csv)\n",
        "  df['prediction'] = all_predictions\n",
        "  return df"
      ],
      "metadata": {
        "id": "_pXPL5dNp6px"
      },
      "execution_count": null,
      "outputs": []
    },
    {
      "cell_type": "markdown",
      "source": [
        "Run the model in inference mode on the test set and print first few predictions"
      ],
      "metadata": {
        "id": "zrP6GlG06Vlk"
      }
    },
    {
      "cell_type": "code",
      "source": [
        "predictions = predict('data/test.csv', 'best_model.pth')\n",
        "\n",
        "for i in range(10):\n",
        "  print(f\"Evidence: {predictions['evidence'][i]}\")\n",
        "  print(f\"Claim: {predictions['claim'][i]}\")\n",
        "  print(f\"Label: {predictions['label'][i]}\")\n",
        "  print(f\"Prediction: {predictions['prediction'][i]}\")"
      ],
      "metadata": {
        "id": "NhTvb9c1_WhV"
      },
      "execution_count": null,
      "outputs": []
    },
    {
      "cell_type": "markdown",
      "source": [
        "Save the predictions"
      ],
      "metadata": {
        "id": "EC5CcxKh-UeI"
      }
    },
    {
      "cell_type": "code",
      "source": [
        "predictions['prediction'].to_csv('Group_5_C.csv', index=False)"
      ],
      "metadata": {
        "id": "czUSIdriAZri"
      },
      "execution_count": null,
      "outputs": []
    },
    {
      "cell_type": "markdown",
      "source": [
        "Run the model on User Inputs"
      ],
      "metadata": {
        "id": "KNbD8mr-C3as"
      }
    },
    {
      "cell_type": "code",
      "source": [
        "claim = input(\"Enter a claim: \")\n",
        "evidence = input(\"Enter an evidence: \")\n",
        "\n",
        "df = pd.DataFrame({'claim': [claim], 'evidence': [evidence]})\n",
        "df.to_csv('data/input.csv', index=False)\n",
        "predictions = predict('data/input.csv', 'best_model.pth')\n",
        "prediction = \"relevant\" if predictions['prediction'][0] == 1 else \"irrelevant\"\n",
        "print(f\"Claim: {predictions['claim'][0]}\")\n",
        "print(f\"Evidence: {predictions['evidence'][0]}\")\n",
        "print(f\"Prediction: {prediction}\")"
      ],
      "metadata": {
        "id": "tTiUDXW5BzYh"
      },
      "execution_count": null,
      "outputs": []
    }
  ]
}