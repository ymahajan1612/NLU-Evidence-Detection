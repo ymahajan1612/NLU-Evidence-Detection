{
  "nbformat": 4,
  "nbformat_minor": 0,
  "metadata": {
    "colab": {
      "provenance": [],
      "machine_shape": "hm",
      "gpuType": "A100"
    },
    "kernelspec": {
      "name": "python3",
      "display_name": "Python 3"
    },
    "language_info": {
      "name": "python"
    },
    "accelerator": "GPU"
  },
  "cells": [
    {
      "cell_type": "markdown",
      "source": [
        "## Evaluating the BiLSTM with Attention model on the dev set"
      ],
      "metadata": {
        "id": "yS7EQfepo9i1"
      }
    },
    {
      "cell_type": "markdown",
      "source": [
        "### Dependency Management"
      ],
      "metadata": {
        "id": "KB8D5CYgpk7p"
      }
    },
    {
      "cell_type": "code",
      "source": [
        "import torch\n",
        "from torch.utils.data import DataLoader\n",
        "from torch.nn.utils.rnn import pad_sequence\n",
        "from torch import nn\n",
        "import os\n",
        "import pickle\n",
        "import nltk\n",
        "from tqdm import tqdm\n",
        "import pandas as pd\n",
        "import numpy as np\n",
        "from sklearn.metrics import accuracy_score, precision_score, recall_score, f1_score, roc_curve, roc_auc_score\n",
        "import matplotlib.pyplot as plt\n",
        "from sklearn.metrics import confusion_matrix, ConfusionMatrixDisplay"
      ],
      "metadata": {
        "id": "DYC7_skopecw"
      },
      "execution_count": 15,
      "outputs": []
    },
    {
      "cell_type": "code",
      "source": [
        "# Create a directory for NLTK data\n",
        "nltk_data_dir = os.path.join(os.getcwd(), 'nltk_data')\n",
        "os.makedirs(nltk_data_dir, exist_ok=True)\n",
        "\n",
        "# Set the NLTK data path\n",
        "nltk.data.path.append(nltk_data_dir)\n",
        "\n",
        "# Download punkt to the specified directory\n",
        "nltk.download('punkt_tab', download_dir=nltk_data_dir)"
      ],
      "metadata": {
        "colab": {
          "base_uri": "https://localhost:8080/"
        },
        "id": "JtI1eElKYIZr",
        "outputId": "c3e8f72b-800a-4c14-a72e-95470d621347"
      },
      "execution_count": 2,
      "outputs": [
        {
          "output_type": "stream",
          "name": "stderr",
          "text": [
            "[nltk_data] Downloading package punkt_tab to /content/nltk_data...\n",
            "[nltk_data]   Unzipping tokenizers/punkt_tab.zip.\n"
          ]
        },
        {
          "output_type": "execute_result",
          "data": {
            "text/plain": [
              "True"
            ]
          },
          "metadata": {},
          "execution_count": 2
        }
      ]
    },
    {
      "cell_type": "code",
      "source": [
        "# Set random seed for reproducibility\n",
        "torch.manual_seed(42)\n",
        "np.random.seed(42)\n",
        "if torch.cuda.is_available():\n",
        "    torch.cuda.manual_seed_all(42)\n",
        "\n",
        "# Device configuration\n",
        "device = torch.device('cuda' if torch.cuda.is_available() else 'cpu')\n",
        "print(f\"Using device: {device}\")"
      ],
      "metadata": {
        "id": "8nyJTe2ZqOd0",
        "colab": {
          "base_uri": "https://localhost:8080/"
        },
        "outputId": "134f1168-1295-41be-d6c1-b7df23e47fbf"
      },
      "execution_count": 3,
      "outputs": [
        {
          "output_type": "stream",
          "name": "stdout",
          "text": [
            "Using device: cuda\n"
          ]
        }
      ]
    },
    {
      "cell_type": "code",
      "source": [
        "from evidence_detection.bilstm_with_attention import BiLSTMAttention\n",
        "from evidence_detection.vocabulary import Vocabulary\n",
        "from evidence_detection.evidence_detection_dataset import EvidenceDetectionDataset"
      ],
      "metadata": {
        "id": "N3LTpB8A-ESd"
      },
      "execution_count": 4,
      "outputs": []
    },
    {
      "cell_type": "markdown",
      "source": [
        "### Load dev set"
      ],
      "metadata": {
        "id": "MKasxKSfo0fb"
      }
    },
    {
      "cell_type": "code",
      "execution_count": 5,
      "metadata": {
        "id": "CrV2RmNcGq6u",
        "colab": {
          "base_uri": "https://localhost:8080/",
          "height": 206
        },
        "outputId": "aa361007-27f7-4a66-8743-bd8deb523878"
      },
      "outputs": [
        {
          "output_type": "execute_result",
          "data": {
            "text/plain": [
              "                                 Claim  \\\n",
              "0  Democracy should be done away with.   \n",
              "1       Polygamy should be made legal.   \n",
              "2             Hunting should be banned   \n",
              "3       Television should be given up.   \n",
              "4    Abortions ought to be prohibited.   \n",
              "\n",
              "                                            Evidence  label  \n",
              "0  Amartya Sen, an Indian economist and Nobel lau...      0  \n",
              "1  The Supreme Court's unanimous decision in Reyn...      1  \n",
              "2  In total it is estimated that Ceauşescu receiv...      0  \n",
              "3  Barbera mentioned that they had to either adju...      0  \n",
              "4  According to a poll conducted by Angus Reid St...      1  "
            ],
            "text/html": [
              "\n",
              "  <div id=\"df-bba64975-a812-4739-8dd0-89eb3887d55b\" class=\"colab-df-container\">\n",
              "    <div>\n",
              "<style scoped>\n",
              "    .dataframe tbody tr th:only-of-type {\n",
              "        vertical-align: middle;\n",
              "    }\n",
              "\n",
              "    .dataframe tbody tr th {\n",
              "        vertical-align: top;\n",
              "    }\n",
              "\n",
              "    .dataframe thead th {\n",
              "        text-align: right;\n",
              "    }\n",
              "</style>\n",
              "<table border=\"1\" class=\"dataframe\">\n",
              "  <thead>\n",
              "    <tr style=\"text-align: right;\">\n",
              "      <th></th>\n",
              "      <th>Claim</th>\n",
              "      <th>Evidence</th>\n",
              "      <th>label</th>\n",
              "    </tr>\n",
              "  </thead>\n",
              "  <tbody>\n",
              "    <tr>\n",
              "      <th>0</th>\n",
              "      <td>Democracy should be done away with.</td>\n",
              "      <td>Amartya Sen, an Indian economist and Nobel lau...</td>\n",
              "      <td>0</td>\n",
              "    </tr>\n",
              "    <tr>\n",
              "      <th>1</th>\n",
              "      <td>Polygamy should be made legal.</td>\n",
              "      <td>The Supreme Court's unanimous decision in Reyn...</td>\n",
              "      <td>1</td>\n",
              "    </tr>\n",
              "    <tr>\n",
              "      <th>2</th>\n",
              "      <td>Hunting should be banned</td>\n",
              "      <td>In total it is estimated that Ceauşescu receiv...</td>\n",
              "      <td>0</td>\n",
              "    </tr>\n",
              "    <tr>\n",
              "      <th>3</th>\n",
              "      <td>Television should be given up.</td>\n",
              "      <td>Barbera mentioned that they had to either adju...</td>\n",
              "      <td>0</td>\n",
              "    </tr>\n",
              "    <tr>\n",
              "      <th>4</th>\n",
              "      <td>Abortions ought to be prohibited.</td>\n",
              "      <td>According to a poll conducted by Angus Reid St...</td>\n",
              "      <td>1</td>\n",
              "    </tr>\n",
              "  </tbody>\n",
              "</table>\n",
              "</div>\n",
              "    <div class=\"colab-df-buttons\">\n",
              "\n",
              "  <div class=\"colab-df-container\">\n",
              "    <button class=\"colab-df-convert\" onclick=\"convertToInteractive('df-bba64975-a812-4739-8dd0-89eb3887d55b')\"\n",
              "            title=\"Convert this dataframe to an interactive table.\"\n",
              "            style=\"display:none;\">\n",
              "\n",
              "  <svg xmlns=\"http://www.w3.org/2000/svg\" height=\"24px\" viewBox=\"0 -960 960 960\">\n",
              "    <path d=\"M120-120v-720h720v720H120Zm60-500h600v-160H180v160Zm220 220h160v-160H400v160Zm0 220h160v-160H400v160ZM180-400h160v-160H180v160Zm440 0h160v-160H620v160ZM180-180h160v-160H180v160Zm440 0h160v-160H620v160Z\"/>\n",
              "  </svg>\n",
              "    </button>\n",
              "\n",
              "  <style>\n",
              "    .colab-df-container {\n",
              "      display:flex;\n",
              "      gap: 12px;\n",
              "    }\n",
              "\n",
              "    .colab-df-convert {\n",
              "      background-color: #E8F0FE;\n",
              "      border: none;\n",
              "      border-radius: 50%;\n",
              "      cursor: pointer;\n",
              "      display: none;\n",
              "      fill: #1967D2;\n",
              "      height: 32px;\n",
              "      padding: 0 0 0 0;\n",
              "      width: 32px;\n",
              "    }\n",
              "\n",
              "    .colab-df-convert:hover {\n",
              "      background-color: #E2EBFA;\n",
              "      box-shadow: 0px 1px 2px rgba(60, 64, 67, 0.3), 0px 1px 3px 1px rgba(60, 64, 67, 0.15);\n",
              "      fill: #174EA6;\n",
              "    }\n",
              "\n",
              "    .colab-df-buttons div {\n",
              "      margin-bottom: 4px;\n",
              "    }\n",
              "\n",
              "    [theme=dark] .colab-df-convert {\n",
              "      background-color: #3B4455;\n",
              "      fill: #D2E3FC;\n",
              "    }\n",
              "\n",
              "    [theme=dark] .colab-df-convert:hover {\n",
              "      background-color: #434B5C;\n",
              "      box-shadow: 0px 1px 3px 1px rgba(0, 0, 0, 0.15);\n",
              "      filter: drop-shadow(0px 1px 2px rgba(0, 0, 0, 0.3));\n",
              "      fill: #FFFFFF;\n",
              "    }\n",
              "  </style>\n",
              "\n",
              "    <script>\n",
              "      const buttonEl =\n",
              "        document.querySelector('#df-bba64975-a812-4739-8dd0-89eb3887d55b button.colab-df-convert');\n",
              "      buttonEl.style.display =\n",
              "        google.colab.kernel.accessAllowed ? 'block' : 'none';\n",
              "\n",
              "      async function convertToInteractive(key) {\n",
              "        const element = document.querySelector('#df-bba64975-a812-4739-8dd0-89eb3887d55b');\n",
              "        const dataTable =\n",
              "          await google.colab.kernel.invokeFunction('convertToInteractive',\n",
              "                                                    [key], {});\n",
              "        if (!dataTable) return;\n",
              "\n",
              "        const docLinkHtml = 'Like what you see? Visit the ' +\n",
              "          '<a target=\"_blank\" href=https://colab.research.google.com/notebooks/data_table.ipynb>data table notebook</a>'\n",
              "          + ' to learn more about interactive tables.';\n",
              "        element.innerHTML = '';\n",
              "        dataTable['output_type'] = 'display_data';\n",
              "        await google.colab.output.renderOutput(dataTable, element);\n",
              "        const docLink = document.createElement('div');\n",
              "        docLink.innerHTML = docLinkHtml;\n",
              "        element.appendChild(docLink);\n",
              "      }\n",
              "    </script>\n",
              "  </div>\n",
              "\n",
              "\n",
              "<div id=\"df-c1576d30-2dc4-483f-9f53-4d90afab317a\">\n",
              "  <button class=\"colab-df-quickchart\" onclick=\"quickchart('df-c1576d30-2dc4-483f-9f53-4d90afab317a')\"\n",
              "            title=\"Suggest charts\"\n",
              "            style=\"display:none;\">\n",
              "\n",
              "<svg xmlns=\"http://www.w3.org/2000/svg\" height=\"24px\"viewBox=\"0 0 24 24\"\n",
              "     width=\"24px\">\n",
              "    <g>\n",
              "        <path d=\"M19 3H5c-1.1 0-2 .9-2 2v14c0 1.1.9 2 2 2h14c1.1 0 2-.9 2-2V5c0-1.1-.9-2-2-2zM9 17H7v-7h2v7zm4 0h-2V7h2v10zm4 0h-2v-4h2v4z\"/>\n",
              "    </g>\n",
              "</svg>\n",
              "  </button>\n",
              "\n",
              "<style>\n",
              "  .colab-df-quickchart {\n",
              "      --bg-color: #E8F0FE;\n",
              "      --fill-color: #1967D2;\n",
              "      --hover-bg-color: #E2EBFA;\n",
              "      --hover-fill-color: #174EA6;\n",
              "      --disabled-fill-color: #AAA;\n",
              "      --disabled-bg-color: #DDD;\n",
              "  }\n",
              "\n",
              "  [theme=dark] .colab-df-quickchart {\n",
              "      --bg-color: #3B4455;\n",
              "      --fill-color: #D2E3FC;\n",
              "      --hover-bg-color: #434B5C;\n",
              "      --hover-fill-color: #FFFFFF;\n",
              "      --disabled-bg-color: #3B4455;\n",
              "      --disabled-fill-color: #666;\n",
              "  }\n",
              "\n",
              "  .colab-df-quickchart {\n",
              "    background-color: var(--bg-color);\n",
              "    border: none;\n",
              "    border-radius: 50%;\n",
              "    cursor: pointer;\n",
              "    display: none;\n",
              "    fill: var(--fill-color);\n",
              "    height: 32px;\n",
              "    padding: 0;\n",
              "    width: 32px;\n",
              "  }\n",
              "\n",
              "  .colab-df-quickchart:hover {\n",
              "    background-color: var(--hover-bg-color);\n",
              "    box-shadow: 0 1px 2px rgba(60, 64, 67, 0.3), 0 1px 3px 1px rgba(60, 64, 67, 0.15);\n",
              "    fill: var(--button-hover-fill-color);\n",
              "  }\n",
              "\n",
              "  .colab-df-quickchart-complete:disabled,\n",
              "  .colab-df-quickchart-complete:disabled:hover {\n",
              "    background-color: var(--disabled-bg-color);\n",
              "    fill: var(--disabled-fill-color);\n",
              "    box-shadow: none;\n",
              "  }\n",
              "\n",
              "  .colab-df-spinner {\n",
              "    border: 2px solid var(--fill-color);\n",
              "    border-color: transparent;\n",
              "    border-bottom-color: var(--fill-color);\n",
              "    animation:\n",
              "      spin 1s steps(1) infinite;\n",
              "  }\n",
              "\n",
              "  @keyframes spin {\n",
              "    0% {\n",
              "      border-color: transparent;\n",
              "      border-bottom-color: var(--fill-color);\n",
              "      border-left-color: var(--fill-color);\n",
              "    }\n",
              "    20% {\n",
              "      border-color: transparent;\n",
              "      border-left-color: var(--fill-color);\n",
              "      border-top-color: var(--fill-color);\n",
              "    }\n",
              "    30% {\n",
              "      border-color: transparent;\n",
              "      border-left-color: var(--fill-color);\n",
              "      border-top-color: var(--fill-color);\n",
              "      border-right-color: var(--fill-color);\n",
              "    }\n",
              "    40% {\n",
              "      border-color: transparent;\n",
              "      border-right-color: var(--fill-color);\n",
              "      border-top-color: var(--fill-color);\n",
              "    }\n",
              "    60% {\n",
              "      border-color: transparent;\n",
              "      border-right-color: var(--fill-color);\n",
              "    }\n",
              "    80% {\n",
              "      border-color: transparent;\n",
              "      border-right-color: var(--fill-color);\n",
              "      border-bottom-color: var(--fill-color);\n",
              "    }\n",
              "    90% {\n",
              "      border-color: transparent;\n",
              "      border-bottom-color: var(--fill-color);\n",
              "    }\n",
              "  }\n",
              "</style>\n",
              "\n",
              "  <script>\n",
              "    async function quickchart(key) {\n",
              "      const quickchartButtonEl =\n",
              "        document.querySelector('#' + key + ' button');\n",
              "      quickchartButtonEl.disabled = true;  // To prevent multiple clicks.\n",
              "      quickchartButtonEl.classList.add('colab-df-spinner');\n",
              "      try {\n",
              "        const charts = await google.colab.kernel.invokeFunction(\n",
              "            'suggestCharts', [key], {});\n",
              "      } catch (error) {\n",
              "        console.error('Error during call to suggestCharts:', error);\n",
              "      }\n",
              "      quickchartButtonEl.classList.remove('colab-df-spinner');\n",
              "      quickchartButtonEl.classList.add('colab-df-quickchart-complete');\n",
              "    }\n",
              "    (() => {\n",
              "      let quickchartButtonEl =\n",
              "        document.querySelector('#df-c1576d30-2dc4-483f-9f53-4d90afab317a button');\n",
              "      quickchartButtonEl.style.display =\n",
              "        google.colab.kernel.accessAllowed ? 'block' : 'none';\n",
              "    })();\n",
              "  </script>\n",
              "</div>\n",
              "\n",
              "    </div>\n",
              "  </div>\n"
            ],
            "application/vnd.google.colaboratory.intrinsic+json": {
              "type": "dataframe",
              "variable_name": "dev_df",
              "summary": "{\n  \"name\": \"dev_df\",\n  \"rows\": 5926,\n  \"fields\": [\n    {\n      \"column\": \"Claim\",\n      \"properties\": {\n        \"dtype\": \"category\",\n        \"num_unique_values\": 1143,\n        \"samples\": [\n          \"Abortions should be prohibited.\",\n          \"Implementing universal health care should be our goal.\",\n          \"Lotteries should be prohibited.\"\n        ],\n        \"semantic_type\": \"\",\n        \"description\": \"\"\n      }\n    },\n    {\n      \"column\": \"Evidence\",\n      \"properties\": {\n        \"dtype\": \"string\",\n        \"num_unique_values\": 5926,\n        \"samples\": [\n          \"A study in the UK found that foster children were 7-8 times more likely and children in residential care were 6 times more likely to be evaluated by a pediatrician for abuse compared to children from the general population\",\n          \"In 1995, IOC President Juan Antonio Samaranch stated, \\\"the International Olympic Committee is resolved to ensure that the environment becomes the third dimension of the organization of the Olympic Games, the first and second being sport and culture.\\\"[REF]\",\n          \" However, homeopathic remedies that are less diluted than D4, or for which a danger of adverse effects exists, cannot be registered under this rule [REF]. They can be sold over-the-counter in pharmacies.\"\n        ],\n        \"semantic_type\": \"\",\n        \"description\": \"\"\n      }\n    },\n    {\n      \"column\": \"label\",\n      \"properties\": {\n        \"dtype\": \"number\",\n        \"std\": 0,\n        \"min\": 0,\n        \"max\": 1,\n        \"num_unique_values\": 2,\n        \"samples\": [\n          1,\n          0\n        ],\n        \"semantic_type\": \"\",\n        \"description\": \"\"\n      }\n    }\n  ]\n}"
            }
          },
          "metadata": {},
          "execution_count": 5
        }
      ],
      "source": [
        "dev_path = 'data/dev.csv'\n",
        "dev_df = pd.read_csv(dev_path)\n",
        "\n",
        "dev_df.head()"
      ]
    },
    {
      "cell_type": "markdown",
      "source": [
        "### Load the vocabulary and set the embedding dimension\n",
        "\n",
        "The vocabulary \"vocab.pkl\" an be downloaded from the following link: https://drive.google.com/drive/folders/1TWv5UKNsNeQGxafx3GQf87Dc8vcp5V8t"
      ],
      "metadata": {
        "id": "4Ddb9kXBQu6f"
      }
    },
    {
      "cell_type": "code",
      "source": [
        "# Load vocabulary\n",
        "with open('vocab.pkl', 'rb') as f:\n",
        "    vocab = pickle.load(f)"
      ],
      "metadata": {
        "id": "xmQ5wmJS292k"
      },
      "execution_count": 6,
      "outputs": []
    },
    {
      "cell_type": "code",
      "source": [
        "# Use the same embedding dimension used in training\n",
        "embedding_dim = 300"
      ],
      "metadata": {
        "id": "IjTPin1qX8m7"
      },
      "execution_count": 7,
      "outputs": []
    },
    {
      "cell_type": "markdown",
      "source": [
        "### Create evaluation dataset and dataloader"
      ],
      "metadata": {
        "id": "Xdptq83IScgZ"
      }
    },
    {
      "cell_type": "code",
      "source": [
        "def collate_fn(batch):\n",
        "  \"\"\"\n",
        "  Custom collate function to handle variable-length sequences.\n",
        "\n",
        "  Args:\n",
        "    batch: A batch of data from the dataset\n",
        "\n",
        "  Returns:\n",
        "    Dictionary with padded sequences and other batch information\n",
        "  \"\"\"\n",
        "  # Separate batch elements\n",
        "  claims = [item['claim_ids'] for item in batch]\n",
        "  claim_lengths = torch.tensor([item['claim_length'] for item in batch])\n",
        "  evidences = [item['evidence_ids'] for item in batch]\n",
        "  evidence_lengths = torch.tensor([item['evidence_length'] for item in batch])\n",
        "  labels = torch.stack([item['label'] for item in batch])\n",
        "\n",
        "  # Pad sequences\n",
        "  padded_claims = pad_sequence(claims, batch_first=True, padding_value=0)\n",
        "  padded_evidences = pad_sequence(evidences, batch_first=True, padding_value=0)\n",
        "\n",
        "  return {\n",
        "    'claim_ids': padded_claims,\n",
        "    'claim_lengths': claim_lengths,\n",
        "    'evidence_ids': padded_evidences,\n",
        "    'evidence_lengths': evidence_lengths,\n",
        "    'labels': labels\n",
        "  }"
      ],
      "metadata": {
        "id": "C-aNGSEp48sA"
      },
      "execution_count": 8,
      "outputs": []
    },
    {
      "cell_type": "code",
      "source": [
        "# Create dataset\n",
        "dev_dataset = EvidenceDetectionDataset(dev_df, vocab)"
      ],
      "metadata": {
        "id": "MqPwNaH73Yb_"
      },
      "execution_count": 9,
      "outputs": []
    },
    {
      "cell_type": "code",
      "source": [
        "# Create evaluation data loader for evaluation\n",
        "dev_loader = DataLoader(\n",
        "    dev_dataset,\n",
        "    batch_size=32,\n",
        "    shuffle=False,\n",
        "    collate_fn=collate_fn\n",
        ")"
      ],
      "metadata": {
        "id": "NWIofl_E5Ntm"
      },
      "execution_count": 10,
      "outputs": []
    },
    {
      "cell_type": "markdown",
      "source": [
        "### Load the model architecture and weights\n",
        "\n",
        "The model weights \"ED_model_B.pt\" and architecture \"model_architecture_parameters/parameters.pkl\" can be downloaded from the following link:\n",
        "https://drive.google.com/drive/folders/1TWv5UKNsNeQGxafx3GQf87Dc8vcp5V8t"
      ],
      "metadata": {
        "id": "QGiSImv2wyTG"
      }
    },
    {
      "cell_type": "code",
      "source": [
        "model_path = \"ED_model_B.pt\"\n",
        "\n",
        "# Load the best hyperparameters\n",
        "with open('model_architecture_parameters/parameters.pkl', 'rb') as f:\n",
        "    best_params = pickle.load(f)\n",
        "\n",
        "print(\"Loaded hyperparameters:\", best_params)\n",
        "model = BiLSTMAttention(\n",
        "    vocab_size=len(vocab),\n",
        "    embedding_dim=embedding_dim,\n",
        "    num_layers=1,\n",
        "    hidden_dim=best_params['hidden_dim'],\n",
        "    dropout=best_params['dropout'],\n",
        ")\n",
        "\n",
        "# Load the trained weights\n",
        "model.load_state_dict(torch.load(model_path))\n",
        "model.to(device)\n",
        "print(\"\\nModel loaded successfully.\\n\")\n",
        "print(model)"
      ],
      "metadata": {
        "colab": {
          "base_uri": "https://localhost:8080/"
        },
        "id": "k83WRdv3vnUP",
        "outputId": "b78cde11-aff7-4390-8d2b-79a112a463e4"
      },
      "execution_count": 11,
      "outputs": [
        {
          "output_type": "stream",
          "name": "stdout",
          "text": [
            "Loaded hyperparameters: {'hidden_dim': 256, 'dropout': 0.4277148867646843, 'batch_size': 16, 'learning_rate': 0.00033550020021625327, 'weight_decay': 1.8390870324768507e-05}\n",
            "\n",
            "Model loaded successfully.\n",
            "\n",
            "BiLSTMAttention(\n",
            "  (embedding): Embedding(12686, 300, padding_idx=0)\n",
            "  (lstm_claim): LSTM(300, 128, batch_first=True, bidirectional=True)\n",
            "  (lstm_evidence): LSTM(300, 128, batch_first=True, bidirectional=True)\n",
            "  (attention_claim): AttentionLayer(\n",
            "    (attention): Linear(in_features=256, out_features=1, bias=True)\n",
            "  )\n",
            "  (attention_evidence): AttentionLayer(\n",
            "    (attention): Linear(in_features=256, out_features=1, bias=True)\n",
            "  )\n",
            "  (dropout): Dropout(p=0.4277148867646843, inplace=False)\n",
            "  (classifier): Sequential(\n",
            "    (0): Linear(in_features=768, out_features=256, bias=True)\n",
            "    (1): ReLU()\n",
            "    (2): Dropout(p=0.4277148867646843, inplace=False)\n",
            "    (3): Linear(in_features=256, out_features=2, bias=True)\n",
            "  )\n",
            ")\n"
          ]
        }
      ]
    },
    {
      "cell_type": "markdown",
      "source": [
        "### Run the model in inference mode"
      ],
      "metadata": {
        "id": "kGj6oij-TXNE"
      }
    },
    {
      "cell_type": "code",
      "source": [
        "print(\"\\nPerforming evaluation on dev.csv...\\n\")\n",
        "\n",
        "# Set to evaluation mode\n",
        "model.eval()\n",
        "\n",
        "test_loss = 0.0\n",
        "all_predictions = []\n",
        "all_labels = []\n",
        "\n",
        "with torch.no_grad():\n",
        "    for batch in tqdm(dev_loader, desc=\"Evaluating\"):\n",
        "        # Move batch to device\n",
        "        claim_ids = batch['claim_ids'].to(device)\n",
        "        claim_lengths = batch['claim_lengths']\n",
        "        evidence_ids = batch['evidence_ids'].to(device)\n",
        "        evidence_lengths = batch['evidence_lengths']\n",
        "        labels = batch['labels'].to(device)\n",
        "\n",
        "        # Forward pass\n",
        "        logits, _ = model(claim_ids, claim_lengths, evidence_ids, evidence_lengths)\n",
        "        loss = nn.CrossEntropyLoss()(logits, labels)\n",
        "\n",
        "        # Accumulate metrics\n",
        "        test_loss += loss.item()\n",
        "        predictions = torch.argmax(logits, dim=1).cpu().numpy()\n",
        "        all_predictions.extend(predictions)\n",
        "        all_labels.extend(labels.cpu().numpy())\n",
        "\n",
        "# Calculate metrics\n",
        "accuracy = accuracy_score(all_labels, all_predictions)\n",
        "\n",
        "# Weighted\n",
        "precision_weighted = precision_score(all_labels, all_predictions, average='weighted')\n",
        "recall_weighted = recall_score(all_labels, all_predictions, average='weighted')\n",
        "f1_weighted = f1_score(all_labels, all_predictions, average='weighted')\n",
        "\n",
        "# Macro\n",
        "precision_macro = precision_score(all_labels, all_predictions, average='macro')\n",
        "recall_macro = recall_score(all_labels, all_predictions, average='macro')\n",
        "f1_macro = f1_score(all_labels, all_predictions, average='macro')\n",
        "\n",
        "# Micro\n",
        "precision_micro = precision_score(all_labels, all_predictions, average='micro')\n",
        "recall_micro = recall_score(all_labels, all_predictions, average='micro')\n",
        "f1_micro = f1_score(all_labels, all_predictions, average='micro')\n",
        "\n",
        "print(\"\\nTest Set Metrics:\")\n",
        "print(\"-\" * 30)\n",
        "print(f\"\\nAccuracy: {accuracy:.4f}\")\n",
        "print(\"\\n\")\n",
        "\n",
        "print(f\"Precision_weighted: {precision_weighted:.4f}\")\n",
        "print(f\"Recall_weighted: {recall_weighted:.4f}\")\n",
        "print(f\"F1_weighted Score: {f1_weighted:.4f}\")\n",
        "print(\"\\n\")\n",
        "\n",
        "print(f\"Precision_macro: {precision_macro:.4f}\")\n",
        "print(f\"Recall_macro: {recall_macro:.4f}\")\n",
        "print(f\"F1_macro Score: {f1_macro:.4f}\")\n",
        "print(\"\\n\")\n",
        "\n",
        "print(f\"Precision_micro: {precision_micro:.4f}\")\n",
        "print(f\"Recall_micro: {recall_micro:.4f}\")\n",
        "print(f\"F1_micro Score: {f1_micro:.4f}\")"
      ],
      "metadata": {
        "colab": {
          "base_uri": "https://localhost:8080/"
        },
        "id": "oJ80V7Lr3tfP",
        "outputId": "0fbcdf93-f186-498c-bf1f-7e79bb72f1bd"
      },
      "execution_count": 12,
      "outputs": [
        {
          "output_type": "stream",
          "name": "stdout",
          "text": [
            "\n",
            "Performing evaluation on dev.csv...\n",
            "\n"
          ]
        },
        {
          "output_type": "stream",
          "name": "stderr",
          "text": [
            "Evaluating: 100%|██████████| 186/186 [00:03<00:00, 52.58it/s]"
          ]
        },
        {
          "output_type": "stream",
          "name": "stdout",
          "text": [
            "\n",
            "Test Set Metrics:\n",
            "------------------------------\n",
            "\n",
            "Accuracy: 0.8176\n",
            "\n",
            "\n",
            "Precision_weighted: 0.8141\n",
            "Recall_weighted: 0.8176\n",
            "F1_weighted Score: 0.8155\n",
            "\n",
            "\n",
            "Precision_macro: 0.7737\n",
            "Recall_macro: 0.7613\n",
            "F1_macro Score: 0.7670\n",
            "\n",
            "\n",
            "Precision_micro: 0.8176\n",
            "Recall_micro: 0.8176\n",
            "F1_micro Score: 0.8176\n"
          ]
        },
        {
          "output_type": "stream",
          "name": "stderr",
          "text": [
            "\n"
          ]
        }
      ]
    },
    {
      "cell_type": "code",
      "source": [
        "fpr, tpr, _ = roc_curve(all_labels, all_predictions)\n",
        "auc = roc_auc_score(all_labels, all_predictions)\n",
        "\n",
        "plt.plot(fpr, tpr, color='red', label=f'ROC Curve (AUC = {auc:.2f})')\n",
        "plt.plot([0, 1], [0, 1], color='navy', linestyle='--', label='Random Guessing')\n",
        "plt.xlabel('False Positive Rate')\n",
        "plt.ylabel('True Positive Rate')\n",
        "plt.title('Receiver Operating Characteristic (ROC) Curve')\n",
        "plt.legend()\n",
        "plt.grid(True, alpha=0.5)\n",
        "plt.show()"
      ],
      "metadata": {
        "colab": {
          "base_uri": "https://localhost:8080/",
          "height": 472
        },
        "id": "mFWagEHH58XW",
        "outputId": "35200e4d-cfa6-4a35-bb8f-fb884aa28e05"
      },
      "execution_count": 13,
      "outputs": [
        {
          "output_type": "display_data",
          "data": {
            "text/plain": [
              "<Figure size 640x480 with 1 Axes>"
            ],
            "image/png": "[encoded data removed]"
          },
          "metadata": {}
        }
      ]
    },
    {
      "cell_type": "code",
      "source": [
        "# Compute confusion matrix\n",
        "cm = confusion_matrix(all_labels, all_predictions)\n",
        "\n",
        "# Create a figure\n",
        "fig, ax = plt.subplots(figsize=(8, 6))\n",
        "\n",
        "# Plot the confusion matrix\n",
        "disp = ConfusionMatrixDisplay(confusion_matrix=cm, display_labels=['0', '1'])\n",
        "disp.plot(cmap=plt.cm.Blues, ax=ax)\n",
        "\n",
        "plt.grid(False)\n",
        "plt.tight_layout()\n",
        "plt.show()"
      ],
      "metadata": {
        "colab": {
          "base_uri": "https://localhost:8080/",
          "height": 607
        },
        "id": "8z2u--_vDmg8",
        "outputId": "5662d6b1-bda7-4e5c-c16a-b4179daf0c17"
      },
      "execution_count": 28,
      "outputs": [
        {
          "output_type": "display_data",
          "data": {
            "text/plain": [
              "<Figure size 800x600 with 2 Axes>"
            ],
            "image/png": "[encoded data removed]"
          },
          "metadata": {}
        }
      ]
    }
  ]
}