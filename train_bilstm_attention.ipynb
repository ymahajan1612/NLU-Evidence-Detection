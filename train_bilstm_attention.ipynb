{
  "nbformat": 4,
  "nbformat_minor": 0,
  "metadata": {
    "colab": {
      "provenance": [],
      "machine_shape": "hm",
      "gpuType": "A100"
    },
    "kernelspec": {
      "name": "python3",
      "display_name": "Python 3"
    },
    "language_info": {
      "name": "python"
    },
    "accelerator": "GPU"
  },
  "cells": [
    {
      "cell_type": "markdown",
      "source": [
        "# Evidence Detection\n",
        "\n",
        "## Data is in the form of: Claim, Evidence, Labels\n",
        "\n",
        "## Labels\n",
        "- **1 (Relevant)** - The evidence supports or is related to the claim.\n",
        "- **0 (Not Relevant)** – The evidence does not support or is unrelated to the claim."
      ],
      "metadata": {
        "id": "IiaRhQWzOf7i"
      }
    },
    {
      "cell_type": "markdown",
      "source": [
        "### Dependency Management"
      ],
      "metadata": {
        "id": "3eMIU_UuOEam"
      }
    },
    {
      "cell_type": "code",
      "source": [
        "!pip install optuna"
      ],
      "metadata": {
        "colab": {
          "base_uri": "https://localhost:8080/"
        },
        "id": "dTnVcWGS5goX",
        "outputId": "600ac0dc-2d45-406a-8048-ce6c5838b3ab"
      },
      "execution_count": 1,
      "outputs": [
        {
          "output_type": "stream",
          "name": "stdout",
          "text": [
            "Collecting optuna\n",
            "  Downloading optuna-4.2.1-py3-none-any.whl.metadata (17 kB)\n",
            "Collecting alembic>=1.5.0 (from optuna)\n",
            "  Downloading alembic-1.15.1-py3-none-any.whl.metadata (7.2 kB)\n",
            "Collecting colorlog (from optuna)\n",
            "  Downloading colorlog-6.9.0-py3-none-any.whl.metadata (10 kB)\n",
            "Requirement already satisfied: numpy in /usr/local/lib/python3.11/dist-packages (from optuna) (2.0.2)\n",
            "Requirement already satisfied: packaging>=20.0 in /usr/local/lib/python3.11/dist-packages (from optuna) (24.2)\n",
            "Requirement already satisfied: sqlalchemy>=1.4.2 in /usr/local/lib/python3.11/dist-packages (from optuna) (2.0.39)\n",
            "Requirement already satisfied: tqdm in /usr/local/lib/python3.11/dist-packages (from optuna) (4.67.1)\n",
            "Requirement already satisfied: PyYAML in /usr/local/lib/python3.11/dist-packages (from optuna) (6.0.2)\n",
            "Requirement already satisfied: Mako in /usr/lib/python3/dist-packages (from alembic>=1.5.0->optuna) (1.1.3)\n",
            "Requirement already satisfied: typing-extensions>=4.12 in /usr/local/lib/python3.11/dist-packages (from alembic>=1.5.0->optuna) (4.12.2)\n",
            "Requirement already satisfied: greenlet!=0.4.17 in /usr/local/lib/python3.11/dist-packages (from sqlalchemy>=1.4.2->optuna) (3.1.1)\n",
            "Downloading optuna-4.2.1-py3-none-any.whl (383 kB)\n",
            "\u001b[2K   \u001b[90m━━━━━━━━━━━━━━━━━━━━━━━━━━━━━━━━━━━━━━━━\u001b[0m \u001b[32m383.6/383.6 kB\u001b[0m \u001b[31m8.1 MB/s\u001b[0m eta \u001b[36m0:00:00\u001b[0m\n",
            "\u001b[?25hDownloading alembic-1.15.1-py3-none-any.whl (231 kB)\n",
            "\u001b[2K   \u001b[90m━━━━━━━━━━━━━━━━━━━━━━━━━━━━━━━━━━━━━━━━\u001b[0m \u001b[32m231.8/231.8 kB\u001b[0m \u001b[31m19.2 MB/s\u001b[0m eta \u001b[36m0:00:00\u001b[0m\n",
            "\u001b[?25hDownloading colorlog-6.9.0-py3-none-any.whl (11 kB)\n",
            "Installing collected packages: colorlog, alembic, optuna\n",
            "Successfully installed alembic-1.15.1 colorlog-6.9.0 optuna-4.2.1\n"
          ]
        }
      ]
    },
    {
      "cell_type": "code",
      "source": [
        "import torch\n",
        "import torch.nn as nn\n",
        "import torch.nn.functional as F\n",
        "from torch.utils.data import Dataset, DataLoader\n",
        "from torch.nn.utils.rnn import pad_sequence, pack_padded_sequence, pad_packed_sequence\n",
        "import numpy as np\n",
        "import pandas as pd\n",
        "from sklearn.metrics import accuracy_score, f1_score, precision_score, recall_score\n",
        "from sklearn.model_selection import train_test_split\n",
        "from tqdm import tqdm\n",
        "import nltk\n",
        "from nltk.tokenize import word_tokenize\n",
        "from collections import Counter\n",
        "import pickle\n",
        "import os\n",
        "import optuna\n",
        "\n",
        "# Create a directory for NLTK data\n",
        "nltk_data_dir = os.path.join(os.getcwd(), 'nltk_data')\n",
        "os.makedirs(nltk_data_dir, exist_ok=True)\n",
        "\n",
        "# Set the NLTK data path\n",
        "nltk.data.path.append(nltk_data_dir)\n",
        "\n",
        "# Download punkt to the specified directory\n",
        "nltk.download('punkt_tab', download_dir=nltk_data_dir)"
      ],
      "metadata": {
        "colab": {
          "base_uri": "https://localhost:8080/"
        },
        "id": "2ishUV1aWNML",
        "outputId": "9f0d27c7-3289-4ba3-d78f-4570f00e8510"
      },
      "execution_count": 2,
      "outputs": [
        {
          "output_type": "stream",
          "name": "stderr",
          "text": [
            "[nltk_data] Downloading package punkt_tab to /content/nltk_data...\n",
            "[nltk_data]   Unzipping tokenizers/punkt_tab.zip.\n"
          ]
        },
        {
          "output_type": "execute_result",
          "data": {
            "text/plain": [
              "True"
            ]
          },
          "metadata": {},
          "execution_count": 2
        }
      ]
    },
    {
      "cell_type": "code",
      "source": [
        "from evidence_detection.bilstm_with_attention import BiLSTMAttention\n",
        "from evidence_detection.evidence_detection_dataset import EvidenceDetectionDataset\n",
        "from evidence_detection.vocabulary import Vocabulary\n",
        "from evidence_detection.trainer import Trainer"
      ],
      "metadata": {
        "id": "Ju4U0HGxY6TW"
      },
      "execution_count": 4,
      "outputs": []
    },
    {
      "cell_type": "code",
      "source": [
        "# Set random seed for reproducibility\n",
        "torch.manual_seed(42)\n",
        "np.random.seed(42)\n",
        "if torch.cuda.is_available():\n",
        "    torch.cuda.manual_seed_all(42)\n",
        "\n",
        "# Device configuration\n",
        "device = torch.device('cuda' if torch.cuda.is_available() else 'cpu')\n",
        "print(f\"Using device: {device}\")\n",
        "\n",
        "# Create output directory for models and plots\n",
        "os.makedirs('models', exist_ok=True)\n",
        "# os.makedirs('plots', exist_ok=True)"
      ],
      "metadata": {
        "colab": {
          "base_uri": "https://localhost:8080/"
        },
        "id": "Lq1MSjuFMj6d",
        "outputId": "a7b1fa00-dc0f-4170-ce46-580bbc4875c0"
      },
      "execution_count": 5,
      "outputs": [
        {
          "output_type": "stream",
          "name": "stdout",
          "text": [
            "Using device: cuda\n"
          ]
        }
      ]
    },
    {
      "cell_type": "markdown",
      "source": [
        "### Define Glove Embedding Method"
      ],
      "metadata": {
        "id": "vrG-YMS_NcI0"
      }
    },
    {
      "cell_type": "code",
      "source": [
        "def load_glove_embeddings(vocab, glove_path, embedding_dim=300):\n",
        "    \"\"\"Load GloVe embeddings for words in vocabulary\"\"\"\n",
        "    embeddings = np.zeros((len(vocab), embedding_dim))\n",
        "\n",
        "    # Initialize random embeddings\n",
        "    for i in range(len(vocab)):\n",
        "        embeddings[i] = np.random.normal(scale=0.1, size=(embedding_dim, ))\n",
        "\n",
        "    # Load pretrained embeddings\n",
        "    if not os.path.exists(glove_path):\n",
        "        print(f\"GloVe embeddings not found at {glove_path}. Using random embeddings.\")\n",
        "        return embeddings\n",
        "\n",
        "    print(f\"Loading GloVe embeddings from {glove_path}...\")\n",
        "\n",
        "    with open(glove_path, 'r', encoding='utf-8') as f:\n",
        "        for i, line in enumerate(tqdm(f, desc=\"Loading GloVe\")):\n",
        "            try:\n",
        "                values = line.split()\n",
        "\n",
        "                # Check if the vector has the correct dimension\n",
        "                if len(values) != embedding_dim + 1:  # +1 for the word itself\n",
        "                    print(f\"Warning: Line {i} has {len(values)} values, expected {embedding_dim + 1}. Skipping.\")\n",
        "                    continue\n",
        "\n",
        "                word = values[0]\n",
        "                if word in vocab.stoi:\n",
        "                    vector = np.array(values[1:], dtype='float32')\n",
        "\n",
        "                    # Double-check vector dimension\n",
        "                    if len(vector) != embedding_dim:\n",
        "                        print(f\"Warning: Vector for word '{word}' has dimension {len(vector)}, expected {embedding_dim}. Skipping.\")\n",
        "                        continue\n",
        "\n",
        "                    embeddings[vocab.stoi[word]] = vector\n",
        "            except Exception as e:\n",
        "                print(f\"Error processing line {i}: {e}\")\n",
        "                continue\n",
        "\n",
        "    print(f\"Loaded {embedding_dim}-dimensional GloVe embeddings.\")\n",
        "    return embeddings"
      ],
      "metadata": {
        "id": "LKKKt7fcWhJy"
      },
      "execution_count": 6,
      "outputs": []
    },
    {
      "cell_type": "markdown",
      "source": [
        "### Get Data, build vocabulary and Build Glove Embeddings"
      ],
      "metadata": {
        "id": "R7qYm1XMSUer"
      }
    },
    {
      "cell_type": "code",
      "source": [
        "# Load datasets\n",
        "print(\"Loading datasets...\")\n",
        "# train_df = pd.read_csv('./data/train.csv')\n",
        "# val_df = pd.read_csv('./data/dev.csv')\n",
        "print(\"Using train.csv for train and validation\")\n",
        "print(\"Using dev.csv for testing\")\n",
        "train_df = pd.read_csv('./data/train.csv')\n",
        "train_df, val_df = train_test_split(train_df, test_size=0.2, random_state=42)\n",
        "test_df = pd.read_csv('./data/dev.csv')\n",
        "\n",
        "print(f\"Train shape: {train_df.shape}, Validation shape: {val_df.shape}\")\n",
        "print(f\"Label distribution in train: {train_df['label'].value_counts().to_dict()}\")\n",
        "print(f\"Label distribution in val: {val_df['label'].value_counts().to_dict()}\")"
      ],
      "metadata": {
        "colab": {
          "base_uri": "https://localhost:8080/"
        },
        "id": "UJg4xvC2SKR7",
        "outputId": "1debae17-44eb-4f7a-a7bf-87cc054bcf26"
      },
      "execution_count": 7,
      "outputs": [
        {
          "output_type": "stream",
          "name": "stdout",
          "text": [
            "Loading datasets...\n",
            "Using train.csv for train and validation\n",
            "Using dev.csv for testing\n",
            "Train shape: (17206, 3), Validation shape: (4302, 3)\n",
            "Label distribution in train: {0: 12504, 1: 4702}\n",
            "Label distribution in val: {0: 3150, 1: 1152}\n"
          ]
        }
      ]
    },
    {
      "cell_type": "code",
      "source": [
        "# Load or create vocabulary\n",
        "vocab_path = 'vocab.pkl'\n",
        "if os.path.exists(vocab_path):\n",
        "    print(f\"Loading vocabulary from {vocab_path}\")\n",
        "    with open(vocab_path, 'rb') as f:\n",
        "        vocab = pickle.load(f)\n",
        "else:\n",
        "    print(\"Creating new vocabulary\")\n",
        "    vocab = Vocabulary(freq_threshold=3)\n",
        "    all_texts = train_df['Claim'].tolist() + train_df['Evidence'].tolist()\n",
        "    vocab.build_vocabulary(all_texts)\n",
        "\n",
        "    # Save vocabulary\n",
        "    with open(vocab_path, 'wb') as f:\n",
        "        pickle.dump(vocab, f)\n",
        "\n",
        "print(f\"Vocabulary size: {len(vocab)}\")"
      ],
      "metadata": {
        "colab": {
          "base_uri": "https://localhost:8080/"
        },
        "id": "9zHL9dr3SPOq",
        "outputId": "d7d7f530-a0e8-404c-fa73-a68108311345"
      },
      "execution_count": 8,
      "outputs": [
        {
          "output_type": "stream",
          "name": "stdout",
          "text": [
            "Creating new vocabulary\n"
          ]
        },
        {
          "output_type": "stream",
          "name": "stderr",
          "text": [
            "Building vocabulary: 100%|██████████| 34412/34412 [00:03<00:00, 8897.85it/s]"
          ]
        },
        {
          "output_type": "stream",
          "name": "stdout",
          "text": [
            "Vocabulary size: 12686\n",
            "Vocabulary size: 12686\n"
          ]
        },
        {
          "output_type": "stream",
          "name": "stderr",
          "text": [
            "\n"
          ]
        }
      ]
    },
    {
      "cell_type": "code",
      "source": [
        "# Load GloVe embeddings\n",
        "embedding_dim = 300\n",
        "glove_path = \"glove.6B.300d.txt\"\n",
        "embeddings = load_glove_embeddings(vocab, glove_path, embedding_dim)"
      ],
      "metadata": {
        "colab": {
          "base_uri": "https://localhost:8080/"
        },
        "id": "m5yEURMYSRzc",
        "outputId": "9159ab29-d9ce-4e7e-abba-08315ae4fa29"
      },
      "execution_count": 9,
      "outputs": [
        {
          "output_type": "stream",
          "name": "stdout",
          "text": [
            "Loading GloVe embeddings from glove.6B.300d.txt...\n"
          ]
        },
        {
          "output_type": "stream",
          "name": "stderr",
          "text": [
            "Loading GloVe: 104968it [00:02, 44579.87it/s]"
          ]
        },
        {
          "output_type": "stream",
          "name": "stdout",
          "text": [
            "Warning: Line 104967 has 89 values, expected 301. Skipping.\n",
            "Loaded 300-dimensional GloVe embeddings.\n"
          ]
        },
        {
          "output_type": "stream",
          "name": "stderr",
          "text": [
            "\n"
          ]
        }
      ]
    },
    {
      "cell_type": "markdown",
      "source": [
        "### Hyperparameter Tuning"
      ],
      "metadata": {
        "id": "ujYTuoQi3JEn"
      }
    },
    {
      "cell_type": "code",
      "source": [
        "# Create datasets\n",
        "train_dataset = EvidenceDetectionDataset(train_df, vocab)\n",
        "val_dataset = EvidenceDetectionDataset(val_df, vocab)\n",
        "\n",
        "print(f\"Train dataset size: {len(train_dataset)}\")\n",
        "print(f\"Validation dataset size: {len(val_dataset)}\")\n",
        "\n",
        "num_layers = 1\n",
        "# Define objective function for Optuna\n",
        "def objective(trial):\n",
        "    # Hyperparameters to optimize\n",
        "    hidden_dim = trial.suggest_categorical('hidden_dim', [128, 256, 512])\n",
        "    # num_layers = trial.suggest_int('num_layers', [1])\n",
        "    dropout = trial.suggest_float('dropout', 0.3, 0.5)\n",
        "    batch_size = trial.suggest_categorical('batch_size', [16, 32, 64])\n",
        "    learning_rate = trial.suggest_float('learning_rate', 1e-4, 1e-2, log=True)\n",
        "    weight_decay = trial.suggest_float('weight_decay', 1e-6, 1e-4, log=True)\n",
        "\n",
        "    # Initialize model with suggested parameters\n",
        "    model = BiLSTMAttention(\n",
        "        vocab_size=len(vocab),\n",
        "        embedding_dim=embedding_dim,\n",
        "        hidden_dim=hidden_dim,\n",
        "        num_layers=num_layers,\n",
        "        dropout=dropout,\n",
        "        pretrained_embeddings=embeddings\n",
        "    )\n",
        "\n",
        "    # Initialize trainer\n",
        "    trainer = Trainer(\n",
        "        model=model,\n",
        "        train_dataset=train_dataset,\n",
        "        val_dataset=val_dataset,\n",
        "        batch_size=batch_size,\n",
        "        learning_rate=learning_rate,\n",
        "        weight_decay=weight_decay,\n",
        "        device=device\n",
        "    )\n",
        "\n",
        "    # Train for a few epochs\n",
        "    trainer.train(num_epochs=5)  # Reduced epochs for faster hyperparameter search\n",
        "\n",
        "    # Evaluate on validation set\n",
        "    val_metrics = trainer.evaluate()\n",
        "\n",
        "    # Return F1 score as the optimization metric\n",
        "    return val_metrics['f1']\n",
        "\n",
        "# Create study directory\n",
        "os.makedirs('optuna_results', exist_ok=True)\n",
        "\n",
        "# Create and run Optuna study\n",
        "study = optuna.create_study(direction='maximize',\n",
        "                           study_name='bilstm_attention_optimization'\n",
        "                          #  storage='sqlite:///optuna_results/bilstm_attention.db'\n",
        "                            )\n",
        "study.optimize(objective, n_trials=20)  # Adjust number of trials as needed\n",
        "\n",
        "# Print and save best parameters\n",
        "print(\"Best trial:\")\n",
        "trial = study.best_trial\n",
        "print(f\"  Value (F1 Score): {trial.value:.4f}\")\n",
        "print(\"  Params: \")\n",
        "for key, value in trial.params.items():\n",
        "    print(f\"    {key}: {value}\")\n",
        "\n",
        "# Save best parameters\n",
        "with open('optuna_results/best_params.pkl', 'wb') as f:\n",
        "    pickle.dump(trial.params, f)"
      ],
      "metadata": {
        "colab": {
          "base_uri": "https://localhost:8080/"
        },
        "id": "dklR-iL83MSf",
        "outputId": "db75980a-1065-40ae-da85-918bb39b3f51"
      },
      "execution_count": 38,
      "outputs": [
        {
          "output_type": "stream",
          "name": "stderr",
          "text": [
            "[I 2025-03-21 17:29:54,973] A new study created in memory with name: bilstm_attention_optimization\n"
          ]
        },
        {
          "output_type": "stream",
          "name": "stdout",
          "text": [
            "Train dataset size: 17206\n",
            "Validation dataset size: 4302\n",
            "Starting training on device: cuda\n",
            "Training set size: 17206\n",
            "Validation set size: 4302\n"
          ]
        },
        {
          "output_type": "stream",
          "name": "stderr",
          "text": [
            "Training: 100%|██████████| 1076/1076 [00:22<00:00, 47.07it/s]\n",
            "Validating: 100%|██████████| 269/269 [00:02<00:00, 109.64it/s]\n"
          ]
        },
        {
          "output_type": "stream",
          "name": "stdout",
          "text": [
            "Epoch 1/5 - Time: 25.40s\n",
            "Train Loss: 0.4384, Train F1: 0.5560\n",
            "Val Loss: 0.3910, Val F1: 0.5648\n",
            "Val Precision: 0.7746, Val Recall: 0.4444\n",
            "Validation F1 increased (0.000000 --> 0.564810). Saving model...\n"
          ]
        },
        {
          "output_type": "stream",
          "name": "stderr",
          "text": [
            "Training: 100%|██████████| 1076/1076 [00:22<00:00, 47.00it/s]\n",
            "Validating: 100%|██████████| 269/269 [00:02<00:00, 109.60it/s]\n"
          ]
        },
        {
          "output_type": "stream",
          "name": "stdout",
          "text": [
            "Epoch 2/5 - Time: 25.44s\n",
            "Train Loss: 0.3546, Train F1: 0.6905\n",
            "Val Loss: 0.3767, Val F1: 0.6593\n",
            "Val Precision: 0.7009, Val Recall: 0.6224\n",
            "Validation F1 increased (0.564810 --> 0.659310). Saving model...\n"
          ]
        },
        {
          "output_type": "stream",
          "name": "stderr",
          "text": [
            "Training: 100%|██████████| 1076/1076 [00:22<00:00, 47.12it/s]\n",
            "Validating: 100%|██████████| 269/269 [00:02<00:00, 108.53it/s]\n"
          ]
        },
        {
          "output_type": "stream",
          "name": "stdout",
          "text": [
            "Epoch 3/5 - Time: 25.41s\n",
            "Train Loss: 0.2834, Train F1: 0.7662\n",
            "Val Loss: 0.3924, Val F1: 0.6575\n",
            "Val Precision: 0.6688, Val Recall: 0.6467\n",
            "EarlyStopping counter: 1 out of 3\n"
          ]
        },
        {
          "output_type": "stream",
          "name": "stderr",
          "text": [
            "Training: 100%|██████████| 1076/1076 [00:23<00:00, 46.58it/s]\n",
            "Validating: 100%|██████████| 269/269 [00:02<00:00, 108.00it/s]\n"
          ]
        },
        {
          "output_type": "stream",
          "name": "stdout",
          "text": [
            "Epoch 4/5 - Time: 25.69s\n",
            "Train Loss: 0.2060, Train F1: 0.8464\n",
            "Val Loss: 0.4550, Val F1: 0.6378\n",
            "Val Precision: 0.6638, Val Recall: 0.6137\n",
            "EarlyStopping counter: 2 out of 3\n"
          ]
        },
        {
          "output_type": "stream",
          "name": "stderr",
          "text": [
            "Training: 100%|██████████| 1076/1076 [00:23<00:00, 46.21it/s]\n",
            "Validating: 100%|██████████| 269/269 [00:02<00:00, 108.68it/s]\n"
          ]
        },
        {
          "output_type": "stream",
          "name": "stdout",
          "text": [
            "Epoch 5/5 - Time: 25.86s\n",
            "Train Loss: 0.1303, Train F1: 0.9105\n",
            "Val Loss: 0.6128, Val F1: 0.6083\n",
            "Val Precision: 0.6227, Val Recall: 0.5946\n",
            "EarlyStopping counter: 3 out of 3\n",
            "Early stopping triggered\n",
            "Loaded best model from 'best_bilstm_attention_model.pt'\n"
          ]
        },
        {
          "output_type": "stream",
          "name": "stderr",
          "text": [
            "Validating: 100%|██████████| 269/269 [00:02<00:00, 107.92it/s]\n",
            "[I 2025-03-21 17:32:05,496] Trial 0 finished with value: 0.6593103448275862 and parameters: {'hidden_dim': 512, 'dropout': 0.45853537224102003, 'batch_size': 16, 'learning_rate': 0.0012959121431270646, 'weight_decay': 2.2351873831757065e-05}. Best is trial 0 with value: 0.6593103448275862.\n"
          ]
        },
        {
          "output_type": "stream",
          "name": "stdout",
          "text": [
            "Starting training on device: cuda\n",
            "Training set size: 17206\n",
            "Validation set size: 4302\n"
          ]
        },
        {
          "output_type": "stream",
          "name": "stderr",
          "text": [
            "Training: 100%|██████████| 538/538 [00:15<00:00, 33.89it/s]\n",
            "Validating: 100%|██████████| 135/135 [00:01<00:00, 69.05it/s]\n"
          ]
        },
        {
          "output_type": "stream",
          "name": "stdout",
          "text": [
            "Epoch 1/5 - Time: 17.93s\n",
            "Train Loss: 0.4528, Train F1: 0.5355\n",
            "Val Loss: 0.4060, Val F1: 0.6090\n",
            "Val Precision: 0.6817, Val Recall: 0.5503\n",
            "Validation F1 increased (0.000000 --> 0.609030). Saving model...\n"
          ]
        },
        {
          "output_type": "stream",
          "name": "stderr",
          "text": [
            "Training: 100%|██████████| 538/538 [00:16<00:00, 33.57it/s]\n",
            "Validating: 100%|██████████| 135/135 [00:02<00:00, 67.39it/s]\n"
          ]
        },
        {
          "output_type": "stream",
          "name": "stdout",
          "text": [
            "Epoch 2/5 - Time: 18.13s\n",
            "Train Loss: 0.3835, Train F1: 0.6459\n",
            "Val Loss: 0.4097, Val F1: 0.5496\n",
            "Val Precision: 0.7912, Val Recall: 0.4210\n",
            "EarlyStopping counter: 1 out of 3\n"
          ]
        },
        {
          "output_type": "stream",
          "name": "stderr",
          "text": [
            "Training: 100%|██████████| 538/538 [00:16<00:00, 33.19it/s]\n",
            "Validating: 100%|██████████| 135/135 [00:01<00:00, 69.44it/s]\n"
          ]
        },
        {
          "output_type": "stream",
          "name": "stdout",
          "text": [
            "Epoch 3/5 - Time: 18.25s\n",
            "Train Loss: 0.3389, Train F1: 0.6981\n",
            "Val Loss: 0.3919, Val F1: 0.6699\n",
            "Val Precision: 0.6740, Val Recall: 0.6658\n",
            "Validation F1 increased (0.609030 --> 0.669869). Saving model...\n"
          ]
        },
        {
          "output_type": "stream",
          "name": "stderr",
          "text": [
            "Training: 100%|██████████| 538/538 [00:16<00:00, 33.31it/s]\n",
            "Validating: 100%|██████████| 135/135 [00:01<00:00, 70.37it/s]\n"
          ]
        },
        {
          "output_type": "stream",
          "name": "stdout",
          "text": [
            "Epoch 4/5 - Time: 18.16s\n",
            "Train Loss: 0.3032, Train F1: 0.7511\n",
            "Val Loss: 0.3968, Val F1: 0.6706\n",
            "Val Precision: 0.6171, Val Recall: 0.7344\n",
            "Validation F1 increased (0.669869 --> 0.670630). Saving model...\n"
          ]
        },
        {
          "output_type": "stream",
          "name": "stderr",
          "text": [
            "Training: 100%|██████████| 538/538 [00:15<00:00, 34.17it/s]\n",
            "Validating: 100%|██████████| 135/135 [00:01<00:00, 70.15it/s]\n"
          ]
        },
        {
          "output_type": "stream",
          "name": "stdout",
          "text": [
            "Epoch 5/5 - Time: 17.76s\n",
            "Train Loss: 0.2592, Train F1: 0.7995\n",
            "Val Loss: 0.4193, Val F1: 0.6521\n",
            "Val Precision: 0.6423, Val Recall: 0.6623\n",
            "EarlyStopping counter: 1 out of 3\n",
            "Loaded best model from 'best_bilstm_attention_model.pt'\n"
          ]
        },
        {
          "output_type": "stream",
          "name": "stderr",
          "text": [
            "Validating: 100%|██████████| 135/135 [00:01<00:00, 69.95it/s]\n",
            "[I 2025-03-21 17:33:37,946] Trial 1 finished with value: 0.6706302021403091 and parameters: {'hidden_dim': 512, 'dropout': 0.3415018128297464, 'batch_size': 32, 'learning_rate': 0.003677635577834768, 'weight_decay': 4.642378173429623e-05}. Best is trial 1 with value: 0.6706302021403091.\n"
          ]
        },
        {
          "output_type": "stream",
          "name": "stdout",
          "text": [
            "Starting training on device: cuda\n",
            "Training set size: 17206\n",
            "Validation set size: 4302\n"
          ]
        },
        {
          "output_type": "stream",
          "name": "stderr",
          "text": [
            "Training: 100%|██████████| 269/269 [00:11<00:00, 23.85it/s]\n",
            "Validating: 100%|██████████| 68/68 [00:01<00:00, 42.27it/s]\n"
          ]
        },
        {
          "output_type": "stream",
          "name": "stdout",
          "text": [
            "Epoch 1/5 - Time: 12.98s\n",
            "Train Loss: 0.4391, Train F1: 0.5610\n",
            "Val Loss: 0.3853, Val F1: 0.6172\n",
            "Val Precision: 0.6997, Val Recall: 0.5521\n",
            "Validation F1 increased (0.000000 --> 0.617176). Saving model...\n"
          ]
        },
        {
          "output_type": "stream",
          "name": "stderr",
          "text": [
            "Training: 100%|██████████| 269/269 [00:11<00:00, 23.93it/s]\n",
            "Validating: 100%|██████████| 68/68 [00:01<00:00, 42.18it/s]\n"
          ]
        },
        {
          "output_type": "stream",
          "name": "stdout",
          "text": [
            "Epoch 2/5 - Time: 12.95s\n",
            "Train Loss: 0.3400, Train F1: 0.7076\n",
            "Val Loss: 0.3692, Val F1: 0.6512\n",
            "Val Precision: 0.7183, Val Recall: 0.5955\n",
            "Validation F1 increased (0.617176 --> 0.651163). Saving model...\n"
          ]
        },
        {
          "output_type": "stream",
          "name": "stderr",
          "text": [
            "Training: 100%|██████████| 269/269 [00:11<00:00, 24.20it/s]\n",
            "Validating: 100%|██████████| 68/68 [00:01<00:00, 41.37it/s]\n"
          ]
        },
        {
          "output_type": "stream",
          "name": "stdout",
          "text": [
            "Epoch 3/5 - Time: 12.85s\n",
            "Train Loss: 0.2483, Train F1: 0.8080\n",
            "Val Loss: 0.4713, Val F1: 0.5993\n",
            "Val Precision: 0.7222, Val Recall: 0.5122\n",
            "EarlyStopping counter: 1 out of 3\n"
          ]
        },
        {
          "output_type": "stream",
          "name": "stderr",
          "text": [
            "Training: 100%|██████████| 269/269 [00:11<00:00, 24.14it/s]\n",
            "Validating: 100%|██████████| 68/68 [00:01<00:00, 42.10it/s]\n"
          ]
        },
        {
          "output_type": "stream",
          "name": "stdout",
          "text": [
            "Epoch 4/5 - Time: 12.86s\n",
            "Train Loss: 0.1600, Train F1: 0.8830\n",
            "Val Loss: 0.5328, Val F1: 0.6253\n",
            "Val Precision: 0.6431, Val Recall: 0.6085\n",
            "EarlyStopping counter: 2 out of 3\n"
          ]
        },
        {
          "output_type": "stream",
          "name": "stderr",
          "text": [
            "Training: 100%|██████████| 269/269 [00:11<00:00, 24.12it/s]\n",
            "Validating: 100%|██████████| 68/68 [00:01<00:00, 42.06it/s]\n"
          ]
        },
        {
          "output_type": "stream",
          "name": "stdout",
          "text": [
            "Epoch 5/5 - Time: 12.86s\n",
            "Train Loss: 0.1005, Train F1: 0.9335\n",
            "Val Loss: 0.6261, Val F1: 0.6224\n",
            "Val Precision: 0.6224, Val Recall: 0.6224\n",
            "EarlyStopping counter: 3 out of 3\n",
            "Early stopping triggered\n",
            "Loaded best model from 'best_bilstm_attention_model.pt'\n"
          ]
        },
        {
          "output_type": "stream",
          "name": "stderr",
          "text": [
            "Validating: 100%|██████████| 68/68 [00:01<00:00, 42.66it/s]\n",
            "[I 2025-03-21 17:34:44,218] Trial 2 finished with value: 0.6511627906976745 and parameters: {'hidden_dim': 256, 'dropout': 0.44167815773088326, 'batch_size': 64, 'learning_rate': 0.0032288682851384465, 'weight_decay': 7.717950438739426e-06}. Best is trial 1 with value: 0.6706302021403091.\n"
          ]
        },
        {
          "output_type": "stream",
          "name": "stdout",
          "text": [
            "Starting training on device: cuda\n",
            "Training set size: 17206\n",
            "Validation set size: 4302\n"
          ]
        },
        {
          "output_type": "stream",
          "name": "stderr",
          "text": [
            "Training: 100%|██████████| 538/538 [00:15<00:00, 35.74it/s]\n",
            "Validating: 100%|██████████| 135/135 [00:01<00:00, 72.42it/s]\n"
          ]
        },
        {
          "output_type": "stream",
          "name": "stdout",
          "text": [
            "Epoch 1/5 - Time: 17.01s\n",
            "Train Loss: 0.5539, Train F1: 0.1976\n",
            "Val Loss: 0.4492, Val F1: 0.4756\n",
            "Val Precision: 0.6580, Val Recall: 0.3724\n",
            "Validation F1 increased (0.000000 --> 0.475610). Saving model...\n"
          ]
        },
        {
          "output_type": "stream",
          "name": "stderr",
          "text": [
            "Training: 100%|██████████| 538/538 [00:15<00:00, 35.87it/s]\n",
            "Validating: 100%|██████████| 135/135 [00:01<00:00, 71.31it/s]\n"
          ]
        },
        {
          "output_type": "stream",
          "name": "stdout",
          "text": [
            "Epoch 2/5 - Time: 16.99s\n",
            "Train Loss: 0.4340, Train F1: 0.5698\n",
            "Val Loss: 0.4056, Val F1: 0.5830\n",
            "Val Precision: 0.7242, Val Recall: 0.4878\n",
            "Validation F1 increased (0.475610 --> 0.582988). Saving model...\n"
          ]
        },
        {
          "output_type": "stream",
          "name": "stderr",
          "text": [
            "Training: 100%|██████████| 538/538 [00:14<00:00, 36.27it/s]\n",
            "Validating: 100%|██████████| 135/135 [00:01<00:00, 72.16it/s]\n"
          ]
        },
        {
          "output_type": "stream",
          "name": "stdout",
          "text": [
            "Epoch 3/5 - Time: 16.80s\n",
            "Train Loss: 0.3948, Train F1: 0.6219\n",
            "Val Loss: 0.3860, Val F1: 0.6300\n",
            "Val Precision: 0.7173, Val Recall: 0.5616\n",
            "Validation F1 increased (0.582988 --> 0.629990). Saving model...\n"
          ]
        },
        {
          "output_type": "stream",
          "name": "stderr",
          "text": [
            "Training: 100%|██████████| 538/538 [00:14<00:00, 36.07it/s]\n",
            "Validating: 100%|██████████| 135/135 [00:01<00:00, 71.47it/s]\n"
          ]
        },
        {
          "output_type": "stream",
          "name": "stdout",
          "text": [
            "Epoch 4/5 - Time: 16.90s\n",
            "Train Loss: 0.3681, Train F1: 0.6664\n",
            "Val Loss: 0.3887, Val F1: 0.6191\n",
            "Val Precision: 0.7488, Val Recall: 0.5278\n",
            "EarlyStopping counter: 1 out of 3\n"
          ]
        },
        {
          "output_type": "stream",
          "name": "stderr",
          "text": [
            "Training: 100%|██████████| 538/538 [00:14<00:00, 36.00it/s]\n",
            "Validating: 100%|██████████| 135/135 [00:01<00:00, 71.72it/s]\n"
          ]
        },
        {
          "output_type": "stream",
          "name": "stdout",
          "text": [
            "Epoch 5/5 - Time: 16.92s\n",
            "Train Loss: 0.3420, Train F1: 0.6976\n",
            "Val Loss: 0.3980, Val F1: 0.6328\n",
            "Val Precision: 0.7509, Val Recall: 0.5469\n",
            "Validation F1 increased (0.629990 --> 0.632848). Saving model...\n",
            "Loaded best model from 'best_bilstm_attention_model.pt'\n"
          ]
        },
        {
          "output_type": "stream",
          "name": "stderr",
          "text": [
            "Validating: 100%|██████████| 135/135 [00:01<00:00, 72.42it/s]\n",
            "[I 2025-03-21 17:36:10,933] Trial 3 finished with value: 0.6328478151682572 and parameters: {'hidden_dim': 128, 'dropout': 0.31906989035272887, 'batch_size': 32, 'learning_rate': 0.00010171494097999478, 'weight_decay': 2.5124651586972893e-05}. Best is trial 1 with value: 0.6706302021403091.\n"
          ]
        },
        {
          "output_type": "stream",
          "name": "stdout",
          "text": [
            "Starting training on device: cuda\n",
            "Training set size: 17206\n",
            "Validation set size: 4302\n"
          ]
        },
        {
          "output_type": "stream",
          "name": "stderr",
          "text": [
            "Training: 100%|██████████| 538/538 [00:14<00:00, 36.04it/s]\n",
            "Validating: 100%|██████████| 135/135 [00:01<00:00, 71.79it/s]\n"
          ]
        },
        {
          "output_type": "stream",
          "name": "stdout",
          "text": [
            "Epoch 1/5 - Time: 16.90s\n",
            "Train Loss: 0.4553, Train F1: 0.5222\n",
            "Val Loss: 0.3887, Val F1: 0.6667\n",
            "Val Precision: 0.6702, Val Recall: 0.6632\n",
            "Validation F1 increased (0.000000 --> 0.666667). Saving model...\n"
          ]
        },
        {
          "output_type": "stream",
          "name": "stderr",
          "text": [
            "Training: 100%|██████████| 538/538 [00:15<00:00, 35.76it/s]\n",
            "Validating: 100%|██████████| 135/135 [00:01<00:00, 71.09it/s]\n"
          ]
        },
        {
          "output_type": "stream",
          "name": "stdout",
          "text": [
            "Epoch 2/5 - Time: 17.04s\n",
            "Train Loss: 0.3442, Train F1: 0.7031\n",
            "Val Loss: 0.3714, Val F1: 0.6214\n",
            "Val Precision: 0.7626, Val Recall: 0.5243\n",
            "EarlyStopping counter: 1 out of 3\n"
          ]
        },
        {
          "output_type": "stream",
          "name": "stderr",
          "text": [
            "Training: 100%|██████████| 538/538 [00:14<00:00, 36.02it/s]\n",
            "Validating: 100%|██████████| 135/135 [00:01<00:00, 72.16it/s]\n"
          ]
        },
        {
          "output_type": "stream",
          "name": "stdout",
          "text": [
            "Epoch 3/5 - Time: 16.90s\n",
            "Train Loss: 0.2568, Train F1: 0.7966\n",
            "Val Loss: 0.4052, Val F1: 0.6631\n",
            "Val Precision: 0.6281, Val Recall: 0.7023\n",
            "EarlyStopping counter: 2 out of 3\n"
          ]
        },
        {
          "output_type": "stream",
          "name": "stderr",
          "text": [
            "Training: 100%|██████████| 538/538 [00:15<00:00, 35.82it/s]\n",
            "Validating: 100%|██████████| 135/135 [00:01<00:00, 70.80it/s]\n"
          ]
        },
        {
          "output_type": "stream",
          "name": "stdout",
          "text": [
            "Epoch 4/5 - Time: 17.02s\n",
            "Train Loss: 0.1648, Train F1: 0.8782\n",
            "Val Loss: 0.4948, Val F1: 0.6436\n",
            "Val Precision: 0.6323, Val Recall: 0.6554\n",
            "EarlyStopping counter: 3 out of 3\n",
            "Early stopping triggered\n",
            "Loaded best model from 'best_bilstm_attention_model.pt'\n"
          ]
        },
        {
          "output_type": "stream",
          "name": "stderr",
          "text": [
            "Validating: 100%|██████████| 135/135 [00:01<00:00, 71.55it/s]\n",
            "[I 2025-03-21 17:37:20,796] Trial 4 finished with value: 0.6666666666666666 and parameters: {'hidden_dim': 128, 'dropout': 0.40622620017986255, 'batch_size': 32, 'learning_rate': 0.0007019580986736259, 'weight_decay': 1.362971193038619e-06}. Best is trial 1 with value: 0.6706302021403091.\n"
          ]
        },
        {
          "output_type": "stream",
          "name": "stdout",
          "text": [
            "Starting training on device: cuda\n",
            "Training set size: 17206\n",
            "Validation set size: 4302\n"
          ]
        },
        {
          "output_type": "stream",
          "name": "stderr",
          "text": [
            "Training: 100%|██████████| 1076/1076 [00:22<00:00, 47.89it/s]\n",
            "Validating: 100%|██████████| 269/269 [00:02<00:00, 109.96it/s]\n"
          ]
        },
        {
          "output_type": "stream",
          "name": "stdout",
          "text": [
            "Epoch 1/5 - Time: 25.01s\n",
            "Train Loss: 0.4608, Train F1: 0.4931\n",
            "Val Loss: 0.4146, Val F1: 0.5459\n",
            "Val Precision: 0.7031, Val Recall: 0.4462\n",
            "Validation F1 increased (0.000000 --> 0.545937). Saving model...\n"
          ]
        },
        {
          "output_type": "stream",
          "name": "stderr",
          "text": [
            "Training: 100%|██████████| 1076/1076 [00:22<00:00, 47.27it/s]\n",
            "Validating: 100%|██████████| 269/269 [00:02<00:00, 108.78it/s]\n"
          ]
        },
        {
          "output_type": "stream",
          "name": "stdout",
          "text": [
            "Epoch 2/5 - Time: 25.33s\n",
            "Train Loss: 0.4069, Train F1: 0.5999\n",
            "Val Loss: 0.3925, Val F1: 0.5855\n",
            "Val Precision: 0.7359, Val Recall: 0.4861\n",
            "Validation F1 increased (0.545937 --> 0.585468). Saving model...\n"
          ]
        },
        {
          "output_type": "stream",
          "name": "stderr",
          "text": [
            "Training: 100%|██████████| 1076/1076 [00:22<00:00, 47.23it/s]\n",
            "Validating: 100%|██████████| 269/269 [00:02<00:00, 107.41it/s]\n"
          ]
        },
        {
          "output_type": "stream",
          "name": "stdout",
          "text": [
            "Epoch 3/5 - Time: 25.38s\n",
            "Train Loss: 0.3730, Train F1: 0.6550\n",
            "Val Loss: 0.4062, Val F1: 0.6799\n",
            "Val Precision: 0.6254, Val Recall: 0.7448\n",
            "Validation F1 increased (0.585468 --> 0.679873). Saving model...\n"
          ]
        },
        {
          "output_type": "stream",
          "name": "stderr",
          "text": [
            "Training: 100%|██████████| 1076/1076 [00:22<00:00, 47.52it/s]\n",
            "Validating: 100%|██████████| 269/269 [00:02<00:00, 110.04it/s]\n"
          ]
        },
        {
          "output_type": "stream",
          "name": "stdout",
          "text": [
            "Epoch 4/5 - Time: 25.18s\n",
            "Train Loss: 0.3406, Train F1: 0.7126\n",
            "Val Loss: 0.3945, Val F1: 0.6376\n",
            "Val Precision: 0.7018, Val Recall: 0.5842\n",
            "EarlyStopping counter: 1 out of 3\n"
          ]
        },
        {
          "output_type": "stream",
          "name": "stderr",
          "text": [
            "Training: 100%|██████████| 1076/1076 [00:22<00:00, 48.03it/s]\n",
            "Validating: 100%|██████████| 269/269 [00:02<00:00, 109.15it/s]\n"
          ]
        },
        {
          "output_type": "stream",
          "name": "stdout",
          "text": [
            "Epoch 5/5 - Time: 24.96s\n",
            "Train Loss: 0.3122, Train F1: 0.7405\n",
            "Val Loss: 0.4237, Val F1: 0.6011\n",
            "Val Precision: 0.7027, Val Recall: 0.5252\n",
            "EarlyStopping counter: 2 out of 3\n",
            "Loaded best model from 'best_bilstm_attention_model.pt'\n"
          ]
        },
        {
          "output_type": "stream",
          "name": "stderr",
          "text": [
            "Validating: 100%|██████████| 269/269 [00:02<00:00, 109.41it/s]\n",
            "[I 2025-03-21 17:39:29,338] Trial 5 finished with value: 0.6798732171156894 and parameters: {'hidden_dim': 256, 'dropout': 0.3327062265419595, 'batch_size': 16, 'learning_rate': 0.004468091432495813, 'weight_decay': 6.44022285355894e-05}. Best is trial 5 with value: 0.6798732171156894.\n"
          ]
        },
        {
          "output_type": "stream",
          "name": "stdout",
          "text": [
            "Starting training on device: cuda\n",
            "Training set size: 17206\n",
            "Validation set size: 4302\n"
          ]
        },
        {
          "output_type": "stream",
          "name": "stderr",
          "text": [
            "Training: 100%|██████████| 538/538 [00:15<00:00, 35.53it/s]\n",
            "Validating: 100%|██████████| 135/135 [00:01<00:00, 71.98it/s]\n"
          ]
        },
        {
          "output_type": "stream",
          "name": "stdout",
          "text": [
            "Epoch 1/5 - Time: 17.11s\n",
            "Train Loss: 0.4748, Train F1: 0.4705\n",
            "Val Loss: 0.3855, Val F1: 0.6352\n",
            "Val Precision: 0.6886, Val Recall: 0.5894\n",
            "Validation F1 increased (0.000000 --> 0.635173). Saving model...\n"
          ]
        },
        {
          "output_type": "stream",
          "name": "stderr",
          "text": [
            "Training: 100%|██████████| 538/538 [00:15<00:00, 35.33it/s]\n",
            "Validating: 100%|██████████| 135/135 [00:01<00:00, 71.42it/s]\n"
          ]
        },
        {
          "output_type": "stream",
          "name": "stdout",
          "text": [
            "Epoch 2/5 - Time: 17.21s\n",
            "Train Loss: 0.3625, Train F1: 0.6733\n",
            "Val Loss: 0.3667, Val F1: 0.6303\n",
            "Val Precision: 0.7344, Val Recall: 0.5521\n",
            "EarlyStopping counter: 1 out of 3\n"
          ]
        },
        {
          "output_type": "stream",
          "name": "stderr",
          "text": [
            "Training: 100%|██████████| 538/538 [00:15<00:00, 35.62it/s]\n",
            "Validating: 100%|██████████| 135/135 [00:01<00:00, 72.05it/s]\n"
          ]
        },
        {
          "output_type": "stream",
          "name": "stdout",
          "text": [
            "Epoch 3/5 - Time: 17.07s\n",
            "Train Loss: 0.3005, Train F1: 0.7490\n",
            "Val Loss: 0.3779, Val F1: 0.6634\n",
            "Val Precision: 0.6810, Val Recall: 0.6467\n",
            "Validation F1 increased (0.635173 --> 0.663402). Saving model...\n"
          ]
        },
        {
          "output_type": "stream",
          "name": "stderr",
          "text": [
            "Training: 100%|██████████| 538/538 [00:15<00:00, 35.68it/s]\n",
            "Validating: 100%|██████████| 135/135 [00:01<00:00, 71.09it/s]\n"
          ]
        },
        {
          "output_type": "stream",
          "name": "stdout",
          "text": [
            "Epoch 4/5 - Time: 17.07s\n",
            "Train Loss: 0.2300, Train F1: 0.8247\n",
            "Val Loss: 0.4201, Val F1: 0.6616\n",
            "Val Precision: 0.6129, Val Recall: 0.7188\n",
            "EarlyStopping counter: 1 out of 3\n"
          ]
        },
        {
          "output_type": "stream",
          "name": "stderr",
          "text": [
            "Training: 100%|██████████| 538/538 [00:15<00:00, 35.74it/s]\n",
            "Validating: 100%|██████████| 135/135 [00:01<00:00, 71.09it/s]\n"
          ]
        },
        {
          "output_type": "stream",
          "name": "stdout",
          "text": [
            "Epoch 5/5 - Time: 17.05s\n",
            "Train Loss: 0.1634, Train F1: 0.8864\n",
            "Val Loss: 0.5067, Val F1: 0.6350\n",
            "Val Precision: 0.6778, Val Recall: 0.5972\n",
            "EarlyStopping counter: 2 out of 3\n",
            "Loaded best model from 'best_bilstm_attention_model.pt'\n"
          ]
        },
        {
          "output_type": "stream",
          "name": "stderr",
          "text": [
            "Validating: 100%|██████████| 135/135 [00:01<00:00, 71.41it/s]\n",
            "[I 2025-03-21 17:40:56,900] Trial 6 finished with value: 0.6634016028495102 and parameters: {'hidden_dim': 128, 'dropout': 0.35464280462923115, 'batch_size': 32, 'learning_rate': 0.00037825110212021254, 'weight_decay': 1.5521697571678072e-06}. Best is trial 5 with value: 0.6798732171156894.\n"
          ]
        },
        {
          "output_type": "stream",
          "name": "stdout",
          "text": [
            "Starting training on device: cuda\n",
            "Training set size: 17206\n",
            "Validation set size: 4302\n"
          ]
        },
        {
          "output_type": "stream",
          "name": "stderr",
          "text": [
            "Training: 100%|██████████| 269/269 [00:11<00:00, 23.92it/s]\n",
            "Validating: 100%|██████████| 68/68 [00:01<00:00, 42.69it/s]\n"
          ]
        },
        {
          "output_type": "stream",
          "name": "stdout",
          "text": [
            "Epoch 1/5 - Time: 12.93s\n",
            "Train Loss: 0.5211, Train F1: 0.3230\n",
            "Val Loss: 0.4204, Val F1: 0.5849\n",
            "Val Precision: 0.6531, Val Recall: 0.5295\n",
            "Validation F1 increased (0.000000 --> 0.584851). Saving model...\n"
          ]
        },
        {
          "output_type": "stream",
          "name": "stderr",
          "text": [
            "Training: 100%|██████████| 269/269 [00:11<00:00, 23.98it/s]\n",
            "Validating: 100%|██████████| 68/68 [00:01<00:00, 42.87it/s]\n"
          ]
        },
        {
          "output_type": "stream",
          "name": "stdout",
          "text": [
            "Epoch 2/5 - Time: 12.90s\n",
            "Train Loss: 0.4130, Train F1: 0.5978\n",
            "Val Loss: 0.3942, Val F1: 0.5789\n",
            "Val Precision: 0.7311, Val Recall: 0.4792\n",
            "EarlyStopping counter: 1 out of 3\n"
          ]
        },
        {
          "output_type": "stream",
          "name": "stderr",
          "text": [
            "Training: 100%|██████████| 269/269 [00:11<00:00, 23.99it/s]\n",
            "Validating: 100%|██████████| 68/68 [00:01<00:00, 42.48it/s]\n"
          ]
        },
        {
          "output_type": "stream",
          "name": "stdout",
          "text": [
            "Epoch 3/5 - Time: 12.91s\n",
            "Train Loss: 0.3784, Train F1: 0.6481\n",
            "Val Loss: 0.3859, Val F1: 0.6361\n",
            "Val Precision: 0.7151, Val Recall: 0.5729\n",
            "Validation F1 increased (0.584851 --> 0.636145). Saving model...\n"
          ]
        },
        {
          "output_type": "stream",
          "name": "stderr",
          "text": [
            "Training: 100%|██████████| 269/269 [00:11<00:00, 24.11it/s]\n",
            "Validating: 100%|██████████| 68/68 [00:01<00:00, 43.09it/s]\n"
          ]
        },
        {
          "output_type": "stream",
          "name": "stdout",
          "text": [
            "Epoch 4/5 - Time: 12.83s\n",
            "Train Loss: 0.3554, Train F1: 0.6793\n",
            "Val Loss: 0.3866, Val F1: 0.6037\n",
            "Val Precision: 0.7699, Val Recall: 0.4965\n",
            "EarlyStopping counter: 1 out of 3\n"
          ]
        },
        {
          "output_type": "stream",
          "name": "stderr",
          "text": [
            "Training: 100%|██████████| 269/269 [00:11<00:00, 24.13it/s]\n",
            "Validating: 100%|██████████| 68/68 [00:01<00:00, 42.81it/s]\n"
          ]
        },
        {
          "output_type": "stream",
          "name": "stdout",
          "text": [
            "Epoch 5/5 - Time: 12.83s\n",
            "Train Loss: 0.3282, Train F1: 0.7140\n",
            "Val Loss: 0.3706, Val F1: 0.6601\n",
            "Val Precision: 0.7165, Val Recall: 0.6120\n",
            "Validation F1 increased (0.636145 --> 0.660112). Saving model...\n",
            "Loaded best model from 'best_bilstm_attention_model.pt'\n"
          ]
        },
        {
          "output_type": "stream",
          "name": "stderr",
          "text": [
            "Validating: 100%|██████████| 68/68 [00:01<00:00, 43.03it/s]\n",
            "[I 2025-03-21 17:42:03,165] Trial 7 finished with value: 0.6601123595505618 and parameters: {'hidden_dim': 512, 'dropout': 0.4772300969152529, 'batch_size': 64, 'learning_rate': 0.00011911841936150478, 'weight_decay': 1.3175172580448904e-06}. Best is trial 5 with value: 0.6798732171156894.\n"
          ]
        },
        {
          "output_type": "stream",
          "name": "stdout",
          "text": [
            "Starting training on device: cuda\n",
            "Training set size: 17206\n",
            "Validation set size: 4302\n"
          ]
        },
        {
          "output_type": "stream",
          "name": "stderr",
          "text": [
            "Training: 100%|██████████| 269/269 [00:11<00:00, 24.12it/s]\n",
            "Validating: 100%|██████████| 68/68 [00:01<00:00, 43.36it/s]\n"
          ]
        },
        {
          "output_type": "stream",
          "name": "stdout",
          "text": [
            "Epoch 1/5 - Time: 12.82s\n",
            "Train Loss: 0.4603, Train F1: 0.5202\n",
            "Val Loss: 0.3882, Val F1: 0.6345\n",
            "Val Precision: 0.6968, Val Recall: 0.5825\n",
            "Validation F1 increased (0.000000 --> 0.634515). Saving model...\n"
          ]
        },
        {
          "output_type": "stream",
          "name": "stderr",
          "text": [
            "Training: 100%|██████████| 269/269 [00:11<00:00, 24.14it/s]\n",
            "Validating: 100%|██████████| 68/68 [00:01<00:00, 43.22it/s]\n"
          ]
        },
        {
          "output_type": "stream",
          "name": "stdout",
          "text": [
            "Epoch 2/5 - Time: 12.81s\n",
            "Train Loss: 0.3846, Train F1: 0.6517\n",
            "Val Loss: 0.3727, Val F1: 0.6424\n",
            "Val Precision: 0.7149, Val Recall: 0.5833\n",
            "Validation F1 increased (0.634515 --> 0.642447). Saving model...\n"
          ]
        },
        {
          "output_type": "stream",
          "name": "stderr",
          "text": [
            "Training: 100%|██████████| 269/269 [00:11<00:00, 24.06it/s]\n",
            "Validating: 100%|██████████| 68/68 [00:01<00:00, 42.44it/s]\n"
          ]
        },
        {
          "output_type": "stream",
          "name": "stdout",
          "text": [
            "Epoch 3/5 - Time: 12.88s\n",
            "Train Loss: 0.3391, Train F1: 0.7099\n",
            "Val Loss: 0.3732, Val F1: 0.6220\n",
            "Val Precision: 0.7485, Val Recall: 0.5321\n",
            "EarlyStopping counter: 1 out of 3\n"
          ]
        },
        {
          "output_type": "stream",
          "name": "stderr",
          "text": [
            "Training: 100%|██████████| 269/269 [00:11<00:00, 24.10it/s]\n",
            "Validating: 100%|██████████| 68/68 [00:01<00:00, 41.72it/s]\n"
          ]
        },
        {
          "output_type": "stream",
          "name": "stdout",
          "text": [
            "Epoch 4/5 - Time: 12.89s\n",
            "Train Loss: 0.2895, Train F1: 0.7677\n",
            "Val Loss: 0.3865, Val F1: 0.6836\n",
            "Val Precision: 0.6292, Val Recall: 0.7483\n",
            "Validation F1 increased (0.642447 --> 0.683584). Saving model...\n"
          ]
        },
        {
          "output_type": "stream",
          "name": "stderr",
          "text": [
            "Training: 100%|██████████| 269/269 [00:11<00:00, 24.13it/s]\n",
            "Validating: 100%|██████████| 68/68 [00:01<00:00, 42.29it/s]\n"
          ]
        },
        {
          "output_type": "stream",
          "name": "stdout",
          "text": [
            "Epoch 5/5 - Time: 12.85s\n",
            "Train Loss: 0.2311, Train F1: 0.8231\n",
            "Val Loss: 0.4062, Val F1: 0.6586\n",
            "Val Precision: 0.6767, Val Recall: 0.6415\n",
            "EarlyStopping counter: 1 out of 3\n",
            "Loaded best model from 'best_bilstm_attention_model.pt'\n"
          ]
        },
        {
          "output_type": "stream",
          "name": "stderr",
          "text": [
            "Validating: 100%|██████████| 68/68 [00:01<00:00, 42.12it/s]\n",
            "[I 2025-03-21 17:43:09,310] Trial 8 finished with value: 0.6835844567803331 and parameters: {'hidden_dim': 512, 'dropout': 0.46593209511824596, 'batch_size': 64, 'learning_rate': 0.0007595312137874969, 'weight_decay': 9.000677316506832e-05}. Best is trial 8 with value: 0.6835844567803331.\n"
          ]
        },
        {
          "output_type": "stream",
          "name": "stdout",
          "text": [
            "Starting training on device: cuda\n",
            "Training set size: 17206\n",
            "Validation set size: 4302\n"
          ]
        },
        {
          "output_type": "stream",
          "name": "stderr",
          "text": [
            "Training: 100%|██████████| 269/269 [00:11<00:00, 24.00it/s]\n",
            "Validating: 100%|██████████| 68/68 [00:01<00:00, 43.01it/s]\n"
          ]
        },
        {
          "output_type": "stream",
          "name": "stdout",
          "text": [
            "Epoch 1/5 - Time: 12.89s\n",
            "Train Loss: 0.5343, Train F1: 0.2636\n",
            "Val Loss: 0.4325, Val F1: 0.5263\n",
            "Val Precision: 0.6584, Val Recall: 0.4384\n",
            "Validation F1 increased (0.000000 --> 0.526316). Saving model...\n"
          ]
        },
        {
          "output_type": "stream",
          "name": "stderr",
          "text": [
            "Training: 100%|██████████| 269/269 [00:11<00:00, 24.01it/s]\n",
            "Validating: 100%|██████████| 68/68 [00:01<00:00, 42.87it/s]\n"
          ]
        },
        {
          "output_type": "stream",
          "name": "stdout",
          "text": [
            "Epoch 2/5 - Time: 12.88s\n",
            "Train Loss: 0.4193, Train F1: 0.5944\n",
            "Val Loss: 0.4359, Val F1: 0.4734\n",
            "Val Precision: 0.7820, Val Recall: 0.3394\n",
            "EarlyStopping counter: 1 out of 3\n"
          ]
        },
        {
          "output_type": "stream",
          "name": "stderr",
          "text": [
            "Training: 100%|██████████| 269/269 [00:11<00:00, 24.42it/s]\n",
            "Validating: 100%|██████████| 68/68 [00:01<00:00, 42.63it/s]\n"
          ]
        },
        {
          "output_type": "stream",
          "name": "stdout",
          "text": [
            "Epoch 3/5 - Time: 12.71s\n",
            "Train Loss: 0.3824, Train F1: 0.6438\n",
            "Val Loss: 0.3877, Val F1: 0.6386\n",
            "Val Precision: 0.7118, Val Recall: 0.5790\n",
            "Validation F1 increased (0.526316 --> 0.638583). Saving model...\n"
          ]
        },
        {
          "output_type": "stream",
          "name": "stderr",
          "text": [
            "Training: 100%|██████████| 269/269 [00:10<00:00, 24.59it/s]\n",
            "Validating: 100%|██████████| 68/68 [00:01<00:00, 43.32it/s]\n"
          ]
        },
        {
          "output_type": "stream",
          "name": "stdout",
          "text": [
            "Epoch 4/5 - Time: 12.60s\n",
            "Train Loss: 0.3545, Train F1: 0.6842\n",
            "Val Loss: 0.3822, Val F1: 0.6460\n",
            "Val Precision: 0.7023, Val Recall: 0.5981\n",
            "Validation F1 increased (0.638583 --> 0.646038). Saving model...\n"
          ]
        },
        {
          "output_type": "stream",
          "name": "stderr",
          "text": [
            "Training: 100%|██████████| 269/269 [00:10<00:00, 24.47it/s]\n",
            "Validating: 100%|██████████| 68/68 [00:01<00:00, 42.76it/s]\n"
          ]
        },
        {
          "output_type": "stream",
          "name": "stdout",
          "text": [
            "Epoch 5/5 - Time: 12.68s\n",
            "Train Loss: 0.3250, Train F1: 0.7190\n",
            "Val Loss: 0.3792, Val F1: 0.6600\n",
            "Val Precision: 0.6877, Val Recall: 0.6345\n",
            "Validation F1 increased (0.646038 --> 0.660045). Saving model...\n",
            "Loaded best model from 'best_bilstm_attention_model.pt'\n"
          ]
        },
        {
          "output_type": "stream",
          "name": "stderr",
          "text": [
            "Validating: 100%|██████████| 68/68 [00:01<00:00, 42.99it/s]\n",
            "[I 2025-03-21 17:44:14,903] Trial 9 finished with value: 0.6600451467268623 and parameters: {'hidden_dim': 256, 'dropout': 0.4677933231849839, 'batch_size': 64, 'learning_rate': 0.000141851256628224, 'weight_decay': 1.8426265036674089e-06}. Best is trial 8 with value: 0.6835844567803331.\n"
          ]
        },
        {
          "output_type": "stream",
          "name": "stdout",
          "text": [
            "Starting training on device: cuda\n",
            "Training set size: 17206\n",
            "Validation set size: 4302\n"
          ]
        },
        {
          "output_type": "stream",
          "name": "stderr",
          "text": [
            "Training: 100%|██████████| 269/269 [00:11<00:00, 24.24it/s]\n",
            "Validating: 100%|██████████| 68/68 [00:01<00:00, 43.11it/s]\n"
          ]
        },
        {
          "output_type": "stream",
          "name": "stdout",
          "text": [
            "Epoch 1/5 - Time: 12.77s\n",
            "Train Loss: 0.4457, Train F1: 0.5588\n",
            "Val Loss: 0.3697, Val F1: 0.6657\n",
            "Val Precision: 0.7214, Val Recall: 0.6181\n",
            "Validation F1 increased (0.000000 --> 0.665732). Saving model...\n"
          ]
        },
        {
          "output_type": "stream",
          "name": "stderr",
          "text": [
            "Training: 100%|██████████| 269/269 [00:11<00:00, 23.96it/s]\n",
            "Validating: 100%|██████████| 68/68 [00:01<00:00, 43.19it/s]\n"
          ]
        },
        {
          "output_type": "stream",
          "name": "stdout",
          "text": [
            "Epoch 2/5 - Time: 12.90s\n",
            "Train Loss: 0.3419, Train F1: 0.7070\n",
            "Val Loss: 0.3830, Val F1: 0.6585\n",
            "Val Precision: 0.6905, Val Recall: 0.6293\n",
            "EarlyStopping counter: 1 out of 3\n"
          ]
        },
        {
          "output_type": "stream",
          "name": "stderr",
          "text": [
            "Training: 100%|██████████| 269/269 [00:11<00:00, 24.26it/s]\n",
            "Validating: 100%|██████████| 68/68 [00:01<00:00, 42.69it/s]\n"
          ]
        },
        {
          "output_type": "stream",
          "name": "stdout",
          "text": [
            "Epoch 3/5 - Time: 12.78s\n",
            "Train Loss: 0.2439, Train F1: 0.8110\n",
            "Val Loss: 0.4339, Val F1: 0.6620\n",
            "Val Precision: 0.5964, Val Recall: 0.7439\n",
            "EarlyStopping counter: 2 out of 3\n"
          ]
        },
        {
          "output_type": "stream",
          "name": "stderr",
          "text": [
            "Training: 100%|██████████| 269/269 [00:11<00:00, 24.23it/s]\n",
            "Validating: 100%|██████████| 68/68 [00:01<00:00, 42.62it/s]\n"
          ]
        },
        {
          "output_type": "stream",
          "name": "stdout",
          "text": [
            "Epoch 4/5 - Time: 12.79s\n",
            "Train Loss: 0.1412, Train F1: 0.8971\n",
            "Val Loss: 0.5082, Val F1: 0.6312\n",
            "Val Precision: 0.6619, Val Recall: 0.6033\n",
            "EarlyStopping counter: 3 out of 3\n",
            "Early stopping triggered\n",
            "Loaded best model from 'best_bilstm_attention_model.pt'\n"
          ]
        },
        {
          "output_type": "stream",
          "name": "stderr",
          "text": [
            "Validating: 100%|██████████| 68/68 [00:01<00:00, 42.31it/s]\n",
            "[I 2025-03-21 17:45:07,923] Trial 10 finished with value: 0.6657316503038803 and parameters: {'hidden_dim': 512, 'dropout': 0.4095988232629122, 'batch_size': 64, 'learning_rate': 0.0016553771586655481, 'weight_decay': 7.540331317933359e-06}. Best is trial 8 with value: 0.6835844567803331.\n"
          ]
        },
        {
          "output_type": "stream",
          "name": "stdout",
          "text": [
            "Starting training on device: cuda\n",
            "Training set size: 17206\n",
            "Validation set size: 4302\n"
          ]
        },
        {
          "output_type": "stream",
          "name": "stderr",
          "text": [
            "Training: 100%|██████████| 1076/1076 [00:22<00:00, 47.92it/s]\n",
            "Validating: 100%|██████████| 269/269 [00:02<00:00, 108.92it/s]\n"
          ]
        },
        {
          "output_type": "stream",
          "name": "stdout",
          "text": [
            "Epoch 1/5 - Time: 25.03s\n",
            "Train Loss: 0.4871, Train F1: 0.4180\n",
            "Val Loss: 0.4589, Val F1: 0.5769\n",
            "Val Precision: 0.6251, Val Recall: 0.5356\n",
            "Validation F1 increased (0.000000 --> 0.576905). Saving model...\n"
          ]
        },
        {
          "output_type": "stream",
          "name": "stderr",
          "text": [
            "Training: 100%|██████████| 1076/1076 [00:22<00:00, 47.95it/s]\n",
            "Validating: 100%|██████████| 269/269 [00:02<00:00, 109.98it/s]\n"
          ]
        },
        {
          "output_type": "stream",
          "name": "stdout",
          "text": [
            "Epoch 2/5 - Time: 24.98s\n",
            "Train Loss: 0.4405, Train F1: 0.5340\n",
            "Val Loss: 0.4276, Val F1: 0.6180\n",
            "Val Precision: 0.6297, Val Recall: 0.6068\n",
            "Validation F1 increased (0.576905 --> 0.618037). Saving model...\n"
          ]
        },
        {
          "output_type": "stream",
          "name": "stderr",
          "text": [
            "Training: 100%|██████████| 1076/1076 [00:22<00:00, 48.39it/s]\n",
            "Validating: 100%|██████████| 269/269 [00:02<00:00, 110.39it/s]\n"
          ]
        },
        {
          "output_type": "stream",
          "name": "stdout",
          "text": [
            "Epoch 3/5 - Time: 24.77s\n",
            "Train Loss: 0.4208, Train F1: 0.5718\n",
            "Val Loss: 0.4946, Val F1: 0.5078\n",
            "Val Precision: 0.7538, Val Recall: 0.3828\n",
            "EarlyStopping counter: 1 out of 3\n"
          ]
        },
        {
          "output_type": "stream",
          "name": "stderr",
          "text": [
            "Training: 100%|██████████| 1076/1076 [00:22<00:00, 48.15it/s]\n",
            "Validating: 100%|██████████| 269/269 [00:02<00:00, 108.93it/s]\n"
          ]
        },
        {
          "output_type": "stream",
          "name": "stdout",
          "text": [
            "Epoch 4/5 - Time: 24.91s\n",
            "Train Loss: 0.3932, Train F1: 0.6302\n",
            "Val Loss: 0.3823, Val F1: 0.6180\n",
            "Val Precision: 0.7162, Val Recall: 0.5434\n",
            "EarlyStopping counter: 2 out of 3\n"
          ]
        },
        {
          "output_type": "stream",
          "name": "stderr",
          "text": [
            "Training: 100%|██████████| 1076/1076 [00:22<00:00, 48.17it/s]\n",
            "Validating: 100%|██████████| 269/269 [00:02<00:00, 110.13it/s]\n"
          ]
        },
        {
          "output_type": "stream",
          "name": "stdout",
          "text": [
            "Epoch 5/5 - Time: 24.88s\n",
            "Train Loss: 0.3611, Train F1: 0.6797\n",
            "Val Loss: 0.4368, Val F1: 0.6604\n",
            "Val Precision: 0.6011, Val Recall: 0.7326\n",
            "Validation F1 increased (0.618037 --> 0.660407). Saving model...\n",
            "Loaded best model from 'best_bilstm_attention_model.pt'\n"
          ]
        },
        {
          "output_type": "stream",
          "name": "stderr",
          "text": [
            "Validating: 100%|██████████| 269/269 [00:02<00:00, 109.60it/s]\n",
            "[I 2025-03-21 17:47:15,163] Trial 11 finished with value: 0.6604068857589984 and parameters: {'hidden_dim': 256, 'dropout': 0.376042368065664, 'batch_size': 16, 'learning_rate': 0.006883437451606231, 'weight_decay': 7.585260929894121e-05}. Best is trial 8 with value: 0.6835844567803331.\n"
          ]
        },
        {
          "output_type": "stream",
          "name": "stdout",
          "text": [
            "Starting training on device: cuda\n",
            "Training set size: 17206\n",
            "Validation set size: 4302\n"
          ]
        },
        {
          "output_type": "stream",
          "name": "stderr",
          "text": [
            "Training: 100%|██████████| 1076/1076 [00:22<00:00, 48.16it/s]\n",
            "Validating: 100%|██████████| 269/269 [00:02<00:00, 109.79it/s]\n"
          ]
        },
        {
          "output_type": "stream",
          "name": "stdout",
          "text": [
            "Epoch 1/5 - Time: 24.89s\n",
            "Train Loss: 0.4534, Train F1: 0.5335\n",
            "Val Loss: 0.3913, Val F1: 0.6134\n",
            "Val Precision: 0.7161, Val Recall: 0.5365\n",
            "Validation F1 increased (0.000000 --> 0.613400). Saving model...\n"
          ]
        },
        {
          "output_type": "stream",
          "name": "stderr",
          "text": [
            "Training: 100%|██████████| 1076/1076 [00:22<00:00, 48.28it/s]\n",
            "Validating: 100%|██████████| 269/269 [00:02<00:00, 109.80it/s]\n"
          ]
        },
        {
          "output_type": "stream",
          "name": "stdout",
          "text": [
            "Epoch 2/5 - Time: 24.83s\n",
            "Train Loss: 0.3749, Train F1: 0.6633\n",
            "Val Loss: 0.3860, Val F1: 0.6856\n",
            "Val Precision: 0.6422, Val Recall: 0.7352\n",
            "Validation F1 increased (0.613400 --> 0.685552). Saving model...\n"
          ]
        },
        {
          "output_type": "stream",
          "name": "stderr",
          "text": [
            "Training: 100%|██████████| 1076/1076 [00:22<00:00, 48.25it/s]\n",
            "Validating: 100%|██████████| 269/269 [00:02<00:00, 109.65it/s]\n"
          ]
        },
        {
          "output_type": "stream",
          "name": "stdout",
          "text": [
            "Epoch 3/5 - Time: 24.85s\n",
            "Train Loss: 0.3256, Train F1: 0.7184\n",
            "Val Loss: 0.3827, Val F1: 0.6379\n",
            "Val Precision: 0.7236, Val Recall: 0.5703\n",
            "EarlyStopping counter: 1 out of 3\n"
          ]
        },
        {
          "output_type": "stream",
          "name": "stderr",
          "text": [
            "Training: 100%|██████████| 1076/1076 [00:22<00:00, 48.36it/s]\n",
            "Validating: 100%|██████████| 269/269 [00:02<00:00, 109.26it/s]\n"
          ]
        },
        {
          "output_type": "stream",
          "name": "stdout",
          "text": [
            "Epoch 4/5 - Time: 24.81s\n",
            "Train Loss: 0.2683, Train F1: 0.7856\n",
            "Val Loss: 0.4085, Val F1: 0.6487\n",
            "Val Precision: 0.6991, Val Recall: 0.6050\n",
            "EarlyStopping counter: 2 out of 3\n"
          ]
        },
        {
          "output_type": "stream",
          "name": "stderr",
          "text": [
            "Training: 100%|██████████| 1076/1076 [00:22<00:00, 48.45it/s]\n",
            "Validating: 100%|██████████| 269/269 [00:02<00:00, 108.21it/s]\n"
          ]
        },
        {
          "output_type": "stream",
          "name": "stdout",
          "text": [
            "Epoch 5/5 - Time: 24.79s\n",
            "Train Loss: 0.2072, Train F1: 0.8477\n",
            "Val Loss: 0.4239, Val F1: 0.6493\n",
            "Val Precision: 0.6601, Val Recall: 0.6389\n",
            "EarlyStopping counter: 3 out of 3\n",
            "Early stopping triggered\n",
            "Loaded best model from 'best_bilstm_attention_model.pt'\n"
          ]
        },
        {
          "output_type": "stream",
          "name": "stderr",
          "text": [
            "Validating: 100%|██████████| 269/269 [00:02<00:00, 109.98it/s]\n",
            "[I 2025-03-21 17:49:21,962] Trial 12 finished with value: 0.6855524079320113 and parameters: {'hidden_dim': 256, 'dropout': 0.4992999000290837, 'batch_size': 16, 'learning_rate': 0.0005037818556479531, 'weight_decay': 9.681497047719699e-05}. Best is trial 12 with value: 0.6855524079320113.\n"
          ]
        },
        {
          "output_type": "stream",
          "name": "stdout",
          "text": [
            "Starting training on device: cuda\n",
            "Training set size: 17206\n",
            "Validation set size: 4302\n"
          ]
        },
        {
          "output_type": "stream",
          "name": "stderr",
          "text": [
            "Training: 100%|██████████| 1076/1076 [00:22<00:00, 48.32it/s]\n",
            "Validating: 100%|██████████| 269/269 [00:02<00:00, 109.79it/s]\n"
          ]
        },
        {
          "output_type": "stream",
          "name": "stdout",
          "text": [
            "Epoch 1/5 - Time: 24.81s\n",
            "Train Loss: 0.4605, Train F1: 0.5156\n",
            "Val Loss: 0.3900, Val F1: 0.6709\n",
            "Val Precision: 0.6551, Val Recall: 0.6875\n",
            "Validation F1 increased (0.000000 --> 0.670902). Saving model...\n"
          ]
        },
        {
          "output_type": "stream",
          "name": "stderr",
          "text": [
            "Training: 100%|██████████| 1076/1076 [00:22<00:00, 48.39it/s]\n",
            "Validating: 100%|██████████| 269/269 [00:02<00:00, 110.18it/s]\n"
          ]
        },
        {
          "output_type": "stream",
          "name": "stdout",
          "text": [
            "Epoch 2/5 - Time: 24.77s\n",
            "Train Loss: 0.3789, Train F1: 0.6511\n",
            "Val Loss: 0.3699, Val F1: 0.6130\n",
            "Val Precision: 0.7484, Val Recall: 0.5191\n",
            "EarlyStopping counter: 1 out of 3\n"
          ]
        },
        {
          "output_type": "stream",
          "name": "stderr",
          "text": [
            "Training: 100%|██████████| 1076/1076 [00:22<00:00, 48.38it/s]\n",
            "Validating: 100%|██████████| 269/269 [00:02<00:00, 108.50it/s]\n"
          ]
        },
        {
          "output_type": "stream",
          "name": "stdout",
          "text": [
            "Epoch 3/5 - Time: 24.82s\n",
            "Train Loss: 0.3302, Train F1: 0.7192\n",
            "Val Loss: 0.3818, Val F1: 0.6114\n",
            "Val Precision: 0.7453, Val Recall: 0.5182\n",
            "EarlyStopping counter: 2 out of 3\n"
          ]
        },
        {
          "output_type": "stream",
          "name": "stderr",
          "text": [
            "Training: 100%|██████████| 1076/1076 [00:22<00:00, 48.30it/s]\n",
            "Validating: 100%|██████████| 269/269 [00:02<00:00, 109.63it/s]\n"
          ]
        },
        {
          "output_type": "stream",
          "name": "stdout",
          "text": [
            "Epoch 4/5 - Time: 24.83s\n",
            "Train Loss: 0.2769, Train F1: 0.7831\n",
            "Val Loss: 0.3886, Val F1: 0.6551\n",
            "Val Precision: 0.7107, Val Recall: 0.6076\n",
            "EarlyStopping counter: 3 out of 3\n",
            "Early stopping triggered\n",
            "Loaded best model from 'best_bilstm_attention_model.pt'\n"
          ]
        },
        {
          "output_type": "stream",
          "name": "stderr",
          "text": [
            "Validating: 100%|██████████| 269/269 [00:02<00:00, 110.02it/s]\n",
            "[I 2025-03-21 17:51:03,779] Trial 13 finished with value: 0.6709021601016518 and parameters: {'hidden_dim': 256, 'dropout': 0.499164563710084, 'batch_size': 16, 'learning_rate': 0.000377960236279894, 'weight_decay': 9.015899669441202e-05}. Best is trial 12 with value: 0.6855524079320113.\n"
          ]
        },
        {
          "output_type": "stream",
          "name": "stdout",
          "text": [
            "Starting training on device: cuda\n",
            "Training set size: 17206\n",
            "Validation set size: 4302\n"
          ]
        },
        {
          "output_type": "stream",
          "name": "stderr",
          "text": [
            "Training: 100%|██████████| 269/269 [00:11<00:00, 24.16it/s]\n",
            "Validating: 100%|██████████| 68/68 [00:01<00:00, 43.11it/s]\n"
          ]
        },
        {
          "output_type": "stream",
          "name": "stdout",
          "text": [
            "Epoch 1/5 - Time: 12.81s\n",
            "Train Loss: 0.4598, Train F1: 0.5127\n",
            "Val Loss: 0.3936, Val F1: 0.6018\n",
            "Val Precision: 0.7126, Val Recall: 0.5208\n",
            "Validation F1 increased (0.000000 --> 0.601805). Saving model...\n"
          ]
        },
        {
          "output_type": "stream",
          "name": "stderr",
          "text": [
            "Training: 100%|██████████| 269/269 [00:11<00:00, 24.05it/s]\n",
            "Validating: 100%|██████████| 68/68 [00:01<00:00, 42.70it/s]\n"
          ]
        },
        {
          "output_type": "stream",
          "name": "stdout",
          "text": [
            "Epoch 2/5 - Time: 12.87s\n",
            "Train Loss: 0.3744, Train F1: 0.6622\n",
            "Val Loss: 0.3674, Val F1: 0.6428\n",
            "Val Precision: 0.7252, Val Recall: 0.5773\n",
            "Validation F1 increased (0.601805 --> 0.642823). Saving model...\n"
          ]
        },
        {
          "output_type": "stream",
          "name": "stderr",
          "text": [
            "Training: 100%|██████████| 269/269 [00:11<00:00, 24.15it/s]\n",
            "Validating: 100%|██████████| 68/68 [00:01<00:00, 42.16it/s]\n"
          ]
        },
        {
          "output_type": "stream",
          "name": "stdout",
          "text": [
            "Epoch 3/5 - Time: 12.85s\n",
            "Train Loss: 0.3251, Train F1: 0.7209\n",
            "Val Loss: 0.3674, Val F1: 0.6811\n",
            "Val Precision: 0.6817, Val Recall: 0.6806\n",
            "Validation F1 increased (0.642823 --> 0.681147). Saving model...\n"
          ]
        },
        {
          "output_type": "stream",
          "name": "stderr",
          "text": [
            "Training: 100%|██████████| 269/269 [00:11<00:00, 24.20it/s]\n",
            "Validating: 100%|██████████| 68/68 [00:01<00:00, 42.50it/s]\n"
          ]
        },
        {
          "output_type": "stream",
          "name": "stdout",
          "text": [
            "Epoch 4/5 - Time: 12.82s\n",
            "Train Loss: 0.2629, Train F1: 0.7896\n",
            "Val Loss: 0.3996, Val F1: 0.6397\n",
            "Val Precision: 0.7186, Val Recall: 0.5764\n",
            "EarlyStopping counter: 1 out of 3\n"
          ]
        },
        {
          "output_type": "stream",
          "name": "stderr",
          "text": [
            "Training: 100%|██████████| 269/269 [00:11<00:00, 24.27it/s]\n",
            "Validating: 100%|██████████| 68/68 [00:01<00:00, 42.75it/s]\n"
          ]
        },
        {
          "output_type": "stream",
          "name": "stdout",
          "text": [
            "Epoch 5/5 - Time: 12.77s\n",
            "Train Loss: 0.1966, Train F1: 0.8557\n",
            "Val Loss: 0.4540, Val F1: 0.6488\n",
            "Val Precision: 0.6797, Val Recall: 0.6207\n",
            "EarlyStopping counter: 2 out of 3\n",
            "Loaded best model from 'best_bilstm_attention_model.pt'\n"
          ]
        },
        {
          "output_type": "stream",
          "name": "stderr",
          "text": [
            "Validating: 100%|██████████| 68/68 [00:01<00:00, 42.84it/s]\n",
            "[I 2025-03-21 17:52:09,772] Trial 14 finished with value: 0.6811468288444831 and parameters: {'hidden_dim': 512, 'dropout': 0.4323880217012266, 'batch_size': 64, 'learning_rate': 0.0005647862288203085, 'weight_decay': 3.0378172130587978e-05}. Best is trial 12 with value: 0.6855524079320113.\n"
          ]
        },
        {
          "output_type": "stream",
          "name": "stdout",
          "text": [
            "Starting training on device: cuda\n",
            "Training set size: 17206\n",
            "Validation set size: 4302\n"
          ]
        },
        {
          "output_type": "stream",
          "name": "stderr",
          "text": [
            "Training: 100%|██████████| 1076/1076 [00:22<00:00, 48.29it/s]\n",
            "Validating: 100%|██████████| 269/269 [00:02<00:00, 109.72it/s]\n"
          ]
        },
        {
          "output_type": "stream",
          "name": "stdout",
          "text": [
            "Epoch 1/5 - Time: 24.83s\n",
            "Train Loss: 0.4649, Train F1: 0.5005\n",
            "Val Loss: 0.3927, Val F1: 0.6619\n",
            "Val Precision: 0.6481, Val Recall: 0.6762\n",
            "Validation F1 increased (0.000000 --> 0.661852). Saving model...\n"
          ]
        },
        {
          "output_type": "stream",
          "name": "stderr",
          "text": [
            "Training: 100%|██████████| 1076/1076 [00:22<00:00, 48.23it/s]\n",
            "Validating: 100%|██████████| 269/269 [00:02<00:00, 109.67it/s]\n"
          ]
        },
        {
          "output_type": "stream",
          "name": "stdout",
          "text": [
            "Epoch 2/5 - Time: 24.86s\n",
            "Train Loss: 0.3764, Train F1: 0.6603\n",
            "Val Loss: 0.3843, Val F1: 0.6048\n",
            "Val Precision: 0.7776, Val Recall: 0.4948\n",
            "EarlyStopping counter: 1 out of 3\n"
          ]
        },
        {
          "output_type": "stream",
          "name": "stderr",
          "text": [
            "Training: 100%|██████████| 1076/1076 [00:22<00:00, 48.50it/s]\n",
            "Validating: 100%|██████████| 269/269 [00:02<00:00, 109.54it/s]\n"
          ]
        },
        {
          "output_type": "stream",
          "name": "stdout",
          "text": [
            "Epoch 3/5 - Time: 24.74s\n",
            "Train Loss: 0.3260, Train F1: 0.7217\n",
            "Val Loss: 0.3988, Val F1: 0.6246\n",
            "Val Precision: 0.7543, Val Recall: 0.5330\n",
            "EarlyStopping counter: 2 out of 3\n"
          ]
        },
        {
          "output_type": "stream",
          "name": "stderr",
          "text": [
            "Training: 100%|██████████| 1076/1076 [00:22<00:00, 48.42it/s]\n",
            "Validating: 100%|██████████| 269/269 [00:02<00:00, 109.67it/s]\n"
          ]
        },
        {
          "output_type": "stream",
          "name": "stdout",
          "text": [
            "Epoch 4/5 - Time: 24.77s\n",
            "Train Loss: 0.2695, Train F1: 0.7857\n",
            "Val Loss: 0.4233, Val F1: 0.6348\n",
            "Val Precision: 0.7330, Val Recall: 0.5599\n",
            "EarlyStopping counter: 3 out of 3\n",
            "Early stopping triggered\n",
            "Loaded best model from 'best_bilstm_attention_model.pt'\n"
          ]
        },
        {
          "output_type": "stream",
          "name": "stderr",
          "text": [
            "Validating: 100%|██████████| 269/269 [00:02<00:00, 110.34it/s]\n",
            "[I 2025-03-21 17:53:51,552] Trial 15 finished with value: 0.6618521665250637 and parameters: {'hidden_dim': 256, 'dropout': 0.49946441492343524, 'batch_size': 16, 'learning_rate': 0.0002208593967342603, 'weight_decay': 1.3769144005769938e-05}. Best is trial 12 with value: 0.6855524079320113.\n"
          ]
        },
        {
          "output_type": "stream",
          "name": "stdout",
          "text": [
            "Starting training on device: cuda\n",
            "Training set size: 17206\n",
            "Validation set size: 4302\n"
          ]
        },
        {
          "output_type": "stream",
          "name": "stderr",
          "text": [
            "Training: 100%|██████████| 1076/1076 [00:22<00:00, 47.25it/s]\n",
            "Validating: 100%|██████████| 269/269 [00:02<00:00, 110.22it/s]\n"
          ]
        },
        {
          "output_type": "stream",
          "name": "stdout",
          "text": [
            "Epoch 1/5 - Time: 25.31s\n",
            "Train Loss: 0.4382, Train F1: 0.5665\n",
            "Val Loss: 0.3764, Val F1: 0.6186\n",
            "Val Precision: 0.7690, Val Recall: 0.5174\n",
            "Validation F1 increased (0.000000 --> 0.618578). Saving model...\n"
          ]
        },
        {
          "output_type": "stream",
          "name": "stderr",
          "text": [
            "Training: 100%|██████████| 1076/1076 [00:22<00:00, 47.28it/s]\n",
            "Validating: 100%|██████████| 269/269 [00:02<00:00, 109.80it/s]\n"
          ]
        },
        {
          "output_type": "stream",
          "name": "stdout",
          "text": [
            "Epoch 2/5 - Time: 25.30s\n",
            "Train Loss: 0.3141, Train F1: 0.7349\n",
            "Val Loss: 0.4694, Val F1: 0.5915\n",
            "Val Precision: 0.7315, Val Recall: 0.4965\n",
            "EarlyStopping counter: 1 out of 3\n"
          ]
        },
        {
          "output_type": "stream",
          "name": "stderr",
          "text": [
            "Training: 100%|██████████| 1076/1076 [00:22<00:00, 47.38it/s]\n",
            "Validating: 100%|██████████| 269/269 [00:02<00:00, 108.93it/s]\n"
          ]
        },
        {
          "output_type": "stream",
          "name": "stdout",
          "text": [
            "Epoch 3/5 - Time: 25.28s\n",
            "Train Loss: 0.2112, Train F1: 0.8399\n",
            "Val Loss: 0.4603, Val F1: 0.6430\n",
            "Val Precision: 0.6591, Val Recall: 0.6276\n",
            "Validation F1 increased (0.618578 --> 0.642952). Saving model...\n"
          ]
        },
        {
          "output_type": "stream",
          "name": "stderr",
          "text": [
            "Training: 100%|██████████| 1076/1076 [00:22<00:00, 47.53it/s]\n",
            "Validating: 100%|██████████| 269/269 [00:02<00:00, 109.94it/s]\n"
          ]
        },
        {
          "output_type": "stream",
          "name": "stdout",
          "text": [
            "Epoch 4/5 - Time: 25.18s\n",
            "Train Loss: 0.1148, Train F1: 0.9200\n",
            "Val Loss: 0.8621, Val F1: 0.5994\n",
            "Val Precision: 0.6382, Val Recall: 0.5651\n",
            "EarlyStopping counter: 1 out of 3\n"
          ]
        },
        {
          "output_type": "stream",
          "name": "stderr",
          "text": [
            "Training: 100%|██████████| 1076/1076 [00:22<00:00, 47.13it/s]\n",
            "Validating: 100%|██████████| 269/269 [00:02<00:00, 109.61it/s]\n"
          ]
        },
        {
          "output_type": "stream",
          "name": "stdout",
          "text": [
            "Epoch 5/5 - Time: 25.38s\n",
            "Train Loss: 0.0648, Train F1: 0.9617\n",
            "Val Loss: 0.9874, Val F1: 0.6242\n",
            "Val Precision: 0.5791, Val Recall: 0.6771\n",
            "EarlyStopping counter: 2 out of 3\n",
            "Loaded best model from 'best_bilstm_attention_model.pt'\n"
          ]
        },
        {
          "output_type": "stream",
          "name": "stderr",
          "text": [
            "Validating: 100%|██████████| 269/269 [00:02<00:00, 110.55it/s]\n",
            "[I 2025-03-21 17:56:00,667] Trial 16 finished with value: 0.6429524232992441 and parameters: {'hidden_dim': 512, 'dropout': 0.4320876431747581, 'batch_size': 16, 'learning_rate': 0.0016439435828147543, 'weight_decay': 3.96285310609686e-06}. Best is trial 12 with value: 0.6855524079320113.\n"
          ]
        },
        {
          "output_type": "stream",
          "name": "stdout",
          "text": [
            "Starting training on device: cuda\n",
            "Training set size: 17206\n",
            "Validation set size: 4302\n"
          ]
        },
        {
          "output_type": "stream",
          "name": "stderr",
          "text": [
            "Training: 100%|██████████| 269/269 [00:11<00:00, 24.29it/s]\n",
            "Validating: 100%|██████████| 68/68 [00:01<00:00, 43.55it/s]\n"
          ]
        },
        {
          "output_type": "stream",
          "name": "stdout",
          "text": [
            "Epoch 1/5 - Time: 12.73s\n",
            "Train Loss: 0.4642, Train F1: 0.5014\n",
            "Val Loss: 0.3866, Val F1: 0.6025\n",
            "Val Precision: 0.7179, Val Recall: 0.5191\n",
            "Validation F1 increased (0.000000 --> 0.602519). Saving model...\n"
          ]
        },
        {
          "output_type": "stream",
          "name": "stderr",
          "text": [
            "Training: 100%|██████████| 269/269 [00:10<00:00, 24.54it/s]\n",
            "Validating: 100%|██████████| 68/68 [00:01<00:00, 43.39it/s]\n"
          ]
        },
        {
          "output_type": "stream",
          "name": "stdout",
          "text": [
            "Epoch 2/5 - Time: 12.62s\n",
            "Train Loss: 0.3707, Train F1: 0.6582\n",
            "Val Loss: 0.3854, Val F1: 0.5961\n",
            "Val Precision: 0.7703, Val Recall: 0.4861\n",
            "EarlyStopping counter: 1 out of 3\n"
          ]
        },
        {
          "output_type": "stream",
          "name": "stderr",
          "text": [
            "Training: 100%|██████████| 269/269 [00:10<00:00, 24.59it/s]\n",
            "Validating: 100%|██████████| 68/68 [00:01<00:00, 43.35it/s]\n"
          ]
        },
        {
          "output_type": "stream",
          "name": "stdout",
          "text": [
            "Epoch 3/5 - Time: 12.60s\n",
            "Train Loss: 0.3186, Train F1: 0.7277\n",
            "Val Loss: 0.3794, Val F1: 0.6494\n",
            "Val Precision: 0.7408, Val Recall: 0.5781\n",
            "Validation F1 increased (0.602519 --> 0.649439). Saving model...\n"
          ]
        },
        {
          "output_type": "stream",
          "name": "stderr",
          "text": [
            "Training: 100%|██████████| 269/269 [00:10<00:00, 24.53it/s]\n",
            "Validating: 100%|██████████| 68/68 [00:01<00:00, 43.11it/s]\n"
          ]
        },
        {
          "output_type": "stream",
          "name": "stdout",
          "text": [
            "Epoch 4/5 - Time: 12.64s\n",
            "Train Loss: 0.2564, Train F1: 0.8005\n",
            "Val Loss: 0.3847, Val F1: 0.6661\n",
            "Val Precision: 0.6664, Val Recall: 0.6658\n",
            "Validation F1 increased (0.649439 --> 0.666088). Saving model...\n"
          ]
        },
        {
          "output_type": "stream",
          "name": "stderr",
          "text": [
            "Training: 100%|██████████| 269/269 [00:10<00:00, 24.48it/s]\n",
            "Validating: 100%|██████████| 68/68 [00:01<00:00, 43.33it/s]\n"
          ]
        },
        {
          "output_type": "stream",
          "name": "stdout",
          "text": [
            "Epoch 5/5 - Time: 12.65s\n",
            "Train Loss: 0.1842, Train F1: 0.8665\n",
            "Val Loss: 0.4838, Val F1: 0.6471\n",
            "Val Precision: 0.6621, Val Recall: 0.6328\n",
            "EarlyStopping counter: 1 out of 3\n",
            "Loaded best model from 'best_bilstm_attention_model.pt'\n"
          ]
        },
        {
          "output_type": "stream",
          "name": "stderr",
          "text": [
            "Validating: 100%|██████████| 68/68 [00:01<00:00, 42.87it/s]\n",
            "[I 2025-03-21 17:57:05,727] Trial 17 finished with value: 0.6660877116804168 and parameters: {'hidden_dim': 256, 'dropout': 0.47476943763630997, 'batch_size': 64, 'learning_rate': 0.0007931645345283066, 'weight_decay': 4.435500680222667e-05}. Best is trial 12 with value: 0.6855524079320113.\n"
          ]
        },
        {
          "output_type": "stream",
          "name": "stdout",
          "text": [
            "Starting training on device: cuda\n",
            "Training set size: 17206\n",
            "Validation set size: 4302\n"
          ]
        },
        {
          "output_type": "stream",
          "name": "stderr",
          "text": [
            "Training: 100%|██████████| 1076/1076 [00:23<00:00, 46.37it/s]\n",
            "Validating: 100%|██████████| 269/269 [00:02<00:00, 108.05it/s]\n"
          ]
        },
        {
          "output_type": "stream",
          "name": "stdout",
          "text": [
            "Epoch 1/5 - Time: 25.79s\n",
            "Train Loss: 0.4509, Train F1: 0.5247\n",
            "Val Loss: 0.3989, Val F1: 0.5639\n",
            "Val Precision: 0.7611, Val Recall: 0.4479\n",
            "Validation F1 increased (0.000000 --> 0.563934). Saving model...\n"
          ]
        },
        {
          "output_type": "stream",
          "name": "stderr",
          "text": [
            "Training: 100%|██████████| 1076/1076 [00:23<00:00, 46.34it/s]\n",
            "Validating: 100%|██████████| 269/269 [00:02<00:00, 108.75it/s]\n"
          ]
        },
        {
          "output_type": "stream",
          "name": "stdout",
          "text": [
            "Epoch 2/5 - Time: 25.79s\n",
            "Train Loss: 0.3791, Train F1: 0.6528\n",
            "Val Loss: 0.3715, Val F1: 0.6058\n",
            "Val Precision: 0.7663, Val Recall: 0.5009\n",
            "Validation F1 increased (0.563934 --> 0.605774). Saving model...\n"
          ]
        },
        {
          "output_type": "stream",
          "name": "stderr",
          "text": [
            "Training: 100%|██████████| 1076/1076 [00:23<00:00, 46.40it/s]\n",
            "Validating: 100%|██████████| 269/269 [00:02<00:00, 109.18it/s]\n"
          ]
        },
        {
          "output_type": "stream",
          "name": "stdout",
          "text": [
            "Epoch 3/5 - Time: 25.75s\n",
            "Train Loss: 0.3412, Train F1: 0.7029\n",
            "Val Loss: 0.3654, Val F1: 0.6646\n",
            "Val Precision: 0.6894, Val Recall: 0.6415\n",
            "Validation F1 increased (0.605774 --> 0.664568). Saving model...\n"
          ]
        },
        {
          "output_type": "stream",
          "name": "stderr",
          "text": [
            "Training: 100%|██████████| 1076/1076 [00:23<00:00, 46.45it/s]\n",
            "Validating: 100%|██████████| 269/269 [00:02<00:00, 108.81it/s]\n"
          ]
        },
        {
          "output_type": "stream",
          "name": "stdout",
          "text": [
            "Epoch 4/5 - Time: 25.74s\n",
            "Train Loss: 0.2936, Train F1: 0.7610\n",
            "Val Loss: 0.3770, Val F1: 0.6911\n",
            "Val Precision: 0.6453, Val Recall: 0.7439\n",
            "Validation F1 increased (0.664568 --> 0.691129). Saving model...\n"
          ]
        },
        {
          "output_type": "stream",
          "name": "stderr",
          "text": [
            "Training: 100%|██████████| 1076/1076 [00:23<00:00, 46.51it/s]\n",
            "Validating: 100%|██████████| 269/269 [00:02<00:00, 110.05it/s]\n"
          ]
        },
        {
          "output_type": "stream",
          "name": "stdout",
          "text": [
            "Epoch 5/5 - Time: 25.67s\n",
            "Train Loss: 0.2414, Train F1: 0.8108\n",
            "Val Loss: 0.3945, Val F1: 0.6483\n",
            "Val Precision: 0.6764, Val Recall: 0.6224\n",
            "EarlyStopping counter: 1 out of 3\n",
            "Loaded best model from 'best_bilstm_attention_model.pt'\n"
          ]
        },
        {
          "output_type": "stream",
          "name": "stderr",
          "text": [
            "Validating: 100%|██████████| 269/269 [00:02<00:00, 110.94it/s]\n",
            "[I 2025-03-21 17:59:17,249] Trial 18 finished with value: 0.6911290322580645 and parameters: {'hidden_dim': 512, 'dropout': 0.4508594141808036, 'batch_size': 16, 'learning_rate': 0.00027416000685940727, 'weight_decay': 9.847501948528487e-05}. Best is trial 18 with value: 0.6911290322580645.\n"
          ]
        },
        {
          "output_type": "stream",
          "name": "stdout",
          "text": [
            "Starting training on device: cuda\n",
            "Training set size: 17206\n",
            "Validation set size: 4302\n"
          ]
        },
        {
          "output_type": "stream",
          "name": "stderr",
          "text": [
            "Training: 100%|██████████| 1076/1076 [00:22<00:00, 48.24it/s]\n",
            "Validating: 100%|██████████| 269/269 [00:02<00:00, 109.58it/s]\n"
          ]
        },
        {
          "output_type": "stream",
          "name": "stdout",
          "text": [
            "Epoch 1/5 - Time: 24.86s\n",
            "Train Loss: 0.4753, Train F1: 0.4811\n",
            "Val Loss: 0.3925, Val F1: 0.6446\n",
            "Val Precision: 0.6842, Val Recall: 0.6094\n",
            "Validation F1 increased (0.000000 --> 0.644628). Saving model...\n"
          ]
        },
        {
          "output_type": "stream",
          "name": "stderr",
          "text": [
            "Training: 100%|██████████| 1076/1076 [00:22<00:00, 48.71it/s]\n",
            "Validating: 100%|██████████| 269/269 [00:02<00:00, 108.58it/s]\n"
          ]
        },
        {
          "output_type": "stream",
          "name": "stdout",
          "text": [
            "Epoch 2/5 - Time: 24.67s\n",
            "Train Loss: 0.3795, Train F1: 0.6552\n",
            "Val Loss: 0.3677, Val F1: 0.6536\n",
            "Val Precision: 0.7307, Val Recall: 0.5911\n",
            "Validation F1 increased (0.644628 --> 0.653551). Saving model...\n"
          ]
        },
        {
          "output_type": "stream",
          "name": "stderr",
          "text": [
            "Training: 100%|██████████| 1076/1076 [00:21<00:00, 49.10it/s]\n",
            "Validating: 100%|██████████| 269/269 [00:02<00:00, 108.04it/s]\n"
          ]
        },
        {
          "output_type": "stream",
          "name": "stdout",
          "text": [
            "Epoch 3/5 - Time: 24.50s\n",
            "Train Loss: 0.3234, Train F1: 0.7252\n",
            "Val Loss: 0.3652, Val F1: 0.6794\n",
            "Val Precision: 0.6800, Val Recall: 0.6788\n",
            "Validation F1 increased (0.653551 --> 0.679409). Saving model...\n"
          ]
        },
        {
          "output_type": "stream",
          "name": "stderr",
          "text": [
            "Training: 100%|██████████| 1076/1076 [00:21<00:00, 48.95it/s]\n",
            "Validating: 100%|██████████| 269/269 [00:02<00:00, 109.23it/s]\n"
          ]
        },
        {
          "output_type": "stream",
          "name": "stdout",
          "text": [
            "Epoch 4/5 - Time: 24.54s\n",
            "Train Loss: 0.2646, Train F1: 0.7894\n",
            "Val Loss: 0.4027, Val F1: 0.6623\n",
            "Val Precision: 0.6589, Val Recall: 0.6658\n",
            "EarlyStopping counter: 1 out of 3\n"
          ]
        },
        {
          "output_type": "stream",
          "name": "stderr",
          "text": [
            "Training: 100%|██████████| 1076/1076 [00:21<00:00, 48.91it/s]\n",
            "Validating: 100%|██████████| 269/269 [00:02<00:00, 108.69it/s]\n"
          ]
        },
        {
          "output_type": "stream",
          "name": "stdout",
          "text": [
            "Epoch 5/5 - Time: 24.57s\n",
            "Train Loss: 0.2048, Train F1: 0.8536\n",
            "Val Loss: 0.4366, Val F1: 0.6675\n",
            "Val Precision: 0.6441, Val Recall: 0.6927\n",
            "EarlyStopping counter: 2 out of 3\n",
            "Loaded best model from 'best_bilstm_attention_model.pt'\n"
          ]
        },
        {
          "output_type": "stream",
          "name": "stderr",
          "text": [
            "Validating: 100%|██████████| 269/269 [00:02<00:00, 109.79it/s]\n",
            "[I 2025-03-21 18:01:23,047] Trial 19 finished with value: 0.6794092093831451 and parameters: {'hidden_dim': 128, 'dropout': 0.3864588188567415, 'batch_size': 16, 'learning_rate': 0.0002398422178544341, 'weight_decay': 1.5113095854152683e-05}. Best is trial 18 with value: 0.6911290322580645.\n"
          ]
        },
        {
          "output_type": "stream",
          "name": "stdout",
          "text": [
            "Best trial:\n",
            "  Value (F1 Score): 0.6911\n",
            "  Params: \n",
            "    hidden_dim: 512\n",
            "    dropout: 0.4508594141808036\n",
            "    batch_size: 16\n",
            "    learning_rate: 0.00027416000685940727\n",
            "    weight_decay: 9.847501948528487e-05\n"
          ]
        }
      ]
    },
    {
      "cell_type": "markdown",
      "source": [
        "### Train Model"
      ],
      "metadata": {
        "id": "hARI31lKTTKG"
      }
    },
    {
      "cell_type": "code",
      "source": [
        "# Train final model with best hyperparameters\n",
        "print(\"\\nTraining final model with best hyperparameters...\")\n",
        "model = BiLSTMAttention(\n",
        "    vocab_size=len(vocab),\n",
        "    embedding_dim=embedding_dim,\n",
        "    hidden_dim=trial.params['hidden_dim'],\n",
        "    # num_layers=trial.params['num_layers'],\n",
        "    num_layers=num_layers,\n",
        "    dropout=trial.params['dropout'],\n",
        "    pretrained_embeddings=embeddings\n",
        ")\n",
        "\n",
        "\n",
        "# Print model architecture summary\n",
        "print(\"\\nModel Architecture:\")\n",
        "print(f\"Vocabulary Size: {len(vocab)}\")\n",
        "print(f\"Embedding Dimension: {embedding_dim}\")\n",
        "print(f\"Hidden Dimension: {trial.params['hidden_dim']}\")\n",
        "# print(f\"Batch size: {trial.params['batch_size']}\")\n",
        "print(f\"Number of LSTM Layers: {num_layers}\")\n",
        "print(f\"Dropout Rate: {trial.params['dropout']}\")\n",
        "\n",
        "\n",
        "\n",
        "# Count parameters\n",
        "total_params = sum(p.numel() for p in model.parameters())\n",
        "trainable_params = sum(p.numel() for p in model.parameters() if p.requires_grad)\n",
        "print(f\"Total Parameters: {total_params:,}\")\n",
        "print(f\"Trainable Parameters: {trainable_params:,}\")\n",
        "\n",
        "# Initialize trainer\n",
        "trainer = Trainer(\n",
        "    model=model,\n",
        "    train_dataset=train_dataset,\n",
        "    val_dataset=val_dataset,\n",
        "    batch_size=trial.params['batch_size'],\n",
        "    learning_rate=trial.params['learning_rate'],\n",
        "    weight_decay=trial.params['weight_decay'],\n",
        "    device=device\n",
        ")\n",
        "\n",
        "# Train model\n",
        "print(\"\\nStarting training...\")\n",
        "trainer.train(num_epochs=15)\n",
        "\n",
        "# Final evaluation\n",
        "print(\"\\nPerforming final evaluation on validation set...\")\n",
        "val_metrics = trainer.evaluate()\n",
        "\n",
        "print(\"\\nFinal Validation Metrics:\")\n",
        "print(f\"Loss: {val_metrics['loss']:.4f}\")\n",
        "print(f\"Accuracy: {val_metrics['accuracy']:.4f}\")\n",
        "print(f\"Precision: {val_metrics['precision']:.4f}\")\n",
        "print(f\"Recall: {val_metrics['recall']:.4f}\")\n",
        "print(f\"F1 Score: {val_metrics['f1']:.4f}\")\n",
        "\n",
        "# Save final model\n",
        "final_model_path = 'models/final_model.pt'\n",
        "trainer.save_model(final_model_path)\n",
        "\n",
        "print(\"\\nTraining and evaluation completed!\")"
      ],
      "metadata": {
        "colab": {
          "base_uri": "https://localhost:8080/"
        },
        "id": "5OBaBa6JxJ8Z",
        "outputId": "df30b41f-f225-4f96-c769-b3775600244e"
      },
      "execution_count": 39,
      "outputs": [
        {
          "output_type": "stream",
          "name": "stdout",
          "text": [
            "\n",
            "Training final model with best hyperparameters...\n",
            "\n",
            "Model Architecture:\n",
            "Vocabulary Size: 12686\n",
            "Embedding Dimension: 300\n",
            "Hidden Dimension: 512\n",
            "Number of LSTM Layers: 1\n",
            "Dropout Rate: 0.4508594141808036\n",
            "Total Parameters: 6,880,364\n",
            "Trainable Parameters: 6,880,364\n",
            "\n",
            "Starting training...\n",
            "Starting training on device: cuda\n",
            "Training set size: 17206\n",
            "Validation set size: 4302\n"
          ]
        },
        {
          "output_type": "stream",
          "name": "stderr",
          "text": [
            "Training: 100%|██████████| 1076/1076 [00:23<00:00, 46.29it/s]\n",
            "Validating: 100%|██████████| 269/269 [00:02<00:00, 109.06it/s]\n"
          ]
        },
        {
          "output_type": "stream",
          "name": "stdout",
          "text": [
            "Epoch 1/15 - Time: 25.80s\n",
            "Train Loss: 0.4565, Train F1: 0.5149\n",
            "Val Loss: 0.3946, Val F1: 0.5839\n",
            "Val Precision: 0.7453, Val Recall: 0.4800\n",
            "Validation F1 increased (0.000000 --> 0.583949). Saving model...\n"
          ]
        },
        {
          "output_type": "stream",
          "name": "stderr",
          "text": [
            "Training: 100%|██████████| 1076/1076 [00:23<00:00, 46.33it/s]\n",
            "Validating: 100%|██████████| 269/269 [00:02<00:00, 108.51it/s]\n"
          ]
        },
        {
          "output_type": "stream",
          "name": "stdout",
          "text": [
            "Epoch 2/15 - Time: 25.80s\n",
            "Train Loss: 0.3796, Train F1: 0.6497\n",
            "Val Loss: 0.3715, Val F1: 0.6736\n",
            "Val Precision: 0.6772, Val Recall: 0.6701\n",
            "Validation F1 increased (0.583949 --> 0.673647). Saving model...\n"
          ]
        },
        {
          "output_type": "stream",
          "name": "stderr",
          "text": [
            "Training: 100%|██████████| 1076/1076 [00:23<00:00, 46.35it/s]\n",
            "Validating: 100%|██████████| 269/269 [00:02<00:00, 107.94it/s]\n"
          ]
        },
        {
          "output_type": "stream",
          "name": "stdout",
          "text": [
            "Epoch 3/15 - Time: 25.80s\n",
            "Train Loss: 0.3423, Train F1: 0.6967\n",
            "Val Loss: 0.3796, Val F1: 0.6523\n",
            "Val Precision: 0.7288, Val Recall: 0.5903\n",
            "EarlyStopping counter: 1 out of 3\n"
          ]
        },
        {
          "output_type": "stream",
          "name": "stderr",
          "text": [
            "Training: 100%|██████████| 1076/1076 [00:23<00:00, 46.25it/s]\n",
            "Validating: 100%|██████████| 269/269 [00:02<00:00, 108.71it/s]\n"
          ]
        },
        {
          "output_type": "stream",
          "name": "stdout",
          "text": [
            "Epoch 4/15 - Time: 25.84s\n",
            "Train Loss: 0.2974, Train F1: 0.7559\n",
            "Val Loss: 0.3733, Val F1: 0.6628\n",
            "Val Precision: 0.6751, Val Recall: 0.6510\n",
            "EarlyStopping counter: 2 out of 3\n"
          ]
        },
        {
          "output_type": "stream",
          "name": "stderr",
          "text": [
            "Training: 100%|██████████| 1076/1076 [00:22<00:00, 46.98it/s]\n",
            "Validating: 100%|██████████| 269/269 [00:02<00:00, 108.83it/s]\n"
          ]
        },
        {
          "output_type": "stream",
          "name": "stdout",
          "text": [
            "Epoch 5/15 - Time: 25.47s\n",
            "Train Loss: 0.2458, Train F1: 0.8075\n",
            "Val Loss: 0.4039, Val F1: 0.6718\n",
            "Val Precision: 0.6650, Val Recall: 0.6788\n",
            "EarlyStopping counter: 3 out of 3\n",
            "Early stopping triggered\n",
            "Loaded best model from 'best_bilstm_attention_model.pt'\n",
            "\n",
            "Performing final evaluation on validation set...\n"
          ]
        },
        {
          "output_type": "stream",
          "name": "stderr",
          "text": [
            "Validating: 100%|██████████| 269/269 [00:02<00:00, 109.35it/s]"
          ]
        },
        {
          "output_type": "stream",
          "name": "stdout",
          "text": [
            "\n",
            "Final Validation Metrics:\n",
            "Loss: 0.3715\n",
            "Accuracy: 0.8261\n",
            "Precision: 0.6772\n",
            "Recall: 0.6701\n",
            "F1 Score: 0.6736\n",
            "Model saved to models/final_model.pt\n",
            "\n",
            "Training and evaluation completed!\n"
          ]
        },
        {
          "output_type": "stream",
          "name": "stderr",
          "text": [
            "\n"
          ]
        }
      ]
    },
    {
      "cell_type": "code",
      "source": [
        "# Create the dataset\n",
        "test_dataset = EvidenceDetectionDataset(test_df, vocab)\n",
        "print(f\"Test dataset size: {len(test_dataset)}\")\n",
        "\n",
        "# Create test data loader for final testing\n",
        "test_loader = DataLoader(\n",
        "    test_dataset,\n",
        "    batch_size=trial.params['batch_size'],\n",
        "    shuffle=False,\n",
        "    collate_fn=trainer.collate_fn\n",
        ")\n",
        "\n",
        "# Load the final model\n",
        "final_model_path = 'models/final_model.pt'\n",
        "final_model = BiLSTMAttention(\n",
        "    vocab_size=len(vocab),\n",
        "    embedding_dim=embedding_dim,\n",
        "    hidden_dim=trial.params['hidden_dim'],\n",
        "    num_layers=num_layers,\n",
        "    dropout=trial.params['dropout'],\n",
        "    pretrained_embeddings=embeddings\n",
        ")\n",
        "final_model.load_state_dict(torch.load(final_model_path))\n",
        "final_model.to(device)\n",
        "\n",
        "# Now evaluate on test set\n",
        "print(\"\\nPerforming evaluation on test set (dev.csv)...\")\n",
        "final_model.eval()\n",
        "test_loss = 0.0\n",
        "all_predictions = []\n",
        "all_labels = []\n",
        "\n",
        "with torch.no_grad():\n",
        "    for batch in tqdm(test_loader, desc=\"Testing\"):\n",
        "        # Move batch to device\n",
        "        claim_ids = batch['claim_ids'].to(device)\n",
        "        claim_lengths = batch['claim_lengths']\n",
        "        evidence_ids = batch['evidence_ids'].to(device)\n",
        "        evidence_lengths = batch['evidence_lengths']\n",
        "        labels = batch['labels'].to(device)\n",
        "\n",
        "        # Forward pass\n",
        "        logits, _ = final_model(claim_ids, claim_lengths, evidence_ids, evidence_lengths)\n",
        "        loss = trainer.criterion(logits, labels)\n",
        "\n",
        "        # Accumulate metrics\n",
        "        test_loss += loss.item()\n",
        "        predictions = torch.argmax(logits, dim=1).cpu().numpy()\n",
        "        all_predictions.extend(predictions)\n",
        "        all_labels.extend(labels.cpu().numpy())\n",
        "\n",
        "# Calculate metrics\n",
        "accuracy = accuracy_score(all_labels, all_predictions)\n",
        "precision = precision_score(all_labels, all_predictions, average='binary')\n",
        "recall = recall_score(all_labels, all_predictions, average='binary')\n",
        "f1 = f1_score(all_labels, all_predictions, average='binary')\n",
        "\n",
        "print(\"\\nTest Set Metrics:\")\n",
        "print(f\"Loss: {test_loss / len(test_loader):.4f}\")\n",
        "print(f\"Accuracy: {accuracy:.4f}\")\n",
        "print(f\"Precision: {precision:.4f}\")\n",
        "print(f\"Recall: {recall:.4f}\")\n",
        "print(f\"F1 Score: {f1:.4f}\")"
      ],
      "metadata": {
        "colab": {
          "base_uri": "https://localhost:8080/"
        },
        "id": "7agV0aF7a_3Z",
        "outputId": "68eda1ff-58b7-4739-d436-5673e9431227"
      },
      "execution_count": 40,
      "outputs": [
        {
          "output_type": "stream",
          "name": "stdout",
          "text": [
            "Test dataset size: 5926\n",
            "\n",
            "Performing evaluation on test set (dev.csv)...\n"
          ]
        },
        {
          "output_type": "stream",
          "name": "stderr",
          "text": [
            "Testing: 100%|██████████| 371/371 [00:03<00:00, 109.15it/s]"
          ]
        },
        {
          "output_type": "stream",
          "name": "stdout",
          "text": [
            "\n",
            "Test Set Metrics:\n",
            "Loss: 0.3840\n",
            "Accuracy: 0.8134\n",
            "Precision: 0.6716\n",
            "Recall: 0.6372\n",
            "F1 Score: 0.6539\n"
          ]
        },
        {
          "output_type": "stream",
          "name": "stderr",
          "text": [
            "\n"
          ]
        }
      ]
    },
    {
      "cell_type": "markdown",
      "source": [
        "### Test the model"
      ],
      "metadata": {
        "id": "IHG7ZMdPcskD"
      }
    },
    {
      "cell_type": "code",
      "source": [
        "# Function to collate batches without labels for test data\n",
        "def test_collate_fn(batch):\n",
        "    # Separate batch elements\n",
        "    claims = [item['claim_ids'] for item in batch]\n",
        "    claim_lengths = torch.tensor([item['claim_length'] for item in batch])\n",
        "    evidences = [item['evidence_ids'] for item in batch]\n",
        "    evidence_lengths = torch.tensor([item['evidence_length'] for item in batch])\n",
        "\n",
        "    # Pad sequences\n",
        "    padded_claims = pad_sequence(claims, batch_first=True, padding_value=0)\n",
        "    padded_evidences = pad_sequence(evidences, batch_first=True, padding_value=0)\n",
        "\n",
        "    return {\n",
        "        'claim_ids': padded_claims,\n",
        "        'claim_lengths': claim_lengths,\n",
        "        'evidence_ids': padded_evidences,\n",
        "        'evidence_lengths': evidence_lengths\n",
        "    }\n",
        "\n",
        "# Set device\n",
        "# device = torch.device('cuda' if torch.cuda.is_available() else 'cpu')\n",
        "# print(f\"Using device: {device}\")\n",
        "\n",
        "# Load vocabulary\n",
        "# with open('vocab.pkl', 'rb') as f:\n",
        "#     vocab = pickle.load(f)\n",
        "# print(f\"Vocabulary size: {len(vocab)}\")\n",
        "\n",
        "# Load the model with the same hyperparameters\n",
        "model = BiLSTMAttention(\n",
        "    vocab_size=len(vocab),\n",
        "    embedding_dim=embedding_dim,\n",
        "    hidden_dim=trial.params['hidden_dim'],\n",
        "    num_layers=num_layers,\n",
        "    dropout=trial.params['dropout'],\n",
        "    pretrained_embeddings=embeddings\n",
        ")\n",
        "\n",
        "# Load trained model weights\n",
        "model.load_state_dict(torch.load('models/final_model.pt', map_location=device))\n",
        "model = model.to(device)\n",
        "model.eval()\n",
        "print(\"Model loaded successfully\")\n",
        "\n",
        "# Load test data\n",
        "# test_file = './data/dev.csv'  # Change to your test file path\n",
        "test_df = pd.read_csv('./data/dev.csv')\n",
        "print(f\"Test data loaded: {len(test_df)} rows\")\n",
        "\n",
        "# Create test dataset\n",
        "test_dataset = EvidenceDetectionDataset(test_df, vocab, is_test=True)\n",
        "print(f\"Test dataset created: {len(test_dataset)} samples\")\n",
        "\n",
        "# Create test dataloader\n",
        "batch_size = 32\n",
        "test_loader = DataLoader(\n",
        "    test_dataset,\n",
        "    batch_size=batch_size,\n",
        "    shuffle=False,\n",
        "    collate_fn=test_collate_fn\n",
        ")\n",
        "\n",
        "# Run inference\n",
        "print(\"Running inference on test data...\")\n",
        "all_predictions = []\n",
        "\n",
        "with torch.no_grad():\n",
        "    for batch in tqdm(test_loader, desc=\"Testing\"):\n",
        "        # Move batch to device\n",
        "        claim_ids = batch['claim_ids'].to(device)\n",
        "        claim_lengths = batch['claim_lengths']\n",
        "        evidence_ids = batch['evidence_ids'].to(device)\n",
        "        evidence_lengths = batch['evidence_lengths']\n",
        "\n",
        "        # Forward pass\n",
        "        logits, _ = model(claim_ids, claim_lengths, evidence_ids, evidence_lengths)\n",
        "\n",
        "        # Get predictions (0 or 1)\n",
        "        predictions = torch.argmax(logits, dim=1).cpu().numpy()\n",
        "        all_predictions.extend(predictions)\n",
        "\n",
        "# Save predictions to CSV\n",
        "predictions_df = pd.DataFrame({'prediction': all_predictions})\n",
        "predictions_df.to_csv('predictions.csv', index=False)\n",
        "print(f\"Predictions saved to 'predictions.csv'\")"
      ],
      "metadata": {
        "colab": {
          "base_uri": "https://localhost:8080/"
        },
        "id": "t4J9rWMPtFTz",
        "outputId": "20ac0d0b-a11a-44bd-fdf2-c5b936793dca"
      },
      "execution_count": 41,
      "outputs": [
        {
          "output_type": "stream",
          "name": "stdout",
          "text": [
            "Model loaded successfully\n",
            "Test data loaded: 5926 rows\n",
            "Test dataset created: 5926 samples\n",
            "Running inference on test data...\n"
          ]
        },
        {
          "output_type": "stream",
          "name": "stderr",
          "text": [
            "Testing: 100%|██████████| 186/186 [00:02<00:00, 73.30it/s]"
          ]
        },
        {
          "output_type": "stream",
          "name": "stdout",
          "text": [
            "Predictions saved to 'predictions.csv'\n"
          ]
        },
        {
          "output_type": "stream",
          "name": "stderr",
          "text": [
            "\n"
          ]
        }
      ]
    }
  ]
}