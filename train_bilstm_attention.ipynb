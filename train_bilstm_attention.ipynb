{
  "nbformat": 4,
  "nbformat_minor": 0,
  "metadata": {
    "colab": {
      "provenance": [],
      "machine_shape": "hm",
      "gpuType": "A100"
    },
    "kernelspec": {
      "name": "python3",
      "display_name": "Python 3"
    },
    "language_info": {
      "name": "python"
    },
    "accelerator": "GPU"
  },
  "cells": [
    {
      "cell_type": "markdown",
      "source": [
        "# Evidence Detection\n",
        "\n",
        "## Data is in the form of: Claim, Evidence, Labels\n",
        "\n",
        "## Labels\n",
        "- **1 (Relevant)** - The evidence supports or is related to the claim.\n",
        "- **0 (Not Relevant)** – The evidence does not support or is unrelated to the claim."
      ],
      "metadata": {
        "id": "IiaRhQWzOf7i"
      }
    },
    {
      "cell_type": "markdown",
      "source": [
        "### Dependency Management"
      ],
      "metadata": {
        "id": "3eMIU_UuOEam"
      }
    },
    {
      "cell_type": "code",
      "source": [
        "!pip install optuna"
      ],
      "metadata": {
        "colab": {
          "base_uri": "https://localhost:8080/"
        },
        "id": "dTnVcWGS5goX",
        "outputId": "0a8ef180-afbb-45cf-b345-2cbfa6de4633"
      },
      "execution_count": null,
      "outputs": [
        {
          "output_type": "stream",
          "name": "stdout",
          "text": [
            "Collecting optuna\n",
            "  Downloading optuna-4.2.1-py3-none-any.whl.metadata (17 kB)\n",
            "Collecting alembic>=1.5.0 (from optuna)\n",
            "  Downloading alembic-1.15.1-py3-none-any.whl.metadata (7.2 kB)\n",
            "Collecting colorlog (from optuna)\n",
            "  Downloading colorlog-6.9.0-py3-none-any.whl.metadata (10 kB)\n",
            "Requirement already satisfied: numpy in /usr/local/lib/python3.11/dist-packages (from optuna) (2.0.2)\n",
            "Requirement already satisfied: packaging>=20.0 in /usr/local/lib/python3.11/dist-packages (from optuna) (24.2)\n",
            "Requirement already satisfied: sqlalchemy>=1.4.2 in /usr/local/lib/python3.11/dist-packages (from optuna) (2.0.39)\n",
            "Requirement already satisfied: tqdm in /usr/local/lib/python3.11/dist-packages (from optuna) (4.67.1)\n",
            "Requirement already satisfied: PyYAML in /usr/local/lib/python3.11/dist-packages (from optuna) (6.0.2)\n",
            "Requirement already satisfied: Mako in /usr/lib/python3/dist-packages (from alembic>=1.5.0->optuna) (1.1.3)\n",
            "Requirement already satisfied: typing-extensions>=4.12 in /usr/local/lib/python3.11/dist-packages (from alembic>=1.5.0->optuna) (4.12.2)\n",
            "Requirement already satisfied: greenlet!=0.4.17 in /usr/local/lib/python3.11/dist-packages (from sqlalchemy>=1.4.2->optuna) (3.1.1)\n",
            "Downloading optuna-4.2.1-py3-none-any.whl (383 kB)\n",
            "\u001b[2K   \u001b[90m━━━━━━━━━━━━━━━━━━━━━━━━━━━━━━━━━━━━━━━━\u001b[0m \u001b[32m383.6/383.6 kB\u001b[0m \u001b[31m9.2 MB/s\u001b[0m eta \u001b[36m0:00:00\u001b[0m\n",
            "\u001b[?25hDownloading alembic-1.15.1-py3-none-any.whl (231 kB)\n",
            "\u001b[2K   \u001b[90m━━━━━━━━━━━━━━━━━━━━━━━━━━━━━━━━━━━━━━━━\u001b[0m \u001b[32m231.8/231.8 kB\u001b[0m \u001b[31m19.5 MB/s\u001b[0m eta \u001b[36m0:00:00\u001b[0m\n",
            "\u001b[?25hDownloading colorlog-6.9.0-py3-none-any.whl (11 kB)\n",
            "Installing collected packages: colorlog, alembic, optuna\n",
            "Successfully installed alembic-1.15.1 colorlog-6.9.0 optuna-4.2.1\n"
          ]
        }
      ]
    },
    {
      "cell_type": "code",
      "source": [
        "import torch\n",
        "import torch.nn as nn\n",
        "import torch.nn.functional as F\n",
        "from torch.utils.data import Dataset, DataLoader\n",
        "from torch.nn.utils.rnn import pad_sequence, pack_padded_sequence, pad_packed_sequence\n",
        "import numpy as np\n",
        "import pandas as pd\n",
        "from sklearn.metrics import accuracy_score, f1_score, precision_score, recall_score\n",
        "from sklearn.model_selection import train_test_split\n",
        "from tqdm import tqdm\n",
        "import nltk\n",
        "import pickle\n",
        "import os\n",
        "import optuna"
      ],
      "metadata": {
        "colab": {
          "base_uri": "https://localhost:8080/"
        },
        "id": "2ishUV1aWNML",
        "outputId": "af9ff623-aeca-4be8-928f-297a89d06dd2"
      },
      "execution_count": null,
      "outputs": [
        {
          "output_type": "stream",
          "name": "stderr",
          "text": [
            "[nltk_data] Downloading package punkt_tab to /content/nltk_data...\n",
            "[nltk_data]   Unzipping tokenizers/punkt_tab.zip.\n"
          ]
        },
        {
          "output_type": "execute_result",
          "data": {
            "text/plain": [
              "True"
            ]
          },
          "metadata": {},
          "execution_count": 2
        }
      ]
    },
    {
      "cell_type": "code",
      "source": [
        "# Create a directory for NLTK data\n",
        "nltk_data_dir = os.path.join(os.getcwd(), 'nltk_data')\n",
        "os.makedirs(nltk_data_dir, exist_ok=True)\n",
        "\n",
        "# Set the NLTK data path\n",
        "nltk.data.path.append(nltk_data_dir)\n",
        "\n",
        "# Download punkt to the specified directory\n",
        "nltk.download('punkt_tab', download_dir=nltk_data_dir)"
      ],
      "metadata": {
        "id": "ps2rHN_2YMhv"
      },
      "execution_count": null,
      "outputs": []
    },
    {
      "cell_type": "code",
      "source": [
        "from evidence_detection.bilstm_with_attention import BiLSTMAttention\n",
        "from evidence_detection.evidence_detection_dataset import EvidenceDetectionDataset\n",
        "from evidence_detection.vocabulary import Vocabulary\n",
        "from evidence_detection.trainer import Trainer"
      ],
      "metadata": {
        "id": "Ju4U0HGxY6TW"
      },
      "execution_count": null,
      "outputs": []
    },
    {
      "cell_type": "code",
      "source": [
        "# Set random seed for reproducibility\n",
        "torch.manual_seed(42)\n",
        "np.random.seed(42)\n",
        "if torch.cuda.is_available():\n",
        "    torch.cuda.manual_seed_all(42)\n",
        "\n",
        "# Device configuration\n",
        "device = torch.device('cuda' if torch.cuda.is_available() else 'cpu')\n",
        "print(f\"Using device: {device}\")"
      ],
      "metadata": {
        "colab": {
          "base_uri": "https://localhost:8080/"
        },
        "id": "Lq1MSjuFMj6d",
        "outputId": "f95d0351-71f1-48e6-c3e8-ca77029f6c44"
      },
      "execution_count": null,
      "outputs": [
        {
          "output_type": "stream",
          "name": "stdout",
          "text": [
            "Using device: cuda\n"
          ]
        }
      ]
    },
    {
      "cell_type": "markdown",
      "source": [
        "### Define Glove Embedding Method"
      ],
      "metadata": {
        "id": "vrG-YMS_NcI0"
      }
    },
    {
      "cell_type": "code",
      "source": [
        "def load_glove_embeddings(vocab, glove_path, embedding_dim=300):\n",
        "    \"\"\"Load GloVe embeddings for words in vocabulary\"\"\"\n",
        "    embeddings = np.zeros((len(vocab), embedding_dim))\n",
        "\n",
        "    # Initialize random embeddings\n",
        "    for i in range(len(vocab)):\n",
        "        embeddings[i] = np.random.normal(scale=0.1, size=(embedding_dim, ))\n",
        "\n",
        "    # Load pretrained embeddings\n",
        "    if not os.path.exists(glove_path):\n",
        "        print(f\"GloVe embeddings not found at {glove_path}. Using random embeddings.\")\n",
        "        return embeddings\n",
        "\n",
        "    print(f\"Loading GloVe embeddings from {glove_path}...\")\n",
        "\n",
        "    with open(glove_path, 'r', encoding='utf-8') as f:\n",
        "        for i, line in enumerate(tqdm(f, desc=\"Loading GloVe\")):\n",
        "            try:\n",
        "                values = line.split()\n",
        "\n",
        "                # Check if the vector has the correct dimension\n",
        "                if len(values) != embedding_dim + 1:  # +1 for the word itself\n",
        "                    print(f\"Warning: Line {i} has {len(values)} values, expected {embedding_dim + 1}. Skipping.\")\n",
        "                    continue\n",
        "\n",
        "                word = values[0]\n",
        "                if word in vocab.stoi:\n",
        "                    vector = np.array(values[1:], dtype='float32')\n",
        "\n",
        "                    # Double-check vector dimension\n",
        "                    if len(vector) != embedding_dim:\n",
        "                        print(f\"Warning: Vector for word '{word}' has dimension {len(vector)}, expected {embedding_dim}. Skipping.\")\n",
        "                        continue\n",
        "\n",
        "                    embeddings[vocab.stoi[word]] = vector\n",
        "            except Exception as e:\n",
        "                print(f\"Error processing line {i}: {e}\")\n",
        "                continue\n",
        "\n",
        "    print(f\"Loaded {embedding_dim}-dimensional GloVe embeddings.\")\n",
        "    return embeddings"
      ],
      "metadata": {
        "id": "LKKKt7fcWhJy"
      },
      "execution_count": null,
      "outputs": []
    },
    {
      "cell_type": "markdown",
      "source": [
        "### Get Data, build vocabulary and Build Glove Embeddings"
      ],
      "metadata": {
        "id": "R7qYm1XMSUer"
      }
    },
    {
      "cell_type": "code",
      "source": [
        "# Load datasets\n",
        "print(\"Loading datasets...\")\n",
        "print(\"Using train.csv for train and validation\")\n",
        "train_df = pd.read_csv('./data/train.csv')\n",
        "train_df, val_df = train_test_split(train_df, test_size=0.2, random_state=42)\n",
        "\n",
        "print(f\"Train shape: {train_df.shape}, Validation shape: {val_df.shape}\")\n",
        "print(f\"Label distribution in train: {train_df['label'].value_counts().to_dict()}\")\n",
        "print(f\"Label distribution in val: {val_df['label'].value_counts().to_dict()}\")"
      ],
      "metadata": {
        "colab": {
          "base_uri": "https://localhost:8080/"
        },
        "id": "UJg4xvC2SKR7",
        "outputId": "54923b6c-a425-44c9-d438-4a4f9f6b25a5"
      },
      "execution_count": null,
      "outputs": [
        {
          "output_type": "stream",
          "name": "stdout",
          "text": [
            "Loading datasets...\n",
            "Using train.csv for train and validation\n",
            "Train shape: (17206, 3), Validation shape: (4302, 3)\n",
            "Label distribution in train: {0: 12504, 1: 4702}\n",
            "Label distribution in val: {0: 3150, 1: 1152}\n"
          ]
        }
      ]
    },
    {
      "cell_type": "code",
      "source": [
        "# Load or create vocabulary\n",
        "vocab_path = 'vocab.pkl'\n",
        "if os.path.exists(vocab_path):\n",
        "    print(f\"Loading vocabulary from {vocab_path}\")\n",
        "    with open(vocab_path, 'rb') as f:\n",
        "        vocab = pickle.load(f)\n",
        "else:\n",
        "    print(\"Creating new vocabulary\")\n",
        "    vocab = Vocabulary(freq_threshold=3)\n",
        "    all_texts = train_df['Claim'].tolist() + train_df['Evidence'].tolist()\n",
        "    vocab.build_vocabulary(all_texts)\n",
        "\n",
        "    # Save vocabulary\n",
        "    with open(vocab_path, 'wb') as f:\n",
        "        pickle.dump(vocab, f)\n",
        "\n",
        "print(f\"Vocabulary size: {len(vocab)}\")"
      ],
      "metadata": {
        "colab": {
          "base_uri": "https://localhost:8080/"
        },
        "id": "9zHL9dr3SPOq",
        "outputId": "717b6c2d-e647-4e6c-f31c-f392e71a4de1"
      },
      "execution_count": null,
      "outputs": [
        {
          "output_type": "stream",
          "name": "stdout",
          "text": [
            "Creating new vocabulary\n"
          ]
        },
        {
          "output_type": "stream",
          "name": "stderr",
          "text": [
            "Building vocabulary: 100%|██████████| 34412/34412 [00:04<00:00, 8596.82it/s]"
          ]
        },
        {
          "output_type": "stream",
          "name": "stdout",
          "text": [
            "Vocabulary size: 12686\n",
            "Vocabulary size: 12686\n"
          ]
        },
        {
          "output_type": "stream",
          "name": "stderr",
          "text": [
            "\n"
          ]
        }
      ]
    },
    {
      "cell_type": "code",
      "source": [
        "# Load GloVe embeddings\n",
        "embedding_dim = 300\n",
        "glove_path = \"glove.6B.300d.txt\"\n",
        "embeddings = load_glove_embeddings(vocab, glove_path, embedding_dim)"
      ],
      "metadata": {
        "colab": {
          "base_uri": "https://localhost:8080/"
        },
        "id": "m5yEURMYSRzc",
        "outputId": "138e1a2b-0f33-409d-e392-d141981968ee"
      },
      "execution_count": null,
      "outputs": [
        {
          "output_type": "stream",
          "name": "stdout",
          "text": [
            "Loading GloVe embeddings from glove.6B.300d.txt...\n"
          ]
        },
        {
          "output_type": "stream",
          "name": "stderr",
          "text": [
            "Loading GloVe: 160508it [00:03, 49736.92it/s]"
          ]
        },
        {
          "output_type": "stream",
          "name": "stdout",
          "text": [
            "Warning: Line 160507 has 203 values, expected 301. Skipping.\n",
            "Loaded 300-dimensional GloVe embeddings.\n"
          ]
        },
        {
          "output_type": "stream",
          "name": "stderr",
          "text": [
            "\n"
          ]
        }
      ]
    },
    {
      "cell_type": "markdown",
      "source": [
        "### Hyperparameter Tuning"
      ],
      "metadata": {
        "id": "ujYTuoQi3JEn"
      }
    },
    {
      "cell_type": "code",
      "source": [
        "# Create datasets\n",
        "train_dataset = EvidenceDetectionDataset(train_df, vocab)\n",
        "val_dataset = EvidenceDetectionDataset(val_df, vocab)\n",
        "\n",
        "print(f\"Train dataset size: {len(train_dataset)}\")\n",
        "print(f\"Validation dataset size: {len(val_dataset)}\")\n",
        "\n",
        "num_layers = 1\n",
        "# Define objective function for Optuna\n",
        "def objective(trial):\n",
        "    # Hyperparameters to optimize\n",
        "    hidden_dim = trial.suggest_categorical('hidden_dim', [128, 256, 512])\n",
        "    dropout = trial.suggest_float('dropout', 0.3, 0.5)\n",
        "    batch_size = trial.suggest_categorical('batch_size', [16, 32, 64])\n",
        "    learning_rate = trial.suggest_float('learning_rate', 1e-4, 1e-2, log=True)\n",
        "    weight_decay = trial.suggest_float('weight_decay', 1e-6, 1e-4, log=True)\n",
        "\n",
        "    # Initialize model with suggested parameters\n",
        "    model = BiLSTMAttention(\n",
        "        vocab_size=len(vocab),\n",
        "        embedding_dim=embedding_dim,\n",
        "        hidden_dim=hidden_dim,\n",
        "        num_layers=num_layers,\n",
        "        dropout=dropout,\n",
        "        pretrained_embeddings=embeddings\n",
        "    )\n",
        "\n",
        "    # Initialize trainer\n",
        "    trainer = Trainer(\n",
        "        model=model,\n",
        "        train_dataset=train_dataset,\n",
        "        val_dataset=val_dataset,\n",
        "        batch_size=batch_size,\n",
        "        learning_rate=learning_rate,\n",
        "        weight_decay=weight_decay,\n",
        "        device=device\n",
        "    )\n",
        "\n",
        "    # Train for a few epochs\n",
        "    trainer.train(num_epochs=5)  # Reduced epochs for faster hyperparameter search\n",
        "\n",
        "    # Evaluate on validation set\n",
        "    val_metrics = trainer.evaluate()\n",
        "\n",
        "    # Return F1 score as the optimization metric\n",
        "    return val_metrics['f1']\n",
        "\n",
        "# Create study directory\n",
        "os.makedirs('model_architecture_parameters', exist_ok=True)\n",
        "\n",
        "# Create and run Optuna study\n",
        "study = optuna.create_study(direction='maximize',\n",
        "                           study_name='bilstm_attention_optimization'\n",
        "                          #  storage='sqlite:///model_architecture_parameters/bilstm_attention.db'\n",
        "                            )\n",
        "study.optimize(objective, n_trials=20)  # Adjust number of trials as needed\n",
        "\n",
        "# Print and save best parameters\n",
        "print(\"Best trial:\")\n",
        "trial = study.best_trial\n",
        "print(f\"  Value (F1 Score): {trial.value:.4f}\")\n",
        "print(\"  Params: \")\n",
        "for key, value in trial.params.items():\n",
        "    print(f\"    {key}: {value}\")\n",
        "\n",
        "# Save best parameters\n",
        "with open('model_architecture_parameters/parameters.pkl', 'wb') as f:\n",
        "    pickle.dump(trial.params, f)"
      ],
      "metadata": {
        "colab": {
          "base_uri": "https://localhost:8080/"
        },
        "id": "dklR-iL83MSf",
        "outputId": "568f2d3f-c4e1-4ade-ca9b-d8ac71ed018c"
      },
      "execution_count": null,
      "outputs": [
        {
          "output_type": "stream",
          "name": "stderr",
          "text": [
            "[I 2025-03-28 00:50:47,138] A new study created in memory with name: bilstm_attention_optimization\n"
          ]
        },
        {
          "output_type": "stream",
          "name": "stdout",
          "text": [
            "Train dataset size: 17206\n",
            "Validation dataset size: 4302\n",
            "Starting training on device: cuda\n",
            "Training set size: 17206\n",
            "Validation set size: 4302\n"
          ]
        },
        {
          "output_type": "stream",
          "name": "stderr",
          "text": [
            "Training: 100%|██████████| 1076/1076 [00:23<00:00, 45.61it/s]\n",
            "Validating: 100%|██████████| 269/269 [00:02<00:00, 107.61it/s]\n"
          ]
        },
        {
          "output_type": "stream",
          "name": "stdout",
          "text": [
            "Epoch 1/5 - Time: 26.20s\n",
            "Train Loss: 0.4791, Train F1: 0.4478\n",
            "Val Loss: 0.4037, Val F1: 0.6330\n",
            "Val Precision: 0.7019, Val Recall: 0.5764\n",
            "Validation F1 increased (0.000000 --> 0.632984). Saving model...\n"
          ]
        },
        {
          "output_type": "stream",
          "name": "stderr",
          "text": [
            "Training: 100%|██████████| 1076/1076 [00:22<00:00, 48.39it/s]\n",
            "Validating: 100%|██████████| 269/269 [00:02<00:00, 110.35it/s]\n"
          ]
        },
        {
          "output_type": "stream",
          "name": "stdout",
          "text": [
            "Epoch 2/5 - Time: 24.77s\n",
            "Train Loss: 0.3852, Train F1: 0.6400\n",
            "Val Loss: 0.3759, Val F1: 0.6326\n",
            "Val Precision: 0.7299, Val Recall: 0.5582\n",
            "EarlyStopping counter: 1 out of 3\n"
          ]
        },
        {
          "output_type": "stream",
          "name": "stderr",
          "text": [
            "Training: 100%|██████████| 1076/1076 [00:22<00:00, 48.72it/s]\n",
            "Validating: 100%|██████████| 269/269 [00:02<00:00, 104.09it/s]\n"
          ]
        },
        {
          "output_type": "stream",
          "name": "stdout",
          "text": [
            "Epoch 3/5 - Time: 24.77s\n",
            "Train Loss: 0.3435, Train F1: 0.6973\n",
            "Val Loss: 0.3676, Val F1: 0.6752\n",
            "Val Precision: 0.6896, Val Recall: 0.6615\n",
            "Validation F1 increased (0.632984 --> 0.675233). Saving model...\n"
          ]
        },
        {
          "output_type": "stream",
          "name": "stderr",
          "text": [
            "Training: 100%|██████████| 1076/1076 [00:22<00:00, 48.23it/s]\n",
            "Validating: 100%|██████████| 269/269 [00:02<00:00, 109.31it/s]\n"
          ]
        },
        {
          "output_type": "stream",
          "name": "stdout",
          "text": [
            "Epoch 4/5 - Time: 24.86s\n",
            "Train Loss: 0.3046, Train F1: 0.7458\n",
            "Val Loss: 0.3777, Val F1: 0.6605\n",
            "Val Precision: 0.7058, Val Recall: 0.6207\n",
            "EarlyStopping counter: 1 out of 3\n"
          ]
        },
        {
          "output_type": "stream",
          "name": "stderr",
          "text": [
            "Training: 100%|██████████| 1076/1076 [00:22<00:00, 48.45it/s]\n",
            "Validating: 100%|██████████| 269/269 [00:02<00:00, 106.50it/s]\n"
          ]
        },
        {
          "output_type": "stream",
          "name": "stdout",
          "text": [
            "Epoch 5/5 - Time: 24.84s\n",
            "Train Loss: 0.2611, Train F1: 0.7945\n",
            "Val Loss: 0.4261, Val F1: 0.6857\n",
            "Val Precision: 0.6250, Val Recall: 0.7595\n",
            "Validation F1 increased (0.675233 --> 0.685737). Saving model...\n",
            "Loaded best model from 'best_bilstm_attention_model.pt'\n"
          ]
        },
        {
          "output_type": "stream",
          "name": "stderr",
          "text": [
            "Validating: 100%|██████████| 269/269 [00:02<00:00, 107.57it/s]\n",
            "[I 2025-03-28 00:53:00,579] Trial 0 finished with value: 0.6857366771159875 and parameters: {'hidden_dim': 256, 'dropout': 0.4162741484571332, 'batch_size': 16, 'learning_rate': 0.00014139352015133768, 'weight_decay': 1.0938111637710662e-05}. Best is trial 0 with value: 0.6857366771159875.\n"
          ]
        },
        {
          "output_type": "stream",
          "name": "stdout",
          "text": [
            "Starting training on device: cuda\n",
            "Training set size: 17206\n",
            "Validation set size: 4302\n"
          ]
        },
        {
          "output_type": "stream",
          "name": "stderr",
          "text": [
            "Training: 100%|██████████| 1076/1076 [00:22<00:00, 47.21it/s]\n",
            "Validating: 100%|██████████| 269/269 [00:02<00:00, 107.55it/s]\n"
          ]
        },
        {
          "output_type": "stream",
          "name": "stdout",
          "text": [
            "Epoch 1/5 - Time: 25.39s\n",
            "Train Loss: 0.4333, Train F1: 0.5689\n",
            "Val Loss: 0.3992, Val F1: 0.5421\n",
            "Val Precision: 0.7754, Val Recall: 0.4167\n",
            "Validation F1 increased (0.000000 --> 0.542067). Saving model...\n"
          ]
        },
        {
          "output_type": "stream",
          "name": "stderr",
          "text": [
            "Training: 100%|██████████| 1076/1076 [00:22<00:00, 47.10it/s]\n",
            "Validating: 100%|██████████| 269/269 [00:02<00:00, 108.07it/s]\n"
          ]
        },
        {
          "output_type": "stream",
          "name": "stdout",
          "text": [
            "Epoch 2/5 - Time: 25.43s\n",
            "Train Loss: 0.3137, Train F1: 0.7379\n",
            "Val Loss: 0.3861, Val F1: 0.6195\n",
            "Val Precision: 0.7569, Val Recall: 0.5243\n",
            "Validation F1 increased (0.542067 --> 0.619487). Saving model...\n"
          ]
        },
        {
          "output_type": "stream",
          "name": "stderr",
          "text": [
            "Training: 100%|██████████| 1076/1076 [00:22<00:00, 48.10it/s]\n",
            "Validating: 100%|██████████| 269/269 [00:02<00:00, 109.71it/s]\n"
          ]
        },
        {
          "output_type": "stream",
          "name": "stdout",
          "text": [
            "Epoch 3/5 - Time: 24.92s\n",
            "Train Loss: 0.2047, Train F1: 0.8443\n",
            "Val Loss: 0.5273, Val F1: 0.6339\n",
            "Val Precision: 0.6722, Val Recall: 0.5998\n",
            "Validation F1 increased (0.619487 --> 0.633945). Saving model...\n"
          ]
        },
        {
          "output_type": "stream",
          "name": "stderr",
          "text": [
            "Training: 100%|██████████| 1076/1076 [00:21<00:00, 48.92it/s]\n",
            "Validating: 100%|██████████| 269/269 [00:02<00:00, 108.10it/s]\n"
          ]
        },
        {
          "output_type": "stream",
          "name": "stdout",
          "text": [
            "Epoch 4/5 - Time: 24.58s\n",
            "Train Loss: 0.1129, Train F1: 0.9257\n",
            "Val Loss: 0.7119, Val F1: 0.6188\n",
            "Val Precision: 0.6322, Val Recall: 0.6059\n",
            "EarlyStopping counter: 1 out of 3\n"
          ]
        },
        {
          "output_type": "stream",
          "name": "stderr",
          "text": [
            "Training: 100%|██████████| 1076/1076 [00:21<00:00, 49.00it/s]\n",
            "Validating: 100%|██████████| 269/269 [00:02<00:00, 110.71it/s]\n"
          ]
        },
        {
          "output_type": "stream",
          "name": "stdout",
          "text": [
            "Epoch 5/5 - Time: 24.48s\n",
            "Train Loss: 0.0548, Train F1: 0.9646\n",
            "Val Loss: 0.9054, Val F1: 0.6107\n",
            "Val Precision: 0.5886, Val Recall: 0.6345\n",
            "EarlyStopping counter: 2 out of 3\n",
            "Loaded best model from 'best_bilstm_attention_model.pt'\n"
          ]
        },
        {
          "output_type": "stream",
          "name": "stderr",
          "text": [
            "Validating: 100%|██████████| 269/269 [00:02<00:00, 110.48it/s]\n",
            "[I 2025-03-28 00:55:08,089] Trial 1 finished with value: 0.6339449541284403 and parameters: {'hidden_dim': 512, 'dropout': 0.3479339528484242, 'batch_size': 16, 'learning_rate': 0.0015404150849096451, 'weight_decay': 2.7101392175538875e-06}. Best is trial 0 with value: 0.6857366771159875.\n"
          ]
        },
        {
          "output_type": "stream",
          "name": "stdout",
          "text": [
            "Starting training on device: cuda\n",
            "Training set size: 17206\n",
            "Validation set size: 4302\n"
          ]
        },
        {
          "output_type": "stream",
          "name": "stderr",
          "text": [
            "Training: 100%|██████████| 1076/1076 [00:21<00:00, 50.44it/s]\n",
            "Validating: 100%|██████████| 269/269 [00:02<00:00, 108.82it/s]\n"
          ]
        },
        {
          "output_type": "stream",
          "name": "stdout",
          "text": [
            "Epoch 1/5 - Time: 23.90s\n",
            "Train Loss: 0.4382, Train F1: 0.5597\n",
            "Val Loss: 0.3888, Val F1: 0.5969\n",
            "Val Precision: 0.7520, Val Recall: 0.4948\n",
            "Validation F1 increased (0.000000 --> 0.596859). Saving model...\n"
          ]
        },
        {
          "output_type": "stream",
          "name": "stderr",
          "text": [
            "Training: 100%|██████████| 1076/1076 [00:21<00:00, 50.24it/s]\n",
            "Validating: 100%|██████████| 269/269 [00:02<00:00, 110.35it/s]\n"
          ]
        },
        {
          "output_type": "stream",
          "name": "stdout",
          "text": [
            "Epoch 2/5 - Time: 23.95s\n",
            "Train Loss: 0.3150, Train F1: 0.7275\n",
            "Val Loss: 0.3813, Val F1: 0.6742\n",
            "Val Precision: 0.6309, Val Recall: 0.7240\n",
            "Validation F1 increased (0.596859 --> 0.674212). Saving model...\n"
          ]
        },
        {
          "output_type": "stream",
          "name": "stderr",
          "text": [
            "Training: 100%|██████████| 1076/1076 [00:21<00:00, 50.15it/s]\n",
            "Validating: 100%|██████████| 269/269 [00:02<00:00, 108.21it/s]\n"
          ]
        },
        {
          "output_type": "stream",
          "name": "stdout",
          "text": [
            "Epoch 3/5 - Time: 24.04s\n",
            "Train Loss: 0.2012, Train F1: 0.8490\n",
            "Val Loss: 0.4607, Val F1: 0.6417\n",
            "Val Precision: 0.6092, Val Recall: 0.6780\n",
            "EarlyStopping counter: 1 out of 3\n"
          ]
        },
        {
          "output_type": "stream",
          "name": "stderr",
          "text": [
            "Training: 100%|██████████| 1076/1076 [00:21<00:00, 49.88it/s]\n",
            "Validating: 100%|██████████| 269/269 [00:02<00:00, 109.70it/s]\n"
          ]
        },
        {
          "output_type": "stream",
          "name": "stdout",
          "text": [
            "Epoch 4/5 - Time: 24.12s\n",
            "Train Loss: 0.1035, Train F1: 0.9291\n",
            "Val Loss: 0.8651, Val F1: 0.6090\n",
            "Val Precision: 0.6194, Val Recall: 0.5990\n",
            "EarlyStopping counter: 2 out of 3\n"
          ]
        },
        {
          "output_type": "stream",
          "name": "stderr",
          "text": [
            "Training: 100%|██████████| 1076/1076 [00:21<00:00, 49.99it/s]\n",
            "Validating: 100%|██████████| 269/269 [00:02<00:00, 109.71it/s]\n"
          ]
        },
        {
          "output_type": "stream",
          "name": "stdout",
          "text": [
            "Epoch 5/5 - Time: 24.07s\n",
            "Train Loss: 0.0530, Train F1: 0.9663\n",
            "Val Loss: 0.9623, Val F1: 0.5971\n",
            "Val Precision: 0.6374, Val Recall: 0.5616\n",
            "EarlyStopping counter: 3 out of 3\n",
            "Early stopping triggered\n",
            "Loaded best model from 'best_bilstm_attention_model.pt'\n"
          ]
        },
        {
          "output_type": "stream",
          "name": "stderr",
          "text": [
            "Validating: 100%|██████████| 269/269 [00:02<00:00, 109.33it/s]\n",
            "[I 2025-03-28 00:57:10,800] Trial 2 finished with value: 0.6742118027485853 and parameters: {'hidden_dim': 256, 'dropout': 0.45054155231385834, 'batch_size': 16, 'learning_rate': 0.0013429969946494808, 'weight_decay': 3.076464973106319e-06}. Best is trial 0 with value: 0.6857366771159875.\n"
          ]
        },
        {
          "output_type": "stream",
          "name": "stdout",
          "text": [
            "Starting training on device: cuda\n",
            "Training set size: 17206\n",
            "Validation set size: 4302\n"
          ]
        },
        {
          "output_type": "stream",
          "name": "stderr",
          "text": [
            "Training: 100%|██████████| 1076/1076 [00:21<00:00, 50.32it/s]\n",
            "Validating: 100%|██████████| 269/269 [00:02<00:00, 109.11it/s]\n"
          ]
        },
        {
          "output_type": "stream",
          "name": "stdout",
          "text": [
            "Epoch 1/5 - Time: 23.94s\n",
            "Train Loss: 0.4869, Train F1: 0.4399\n",
            "Val Loss: 0.4012, Val F1: 0.6104\n",
            "Val Precision: 0.6963, Val Recall: 0.5434\n",
            "Validation F1 increased (0.000000 --> 0.610434). Saving model...\n"
          ]
        },
        {
          "output_type": "stream",
          "name": "stderr",
          "text": [
            "Training: 100%|██████████| 1076/1076 [00:21<00:00, 49.85it/s]\n",
            "Validating: 100%|██████████| 269/269 [00:02<00:00, 110.62it/s]\n"
          ]
        },
        {
          "output_type": "stream",
          "name": "stdout",
          "text": [
            "Epoch 2/5 - Time: 24.11s\n",
            "Train Loss: 0.3931, Train F1: 0.6275\n",
            "Val Loss: 0.3812, Val F1: 0.6575\n",
            "Val Precision: 0.6957, Val Recall: 0.6233\n",
            "Validation F1 increased (0.610434 --> 0.657509). Saving model...\n"
          ]
        },
        {
          "output_type": "stream",
          "name": "stderr",
          "text": [
            "Training: 100%|██████████| 1076/1076 [00:21<00:00, 50.03it/s]\n",
            "Validating: 100%|██████████| 269/269 [00:02<00:00, 110.21it/s]\n"
          ]
        },
        {
          "output_type": "stream",
          "name": "stdout",
          "text": [
            "Epoch 3/5 - Time: 24.04s\n",
            "Train Loss: 0.3531, Train F1: 0.6792\n",
            "Val Loss: 0.3703, Val F1: 0.6499\n",
            "Val Precision: 0.7189, Val Recall: 0.5929\n",
            "EarlyStopping counter: 1 out of 3\n"
          ]
        },
        {
          "output_type": "stream",
          "name": "stderr",
          "text": [
            "Training: 100%|██████████| 1076/1076 [00:21<00:00, 50.13it/s]\n",
            "Validating: 100%|██████████| 269/269 [00:02<00:00, 110.49it/s]\n"
          ]
        },
        {
          "output_type": "stream",
          "name": "stdout",
          "text": [
            "Epoch 4/5 - Time: 23.99s\n",
            "Train Loss: 0.3195, Train F1: 0.7264\n",
            "Val Loss: 0.3780, Val F1: 0.6654\n",
            "Val Precision: 0.7027, Val Recall: 0.6319\n",
            "Validation F1 increased (0.657509 --> 0.665448). Saving model...\n"
          ]
        },
        {
          "output_type": "stream",
          "name": "stderr",
          "text": [
            "Training: 100%|██████████| 1076/1076 [00:21<00:00, 50.18it/s]\n",
            "Validating: 100%|██████████| 269/269 [00:02<00:00, 109.59it/s]\n"
          ]
        },
        {
          "output_type": "stream",
          "name": "stdout",
          "text": [
            "Epoch 5/5 - Time: 23.99s\n",
            "Train Loss: 0.2818, Train F1: 0.7704\n",
            "Val Loss: 0.3947, Val F1: 0.6681\n",
            "Val Precision: 0.6521, Val Recall: 0.6849\n",
            "Validation F1 increased (0.665448 --> 0.668078). Saving model...\n",
            "Loaded best model from 'best_bilstm_attention_model.pt'\n"
          ]
        },
        {
          "output_type": "stream",
          "name": "stderr",
          "text": [
            "Validating: 100%|██████████| 269/269 [00:02<00:00, 110.64it/s]\n",
            "[I 2025-03-28 00:59:13,578] Trial 3 finished with value: 0.668077900084674 and parameters: {'hidden_dim': 256, 'dropout': 0.450789195290133, 'batch_size': 16, 'learning_rate': 0.00012202871935316008, 'weight_decay': 4.896957084847954e-06}. Best is trial 0 with value: 0.6857366771159875.\n"
          ]
        },
        {
          "output_type": "stream",
          "name": "stdout",
          "text": [
            "Starting training on device: cuda\n",
            "Training set size: 17206\n",
            "Validation set size: 4302\n"
          ]
        },
        {
          "output_type": "stream",
          "name": "stderr",
          "text": [
            "Training: 100%|██████████| 538/538 [00:14<00:00, 36.42it/s]\n",
            "Validating: 100%|██████████| 135/135 [00:01<00:00, 72.00it/s]\n"
          ]
        },
        {
          "output_type": "stream",
          "name": "stdout",
          "text": [
            "Epoch 1/5 - Time: 16.74s\n",
            "Train Loss: 0.4457, Train F1: 0.5311\n",
            "Val Loss: 0.3815, Val F1: 0.6746\n",
            "Val Precision: 0.6845, Val Recall: 0.6649\n",
            "Validation F1 increased (0.000000 --> 0.674593). Saving model...\n"
          ]
        },
        {
          "output_type": "stream",
          "name": "stderr",
          "text": [
            "Training: 100%|██████████| 538/538 [00:14<00:00, 36.51it/s]\n",
            "Validating: 100%|██████████| 135/135 [00:01<00:00, 70.95it/s]\n"
          ]
        },
        {
          "output_type": "stream",
          "name": "stdout",
          "text": [
            "Epoch 2/5 - Time: 16.73s\n",
            "Train Loss: 0.3427, Train F1: 0.7004\n",
            "Val Loss: 0.3728, Val F1: 0.6420\n",
            "Val Precision: 0.7446, Val Recall: 0.5642\n",
            "EarlyStopping counter: 1 out of 3\n"
          ]
        },
        {
          "output_type": "stream",
          "name": "stderr",
          "text": [
            "Training: 100%|██████████| 538/538 [00:14<00:00, 36.66it/s]\n",
            "Validating: 100%|██████████| 135/135 [00:01<00:00, 71.47it/s]\n"
          ]
        },
        {
          "output_type": "stream",
          "name": "stdout",
          "text": [
            "Epoch 3/5 - Time: 16.66s\n",
            "Train Loss: 0.2531, Train F1: 0.8030\n",
            "Val Loss: 0.4162, Val F1: 0.6554\n",
            "Val Precision: 0.6931, Val Recall: 0.6215\n",
            "EarlyStopping counter: 2 out of 3\n"
          ]
        },
        {
          "output_type": "stream",
          "name": "stderr",
          "text": [
            "Training: 100%|██████████| 538/538 [00:14<00:00, 36.69it/s]\n",
            "Validating: 100%|██████████| 135/135 [00:01<00:00, 70.64it/s]\n"
          ]
        },
        {
          "output_type": "stream",
          "name": "stdout",
          "text": [
            "Epoch 4/5 - Time: 16.67s\n",
            "Train Loss: 0.1553, Train F1: 0.8862\n",
            "Val Loss: 0.4888, Val F1: 0.6651\n",
            "Val Precision: 0.6221, Val Recall: 0.7144\n",
            "EarlyStopping counter: 3 out of 3\n",
            "Early stopping triggered\n",
            "Loaded best model from 'best_bilstm_attention_model.pt'\n"
          ]
        },
        {
          "output_type": "stream",
          "name": "stderr",
          "text": [
            "Validating: 100%|██████████| 135/135 [00:01<00:00, 71.44it/s]\n",
            "[I 2025-03-28 01:00:22,401] Trial 4 finished with value: 0.674592690444738 and parameters: {'hidden_dim': 256, 'dropout': 0.4688705650143765, 'batch_size': 32, 'learning_rate': 0.0007067564171103114, 'weight_decay': 5.560440481572713e-06}. Best is trial 0 with value: 0.6857366771159875.\n"
          ]
        },
        {
          "output_type": "stream",
          "name": "stdout",
          "text": [
            "Starting training on device: cuda\n",
            "Training set size: 17206\n",
            "Validation set size: 4302\n"
          ]
        },
        {
          "output_type": "stream",
          "name": "stderr",
          "text": [
            "Training: 100%|██████████| 538/538 [00:14<00:00, 36.59it/s]\n",
            "Validating: 100%|██████████| 135/135 [00:01<00:00, 71.28it/s]\n"
          ]
        },
        {
          "output_type": "stream",
          "name": "stdout",
          "text": [
            "Epoch 1/5 - Time: 16.69s\n",
            "Train Loss: 0.4831, Train F1: 0.4457\n",
            "Val Loss: 0.3994, Val F1: 0.6224\n",
            "Val Precision: 0.6862, Val Recall: 0.5694\n",
            "Validation F1 increased (0.000000 --> 0.622391). Saving model...\n"
          ]
        },
        {
          "output_type": "stream",
          "name": "stderr",
          "text": [
            "Training: 100%|██████████| 538/538 [00:14<00:00, 36.57it/s]\n",
            "Validating: 100%|██████████| 135/135 [00:01<00:00, 71.45it/s]\n"
          ]
        },
        {
          "output_type": "stream",
          "name": "stdout",
          "text": [
            "Epoch 2/5 - Time: 16.70s\n",
            "Train Loss: 0.3867, Train F1: 0.6369\n",
            "Val Loss: 0.3779, Val F1: 0.6048\n",
            "Val Precision: 0.7572, Val Recall: 0.5035\n",
            "EarlyStopping counter: 1 out of 3\n"
          ]
        },
        {
          "output_type": "stream",
          "name": "stderr",
          "text": [
            "Training: 100%|██████████| 538/538 [00:14<00:00, 36.76it/s]\n",
            "Validating: 100%|██████████| 135/135 [00:01<00:00, 71.01it/s]\n"
          ]
        },
        {
          "output_type": "stream",
          "name": "stdout",
          "text": [
            "Epoch 3/5 - Time: 16.63s\n",
            "Train Loss: 0.3451, Train F1: 0.6990\n",
            "Val Loss: 0.3769, Val F1: 0.6494\n",
            "Val Precision: 0.7602, Val Recall: 0.5668\n",
            "Validation F1 increased (0.622391 --> 0.649428). Saving model...\n"
          ]
        },
        {
          "output_type": "stream",
          "name": "stderr",
          "text": [
            "Training: 100%|██████████| 538/538 [00:14<00:00, 36.77it/s]\n",
            "Validating: 100%|██████████| 135/135 [00:01<00:00, 71.27it/s]\n"
          ]
        },
        {
          "output_type": "stream",
          "name": "stdout",
          "text": [
            "Epoch 4/5 - Time: 16.62s\n",
            "Train Loss: 0.3051, Train F1: 0.7464\n",
            "Val Loss: 0.3809, Val F1: 0.6415\n",
            "Val Precision: 0.7360, Val Recall: 0.5686\n",
            "EarlyStopping counter: 1 out of 3\n"
          ]
        },
        {
          "output_type": "stream",
          "name": "stderr",
          "text": [
            "Training: 100%|██████████| 538/538 [00:14<00:00, 36.67it/s]\n",
            "Validating: 100%|██████████| 135/135 [00:01<00:00, 71.55it/s]\n"
          ]
        },
        {
          "output_type": "stream",
          "name": "stdout",
          "text": [
            "Epoch 5/5 - Time: 16.65s\n",
            "Train Loss: 0.2578, Train F1: 0.7980\n",
            "Val Loss: 0.4233, Val F1: 0.6475\n",
            "Val Precision: 0.7247, Val Recall: 0.5851\n",
            "EarlyStopping counter: 2 out of 3\n",
            "Loaded best model from 'best_bilstm_attention_model.pt'\n"
          ]
        },
        {
          "output_type": "stream",
          "name": "stderr",
          "text": [
            "Validating: 100%|██████████| 135/135 [00:01<00:00, 71.51it/s]\n",
            "[I 2025-03-28 01:01:47,746] Trial 5 finished with value: 0.6494281452013924 and parameters: {'hidden_dim': 256, 'dropout': 0.339867681478321, 'batch_size': 32, 'learning_rate': 0.000191842591793179, 'weight_decay': 4.919166436433915e-06}. Best is trial 0 with value: 0.6857366771159875.\n"
          ]
        },
        {
          "output_type": "stream",
          "name": "stdout",
          "text": [
            "Starting training on device: cuda\n",
            "Training set size: 17206\n",
            "Validation set size: 4302\n"
          ]
        },
        {
          "output_type": "stream",
          "name": "stderr",
          "text": [
            "Training: 100%|██████████| 1076/1076 [00:21<00:00, 50.85it/s]\n",
            "Validating: 100%|██████████| 269/269 [00:02<00:00, 109.94it/s]\n"
          ]
        },
        {
          "output_type": "stream",
          "name": "stdout",
          "text": [
            "Epoch 1/5 - Time: 23.70s\n",
            "Train Loss: 0.5081, Train F1: 0.3701\n",
            "Val Loss: 0.4129, Val F1: 0.5805\n",
            "Val Precision: 0.6791, Val Recall: 0.5069\n",
            "Validation F1 increased (0.000000 --> 0.580517). Saving model...\n"
          ]
        },
        {
          "output_type": "stream",
          "name": "stderr",
          "text": [
            "Training: 100%|██████████| 1076/1076 [00:20<00:00, 51.34it/s]\n",
            "Validating: 100%|██████████| 269/269 [00:02<00:00, 108.98it/s]\n"
          ]
        },
        {
          "output_type": "stream",
          "name": "stdout",
          "text": [
            "Epoch 2/5 - Time: 23.52s\n",
            "Train Loss: 0.4047, Train F1: 0.6166\n",
            "Val Loss: 0.3841, Val F1: 0.6357\n",
            "Val Precision: 0.7180, Val Recall: 0.5703\n",
            "Validation F1 increased (0.580517 --> 0.635704). Saving model...\n"
          ]
        },
        {
          "output_type": "stream",
          "name": "stderr",
          "text": [
            "Training: 100%|██████████| 1076/1076 [00:21<00:00, 51.13it/s]\n",
            "Validating: 100%|██████████| 269/269 [00:02<00:00, 110.89it/s]\n"
          ]
        },
        {
          "output_type": "stream",
          "name": "stdout",
          "text": [
            "Epoch 3/5 - Time: 23.57s\n",
            "Train Loss: 0.3632, Train F1: 0.6784\n",
            "Val Loss: 0.3723, Val F1: 0.6673\n",
            "Val Precision: 0.6872, Val Recall: 0.6484\n",
            "Validation F1 increased (0.635704 --> 0.667262). Saving model...\n"
          ]
        },
        {
          "output_type": "stream",
          "name": "stderr",
          "text": [
            "Training: 100%|██████████| 1076/1076 [00:20<00:00, 51.33it/s]\n",
            "Validating: 100%|██████████| 269/269 [00:02<00:00, 109.35it/s]\n"
          ]
        },
        {
          "output_type": "stream",
          "name": "stdout",
          "text": [
            "Epoch 4/5 - Time: 23.52s\n",
            "Train Loss: 0.3226, Train F1: 0.7260\n",
            "Val Loss: 0.3781, Val F1: 0.6786\n",
            "Val Precision: 0.6692, Val Recall: 0.6884\n",
            "Validation F1 increased (0.667262 --> 0.678648). Saving model...\n"
          ]
        },
        {
          "output_type": "stream",
          "name": "stderr",
          "text": [
            "Training: 100%|██████████| 1076/1076 [00:20<00:00, 51.32it/s]\n",
            "Validating: 100%|██████████| 269/269 [00:02<00:00, 108.55it/s]\n"
          ]
        },
        {
          "output_type": "stream",
          "name": "stdout",
          "text": [
            "Epoch 5/5 - Time: 23.54s\n",
            "Train Loss: 0.2814, Train F1: 0.7760\n",
            "Val Loss: 0.3954, Val F1: 0.6688\n",
            "Val Precision: 0.6321, Val Recall: 0.7101\n",
            "EarlyStopping counter: 1 out of 3\n",
            "Loaded best model from 'best_bilstm_attention_model.pt'\n"
          ]
        },
        {
          "output_type": "stream",
          "name": "stderr",
          "text": [
            "Validating: 100%|██████████| 269/269 [00:02<00:00, 110.02it/s]\n",
            "[I 2025-03-28 01:03:48,276] Trial 6 finished with value: 0.6786478391099701 and parameters: {'hidden_dim': 128, 'dropout': 0.38711734541489334, 'batch_size': 16, 'learning_rate': 0.00012520677474246118, 'weight_decay': 8.523718054555105e-06}. Best is trial 0 with value: 0.6857366771159875.\n"
          ]
        },
        {
          "output_type": "stream",
          "name": "stdout",
          "text": [
            "Starting training on device: cuda\n",
            "Training set size: 17206\n",
            "Validation set size: 4302\n"
          ]
        },
        {
          "output_type": "stream",
          "name": "stderr",
          "text": [
            "Training: 100%|██████████| 538/538 [00:14<00:00, 36.38it/s]\n",
            "Validating: 100%|██████████| 135/135 [00:01<00:00, 71.65it/s]\n"
          ]
        },
        {
          "output_type": "stream",
          "name": "stdout",
          "text": [
            "Epoch 1/5 - Time: 16.77s\n",
            "Train Loss: 0.4730, Train F1: 0.4753\n",
            "Val Loss: 0.3996, Val F1: 0.5235\n",
            "Val Precision: 0.7729, Val Recall: 0.3958\n",
            "Validation F1 increased (0.000000 --> 0.523536). Saving model...\n"
          ]
        },
        {
          "output_type": "stream",
          "name": "stderr",
          "text": [
            "Training: 100%|██████████| 538/538 [00:14<00:00, 36.38it/s]\n",
            "Validating: 100%|██████████| 135/135 [00:01<00:00, 71.23it/s]\n"
          ]
        },
        {
          "output_type": "stream",
          "name": "stdout",
          "text": [
            "Epoch 2/5 - Time: 16.78s\n",
            "Train Loss: 0.3753, Train F1: 0.6553\n",
            "Val Loss: 0.3665, Val F1: 0.6583\n",
            "Val Precision: 0.7133, Val Recall: 0.6111\n",
            "Validation F1 increased (0.523536 --> 0.658252). Saving model...\n"
          ]
        },
        {
          "output_type": "stream",
          "name": "stderr",
          "text": [
            "Training: 100%|██████████| 538/538 [00:14<00:00, 36.47it/s]\n",
            "Validating: 100%|██████████| 135/135 [00:01<00:00, 71.92it/s]\n"
          ]
        },
        {
          "output_type": "stream",
          "name": "stdout",
          "text": [
            "Epoch 3/5 - Time: 16.72s\n",
            "Train Loss: 0.3248, Train F1: 0.7218\n",
            "Val Loss: 0.3682, Val F1: 0.6775\n",
            "Val Precision: 0.6653, Val Recall: 0.6901\n",
            "Validation F1 increased (0.658252 --> 0.677461). Saving model...\n"
          ]
        },
        {
          "output_type": "stream",
          "name": "stderr",
          "text": [
            "Training: 100%|██████████| 538/538 [00:14<00:00, 36.19it/s]\n",
            "Validating: 100%|██████████| 135/135 [00:01<00:00, 69.39it/s]\n"
          ]
        },
        {
          "output_type": "stream",
          "name": "stdout",
          "text": [
            "Epoch 4/5 - Time: 16.91s\n",
            "Train Loss: 0.2762, Train F1: 0.7779\n",
            "Val Loss: 0.4177, Val F1: 0.5983\n",
            "Val Precision: 0.7845, Val Recall: 0.4835\n",
            "EarlyStopping counter: 1 out of 3\n"
          ]
        },
        {
          "output_type": "stream",
          "name": "stderr",
          "text": [
            "Training: 100%|██████████| 538/538 [00:14<00:00, 36.54it/s]\n",
            "Validating: 100%|██████████| 135/135 [00:01<00:00, 71.40it/s]\n"
          ]
        },
        {
          "output_type": "stream",
          "name": "stdout",
          "text": [
            "Epoch 5/5 - Time: 16.71s\n",
            "Train Loss: 0.2168, Train F1: 0.8345\n",
            "Val Loss: 0.4281, Val F1: 0.6661\n",
            "Val Precision: 0.6530, Val Recall: 0.6797\n",
            "EarlyStopping counter: 2 out of 3\n",
            "Loaded best model from 'best_bilstm_attention_model.pt'\n"
          ]
        },
        {
          "output_type": "stream",
          "name": "stderr",
          "text": [
            "Validating: 100%|██████████| 135/135 [00:01<00:00, 71.86it/s]\n",
            "[I 2025-03-28 01:05:14,258] Trial 7 finished with value: 0.6774605879846612 and parameters: {'hidden_dim': 256, 'dropout': 0.37452151975469195, 'batch_size': 32, 'learning_rate': 0.00025344071231684967, 'weight_decay': 2.2180433157223386e-06}. Best is trial 0 with value: 0.6857366771159875.\n"
          ]
        },
        {
          "output_type": "stream",
          "name": "stdout",
          "text": [
            "Starting training on device: cuda\n",
            "Training set size: 17206\n",
            "Validation set size: 4302\n"
          ]
        },
        {
          "output_type": "stream",
          "name": "stderr",
          "text": [
            "Training: 100%|██████████| 1076/1076 [00:22<00:00, 48.39it/s]\n",
            "Validating: 100%|██████████| 269/269 [00:02<00:00, 108.25it/s]\n"
          ]
        },
        {
          "output_type": "stream",
          "name": "stdout",
          "text": [
            "Epoch 1/5 - Time: 24.81s\n",
            "Train Loss: 0.4942, Train F1: 0.4169\n",
            "Val Loss: 0.4262, Val F1: 0.4541\n",
            "Val Precision: 0.7368, Val Recall: 0.3281\n",
            "Validation F1 increased (0.000000 --> 0.454054). Saving model...\n"
          ]
        },
        {
          "output_type": "stream",
          "name": "stderr",
          "text": [
            "Training: 100%|██████████| 1076/1076 [00:22<00:00, 48.57it/s]\n",
            "Validating: 100%|██████████| 269/269 [00:02<00:00, 109.57it/s]\n"
          ]
        },
        {
          "output_type": "stream",
          "name": "stdout",
          "text": [
            "Epoch 2/5 - Time: 24.70s\n",
            "Train Loss: 0.4297, Train F1: 0.5311\n",
            "Val Loss: 0.4201, Val F1: 0.3893\n",
            "Val Precision: 0.7941, Val Recall: 0.2578\n",
            "EarlyStopping counter: 1 out of 3\n"
          ]
        },
        {
          "output_type": "stream",
          "name": "stderr",
          "text": [
            "Training: 100%|██████████| 1076/1076 [00:22<00:00, 48.81it/s]\n",
            "Validating: 100%|██████████| 269/269 [00:02<00:00, 109.96it/s]\n"
          ]
        },
        {
          "output_type": "stream",
          "name": "stdout",
          "text": [
            "Epoch 3/5 - Time: 24.58s\n",
            "Train Loss: 0.4217, Train F1: 0.5690\n",
            "Val Loss: 0.5076, Val F1: 0.6242\n",
            "Val Precision: 0.6184, Val Recall: 0.6302\n",
            "Validation F1 increased (0.454054 --> 0.624248). Saving model...\n"
          ]
        },
        {
          "output_type": "stream",
          "name": "stderr",
          "text": [
            "Training: 100%|██████████| 1076/1076 [00:22<00:00, 48.51it/s]\n",
            "Validating: 100%|██████████| 269/269 [00:02<00:00, 108.59it/s]\n"
          ]
        },
        {
          "output_type": "stream",
          "name": "stdout",
          "text": [
            "Epoch 4/5 - Time: 24.75s\n",
            "Train Loss: 0.3962, Train F1: 0.6175\n",
            "Val Loss: 0.4350, Val F1: 0.3888\n",
            "Val Precision: 0.8343, Val Recall: 0.2535\n",
            "EarlyStopping counter: 1 out of 3\n"
          ]
        },
        {
          "output_type": "stream",
          "name": "stderr",
          "text": [
            "Training: 100%|██████████| 1076/1076 [00:22<00:00, 48.65it/s]\n",
            "Validating: 100%|██████████| 269/269 [00:02<00:00, 109.73it/s]\n"
          ]
        },
        {
          "output_type": "stream",
          "name": "stdout",
          "text": [
            "Epoch 5/5 - Time: 24.66s\n",
            "Train Loss: 0.3597, Train F1: 0.6689\n",
            "Val Loss: 0.4489, Val F1: 0.6116\n",
            "Val Precision: 0.6790, Val Recall: 0.5564\n",
            "EarlyStopping counter: 2 out of 3\n",
            "Loaded best model from 'best_bilstm_attention_model.pt'\n"
          ]
        },
        {
          "output_type": "stream",
          "name": "stderr",
          "text": [
            "Validating: 100%|██████████| 269/269 [00:02<00:00, 109.70it/s]\n",
            "[I 2025-03-28 01:07:20,455] Trial 8 finished with value: 0.6242476354256233 and parameters: {'hidden_dim': 512, 'dropout': 0.39906149461437723, 'batch_size': 16, 'learning_rate': 0.0077608112637731754, 'weight_decay': 1.7502844036395842e-05}. Best is trial 0 with value: 0.6857366771159875.\n"
          ]
        },
        {
          "output_type": "stream",
          "name": "stdout",
          "text": [
            "Starting training on device: cuda\n",
            "Training set size: 17206\n",
            "Validation set size: 4302\n"
          ]
        },
        {
          "output_type": "stream",
          "name": "stderr",
          "text": [
            "Training: 100%|██████████| 269/269 [00:10<00:00, 24.47it/s]\n",
            "Validating: 100%|██████████| 68/68 [00:01<00:00, 42.57it/s]\n"
          ]
        },
        {
          "output_type": "stream",
          "name": "stdout",
          "text": [
            "Epoch 1/5 - Time: 12.69s\n",
            "Train Loss: 0.4948, Train F1: 0.4094\n",
            "Val Loss: 0.4080, Val F1: 0.5831\n",
            "Val Precision: 0.6830, Val Recall: 0.5087\n",
            "Validation F1 increased (0.000000 --> 0.583085). Saving model...\n"
          ]
        },
        {
          "output_type": "stream",
          "name": "stderr",
          "text": [
            "Training: 100%|██████████| 269/269 [00:10<00:00, 24.53it/s]\n",
            "Validating: 100%|██████████| 68/68 [00:01<00:00, 42.91it/s]\n"
          ]
        },
        {
          "output_type": "stream",
          "name": "stdout",
          "text": [
            "Epoch 2/5 - Time: 12.64s\n",
            "Train Loss: 0.3995, Train F1: 0.6148\n",
            "Val Loss: 0.3841, Val F1: 0.6405\n",
            "Val Precision: 0.7026, Val Recall: 0.5885\n",
            "Validation F1 increased (0.583085 --> 0.640529). Saving model...\n"
          ]
        },
        {
          "output_type": "stream",
          "name": "stderr",
          "text": [
            "Training: 100%|██████████| 269/269 [00:10<00:00, 24.59it/s]\n",
            "Validating: 100%|██████████| 68/68 [00:01<00:00, 42.62it/s]\n"
          ]
        },
        {
          "output_type": "stream",
          "name": "stdout",
          "text": [
            "Epoch 3/5 - Time: 12.63s\n",
            "Train Loss: 0.3623, Train F1: 0.6676\n",
            "Val Loss: 0.3777, Val F1: 0.6334\n",
            "Val Precision: 0.7248, Val Recall: 0.5625\n",
            "EarlyStopping counter: 1 out of 3\n"
          ]
        },
        {
          "output_type": "stream",
          "name": "stderr",
          "text": [
            "Training: 100%|██████████| 269/269 [00:10<00:00, 24.68it/s]\n",
            "Validating: 100%|██████████| 68/68 [00:01<00:00, 42.91it/s]\n"
          ]
        },
        {
          "output_type": "stream",
          "name": "stdout",
          "text": [
            "Epoch 4/5 - Time: 12.58s\n",
            "Train Loss: 0.3327, Train F1: 0.7077\n",
            "Val Loss: 0.3654, Val F1: 0.6441\n",
            "Val Precision: 0.7163, Val Recall: 0.5851\n",
            "Validation F1 increased (0.640529 --> 0.644052). Saving model...\n"
          ]
        },
        {
          "output_type": "stream",
          "name": "stderr",
          "text": [
            "Training: 100%|██████████| 269/269 [00:10<00:00, 24.80it/s]\n",
            "Validating: 100%|██████████| 68/68 [00:01<00:00, 42.96it/s]\n"
          ]
        },
        {
          "output_type": "stream",
          "name": "stdout",
          "text": [
            "Epoch 5/5 - Time: 12.53s\n",
            "Train Loss: 0.2980, Train F1: 0.7503\n",
            "Val Loss: 0.3965, Val F1: 0.6764\n",
            "Val Precision: 0.6207, Val Recall: 0.7431\n",
            "Validation F1 increased (0.644052 --> 0.676412). Saving model...\n",
            "Loaded best model from 'best_bilstm_attention_model.pt'\n"
          ]
        },
        {
          "output_type": "stream",
          "name": "stderr",
          "text": [
            "Validating: 100%|██████████| 68/68 [00:01<00:00, 42.62it/s]\n",
            "[I 2025-03-28 01:08:25,476] Trial 9 finished with value: 0.6764124851837219 and parameters: {'hidden_dim': 512, 'dropout': 0.30410355091946545, 'batch_size': 64, 'learning_rate': 0.00016973526743243746, 'weight_decay': 4.087677565333387e-06}. Best is trial 0 with value: 0.6857366771159875.\n"
          ]
        },
        {
          "output_type": "stream",
          "name": "stdout",
          "text": [
            "Starting training on device: cuda\n",
            "Training set size: 17206\n",
            "Validation set size: 4302\n"
          ]
        },
        {
          "output_type": "stream",
          "name": "stderr",
          "text": [
            "Training: 100%|██████████| 269/269 [00:10<00:00, 25.12it/s]\n",
            "Validating: 100%|██████████| 68/68 [00:01<00:00, 43.45it/s]\n"
          ]
        },
        {
          "output_type": "stream",
          "name": "stdout",
          "text": [
            "Epoch 1/5 - Time: 12.37s\n",
            "Train Loss: 0.4961, Train F1: 0.3925\n",
            "Val Loss: 0.4072, Val F1: 0.6280\n",
            "Val Precision: 0.6410, Val Recall: 0.6155\n",
            "Validation F1 increased (0.000000 --> 0.627989). Saving model...\n"
          ]
        },
        {
          "output_type": "stream",
          "name": "stderr",
          "text": [
            "Training: 100%|██████████| 269/269 [00:10<00:00, 25.18it/s]\n",
            "Validating: 100%|██████████| 68/68 [00:01<00:00, 42.86it/s]\n"
          ]
        },
        {
          "output_type": "stream",
          "name": "stdout",
          "text": [
            "Epoch 2/5 - Time: 12.36s\n",
            "Train Loss: 0.3941, Train F1: 0.6290\n",
            "Val Loss: 0.3747, Val F1: 0.6394\n",
            "Val Precision: 0.7392, Val Recall: 0.5634\n",
            "Validation F1 increased (0.627989 --> 0.639409). Saving model...\n"
          ]
        },
        {
          "output_type": "stream",
          "name": "stderr",
          "text": [
            "Training: 100%|██████████| 269/269 [00:10<00:00, 25.00it/s]\n",
            "Validating: 100%|██████████| 68/68 [00:01<00:00, 42.86it/s]\n"
          ]
        },
        {
          "output_type": "stream",
          "name": "stdout",
          "text": [
            "Epoch 3/5 - Time: 12.44s\n",
            "Train Loss: 0.3437, Train F1: 0.6942\n",
            "Val Loss: 0.3801, Val F1: 0.6372\n",
            "Val Precision: 0.7700, Val Recall: 0.5434\n",
            "EarlyStopping counter: 1 out of 3\n"
          ]
        },
        {
          "output_type": "stream",
          "name": "stderr",
          "text": [
            "Training: 100%|██████████| 269/269 [00:10<00:00, 25.18it/s]\n",
            "Validating: 100%|██████████| 68/68 [00:01<00:00, 43.32it/s]\n"
          ]
        },
        {
          "output_type": "stream",
          "name": "stdout",
          "text": [
            "Epoch 4/5 - Time: 12.35s\n",
            "Train Loss: 0.2901, Train F1: 0.7583\n",
            "Val Loss: 0.3780, Val F1: 0.6835\n",
            "Val Precision: 0.6545, Val Recall: 0.7153\n",
            "Validation F1 increased (0.639409 --> 0.683534). Saving model...\n"
          ]
        },
        {
          "output_type": "stream",
          "name": "stderr",
          "text": [
            "Training: 100%|██████████| 269/269 [00:10<00:00, 25.09it/s]\n",
            "Validating: 100%|██████████| 68/68 [00:01<00:00, 42.99it/s]\n"
          ]
        },
        {
          "output_type": "stream",
          "name": "stdout",
          "text": [
            "Epoch 5/5 - Time: 12.40s\n",
            "Train Loss: 0.2319, Train F1: 0.8231\n",
            "Val Loss: 0.4292, Val F1: 0.6348\n",
            "Val Precision: 0.7254, Val Recall: 0.5642\n",
            "EarlyStopping counter: 1 out of 3\n",
            "Loaded best model from 'best_bilstm_attention_model.pt'\n"
          ]
        },
        {
          "output_type": "stream",
          "name": "stderr",
          "text": [
            "Validating: 100%|██████████| 68/68 [00:01<00:00, 43.15it/s]\n",
            "[I 2025-03-28 01:09:29,192] Trial 10 finished with value: 0.6835338034010784 and parameters: {'hidden_dim': 128, 'dropout': 0.49785649724311354, 'batch_size': 64, 'learning_rate': 0.0005071853902935011, 'weight_decay': 4.1171812645200924e-05}. Best is trial 0 with value: 0.6857366771159875.\n"
          ]
        },
        {
          "output_type": "stream",
          "name": "stdout",
          "text": [
            "Starting training on device: cuda\n",
            "Training set size: 17206\n",
            "Validation set size: 4302\n"
          ]
        },
        {
          "output_type": "stream",
          "name": "stderr",
          "text": [
            "Training: 100%|██████████| 269/269 [00:10<00:00, 25.06it/s]\n",
            "Validating: 100%|██████████| 68/68 [00:01<00:00, 42.49it/s]\n"
          ]
        },
        {
          "output_type": "stream",
          "name": "stdout",
          "text": [
            "Epoch 1/5 - Time: 12.43s\n",
            "Train Loss: 0.5069, Train F1: 0.3877\n",
            "Val Loss: 0.4034, Val F1: 0.5954\n",
            "Val Precision: 0.6887, Val Recall: 0.5243\n",
            "Validation F1 increased (0.000000 --> 0.595367). Saving model...\n"
          ]
        },
        {
          "output_type": "stream",
          "name": "stderr",
          "text": [
            "Training: 100%|██████████| 269/269 [00:10<00:00, 25.05it/s]\n",
            "Validating: 100%|██████████| 68/68 [00:01<00:00, 42.51it/s]\n"
          ]
        },
        {
          "output_type": "stream",
          "name": "stdout",
          "text": [
            "Epoch 2/5 - Time: 12.44s\n",
            "Train Loss: 0.4032, Train F1: 0.6155\n",
            "Val Loss: 0.3825, Val F1: 0.6726\n",
            "Val Precision: 0.6625, Val Recall: 0.6832\n",
            "Validation F1 increased (0.595367 --> 0.672650). Saving model...\n"
          ]
        },
        {
          "output_type": "stream",
          "name": "stderr",
          "text": [
            "Training: 100%|██████████| 269/269 [00:10<00:00, 25.06it/s]\n",
            "Validating: 100%|██████████| 68/68 [00:01<00:00, 42.86it/s]\n"
          ]
        },
        {
          "output_type": "stream",
          "name": "stdout",
          "text": [
            "Epoch 3/5 - Time: 12.42s\n",
            "Train Loss: 0.3580, Train F1: 0.6831\n",
            "Val Loss: 0.3646, Val F1: 0.6716\n",
            "Val Precision: 0.7270, Val Recall: 0.6241\n",
            "EarlyStopping counter: 1 out of 3\n"
          ]
        },
        {
          "output_type": "stream",
          "name": "stderr",
          "text": [
            "Training: 100%|██████████| 269/269 [00:10<00:00, 25.15it/s]\n",
            "Validating: 100%|██████████| 68/68 [00:01<00:00, 42.46it/s]\n"
          ]
        },
        {
          "output_type": "stream",
          "name": "stdout",
          "text": [
            "Epoch 4/5 - Time: 12.39s\n",
            "Train Loss: 0.3272, Train F1: 0.7224\n",
            "Val Loss: 0.4026, Val F1: 0.6283\n",
            "Val Precision: 0.7414, Val Recall: 0.5451\n",
            "EarlyStopping counter: 2 out of 3\n"
          ]
        },
        {
          "output_type": "stream",
          "name": "stderr",
          "text": [
            "Training: 100%|██████████| 269/269 [00:10<00:00, 25.24it/s]\n",
            "Validating: 100%|██████████| 68/68 [00:01<00:00, 42.72it/s]\n"
          ]
        },
        {
          "output_type": "stream",
          "name": "stdout",
          "text": [
            "Epoch 5/5 - Time: 12.35s\n",
            "Train Loss: 0.2711, Train F1: 0.7869\n",
            "Val Loss: 0.3996, Val F1: 0.6773\n",
            "Val Precision: 0.6041, Val Recall: 0.7708\n",
            "Validation F1 increased (0.672650 --> 0.677346). Saving model...\n",
            "Loaded best model from 'best_bilstm_attention_model.pt'\n"
          ]
        },
        {
          "output_type": "stream",
          "name": "stderr",
          "text": [
            "Validating: 100%|██████████| 68/68 [00:01<00:00, 43.20it/s]\n",
            "[I 2025-03-28 01:10:32,998] Trial 11 finished with value: 0.6773455377574371 and parameters: {'hidden_dim': 128, 'dropout': 0.4960345810841712, 'batch_size': 64, 'learning_rate': 0.0005017858378832852, 'weight_decay': 8.511709112585237e-05}. Best is trial 0 with value: 0.6857366771159875.\n"
          ]
        },
        {
          "output_type": "stream",
          "name": "stdout",
          "text": [
            "Starting training on device: cuda\n",
            "Training set size: 17206\n",
            "Validation set size: 4302\n"
          ]
        },
        {
          "output_type": "stream",
          "name": "stderr",
          "text": [
            "Training: 100%|██████████| 269/269 [00:10<00:00, 25.20it/s]\n",
            "Validating: 100%|██████████| 68/68 [00:01<00:00, 42.89it/s]\n"
          ]
        },
        {
          "output_type": "stream",
          "name": "stdout",
          "text": [
            "Epoch 1/5 - Time: 12.35s\n",
            "Train Loss: 0.5086, Train F1: 0.3681\n",
            "Val Loss: 0.4204, Val F1: 0.5267\n",
            "Val Precision: 0.7345, Val Recall: 0.4106\n",
            "Validation F1 increased (0.000000 --> 0.526726). Saving model...\n"
          ]
        },
        {
          "output_type": "stream",
          "name": "stderr",
          "text": [
            "Training: 100%|██████████| 269/269 [00:10<00:00, 25.06it/s]\n",
            "Validating: 100%|██████████| 68/68 [00:01<00:00, 43.15it/s]\n"
          ]
        },
        {
          "output_type": "stream",
          "name": "stdout",
          "text": [
            "Epoch 2/5 - Time: 12.40s\n",
            "Train Loss: 0.3961, Train F1: 0.6323\n",
            "Val Loss: 0.3824, Val F1: 0.6794\n",
            "Val Precision: 0.6658, Val Recall: 0.6936\n",
            "Validation F1 increased (0.526726 --> 0.679422). Saving model...\n"
          ]
        },
        {
          "output_type": "stream",
          "name": "stderr",
          "text": [
            "Training: 100%|██████████| 269/269 [00:10<00:00, 25.09it/s]\n",
            "Validating: 100%|██████████| 68/68 [00:01<00:00, 42.75it/s]\n"
          ]
        },
        {
          "output_type": "stream",
          "name": "stdout",
          "text": [
            "Epoch 3/5 - Time: 12.41s\n",
            "Train Loss: 0.3490, Train F1: 0.6932\n",
            "Val Loss: 0.3665, Val F1: 0.6667\n",
            "Val Precision: 0.7166, Val Recall: 0.6233\n",
            "EarlyStopping counter: 1 out of 3\n"
          ]
        },
        {
          "output_type": "stream",
          "name": "stderr",
          "text": [
            "Training: 100%|██████████| 269/269 [00:10<00:00, 25.25it/s]\n",
            "Validating: 100%|██████████| 68/68 [00:01<00:00, 43.64it/s]\n"
          ]
        },
        {
          "output_type": "stream",
          "name": "stdout",
          "text": [
            "Epoch 4/5 - Time: 12.31s\n",
            "Train Loss: 0.3026, Train F1: 0.7479\n",
            "Val Loss: 0.3781, Val F1: 0.6838\n",
            "Val Precision: 0.6558, Val Recall: 0.7144\n",
            "Validation F1 increased (0.679422 --> 0.683839). Saving model...\n"
          ]
        },
        {
          "output_type": "stream",
          "name": "stderr",
          "text": [
            "Training: 100%|██████████| 269/269 [00:10<00:00, 25.32it/s]\n",
            "Validating: 100%|██████████| 68/68 [00:01<00:00, 43.47it/s]\n"
          ]
        },
        {
          "output_type": "stream",
          "name": "stdout",
          "text": [
            "Epoch 5/5 - Time: 12.28s\n",
            "Train Loss: 0.2493, Train F1: 0.8041\n",
            "Val Loss: 0.4326, Val F1: 0.6602\n",
            "Val Precision: 0.7096, Val Recall: 0.6172\n",
            "EarlyStopping counter: 1 out of 3\n",
            "Loaded best model from 'best_bilstm_attention_model.pt'\n"
          ]
        },
        {
          "output_type": "stream",
          "name": "stderr",
          "text": [
            "Validating: 100%|██████████| 68/68 [00:01<00:00, 43.27it/s]\n",
            "[I 2025-03-28 01:11:36,530] Trial 12 finished with value: 0.6838388034898214 and parameters: {'hidden_dim': 128, 'dropout': 0.4247911142116515, 'batch_size': 64, 'learning_rate': 0.0003656465602423699, 'weight_decay': 2.653352913623441e-05}. Best is trial 0 with value: 0.6857366771159875.\n"
          ]
        },
        {
          "output_type": "stream",
          "name": "stdout",
          "text": [
            "Starting training on device: cuda\n",
            "Training set size: 17206\n",
            "Validation set size: 4302\n"
          ]
        },
        {
          "output_type": "stream",
          "name": "stderr",
          "text": [
            "Training: 100%|██████████| 269/269 [00:10<00:00, 25.20it/s]\n",
            "Validating: 100%|██████████| 68/68 [00:01<00:00, 43.24it/s]\n"
          ]
        },
        {
          "output_type": "stream",
          "name": "stdout",
          "text": [
            "Epoch 1/5 - Time: 12.34s\n",
            "Train Loss: 0.5088, Train F1: 0.3628\n",
            "Val Loss: 0.4134, Val F1: 0.6271\n",
            "Val Precision: 0.6207, Val Recall: 0.6337\n",
            "Validation F1 increased (0.000000 --> 0.627148). Saving model...\n"
          ]
        },
        {
          "output_type": "stream",
          "name": "stderr",
          "text": [
            "Training: 100%|██████████| 269/269 [00:10<00:00, 25.23it/s]\n",
            "Validating: 100%|██████████| 68/68 [00:01<00:00, 43.41it/s]\n"
          ]
        },
        {
          "output_type": "stream",
          "name": "stdout",
          "text": [
            "Epoch 2/5 - Time: 12.32s\n",
            "Train Loss: 0.3990, Train F1: 0.6253\n",
            "Val Loss: 0.3859, Val F1: 0.6047\n",
            "Val Precision: 0.7529, Val Recall: 0.5052\n",
            "EarlyStopping counter: 1 out of 3\n"
          ]
        },
        {
          "output_type": "stream",
          "name": "stderr",
          "text": [
            "Training: 100%|██████████| 269/269 [00:10<00:00, 25.09it/s]\n",
            "Validating: 100%|██████████| 68/68 [00:01<00:00, 43.23it/s]\n"
          ]
        },
        {
          "output_type": "stream",
          "name": "stdout",
          "text": [
            "Epoch 3/5 - Time: 12.39s\n",
            "Train Loss: 0.3494, Train F1: 0.6935\n",
            "Val Loss: 0.3719, Val F1: 0.6335\n",
            "Val Precision: 0.7527, Val Recall: 0.5469\n",
            "Validation F1 increased (0.627148 --> 0.633484). Saving model...\n"
          ]
        },
        {
          "output_type": "stream",
          "name": "stderr",
          "text": [
            "Training: 100%|██████████| 269/269 [00:10<00:00, 25.15it/s]\n",
            "Validating: 100%|██████████| 68/68 [00:01<00:00, 42.69it/s]\n"
          ]
        },
        {
          "output_type": "stream",
          "name": "stdout",
          "text": [
            "Epoch 4/5 - Time: 12.39s\n",
            "Train Loss: 0.2992, Train F1: 0.7490\n",
            "Val Loss: 0.3935, Val F1: 0.6036\n",
            "Val Precision: 0.7781, Val Recall: 0.4931\n",
            "EarlyStopping counter: 1 out of 3\n"
          ]
        },
        {
          "output_type": "stream",
          "name": "stderr",
          "text": [
            "Training: 100%|██████████| 269/269 [00:10<00:00, 25.03it/s]\n",
            "Validating: 100%|██████████| 68/68 [00:01<00:00, 42.78it/s]\n"
          ]
        },
        {
          "output_type": "stream",
          "name": "stdout",
          "text": [
            "Epoch 5/5 - Time: 12.43s\n",
            "Train Loss: 0.2440, Train F1: 0.8091\n",
            "Val Loss: 0.4070, Val F1: 0.6504\n",
            "Val Precision: 0.6780, Val Recall: 0.6250\n",
            "Validation F1 increased (0.633484 --> 0.650407). Saving model...\n",
            "Loaded best model from 'best_bilstm_attention_model.pt'\n"
          ]
        },
        {
          "output_type": "stream",
          "name": "stderr",
          "text": [
            "Validating: 100%|██████████| 68/68 [00:01<00:00, 42.93it/s]\n",
            "[I 2025-03-28 01:12:40,189] Trial 13 finished with value: 0.6504065040650406 and parameters: {'hidden_dim': 128, 'dropout': 0.4261341908477755, 'batch_size': 64, 'learning_rate': 0.0003719242612986782, 'weight_decay': 1.883345021449375e-05}. Best is trial 0 with value: 0.6857366771159875.\n"
          ]
        },
        {
          "output_type": "stream",
          "name": "stdout",
          "text": [
            "Starting training on device: cuda\n",
            "Training set size: 17206\n",
            "Validation set size: 4302\n"
          ]
        },
        {
          "output_type": "stream",
          "name": "stderr",
          "text": [
            "Training: 100%|██████████| 269/269 [00:10<00:00, 24.82it/s]\n",
            "Validating: 100%|██████████| 68/68 [00:01<00:00, 42.04it/s]\n"
          ]
        },
        {
          "output_type": "stream",
          "name": "stdout",
          "text": [
            "Epoch 1/5 - Time: 12.55s\n",
            "Train Loss: 0.4419, Train F1: 0.5525\n",
            "Val Loss: 0.3772, Val F1: 0.6048\n",
            "Val Precision: 0.7632, Val Recall: 0.5009\n",
            "Validation F1 increased (0.000000 --> 0.604822). Saving model...\n"
          ]
        },
        {
          "output_type": "stream",
          "name": "stderr",
          "text": [
            "Training: 100%|██████████| 269/269 [00:10<00:00, 25.07it/s]\n",
            "Validating: 100%|██████████| 68/68 [00:01<00:00, 42.13it/s]\n"
          ]
        },
        {
          "output_type": "stream",
          "name": "stdout",
          "text": [
            "Epoch 2/5 - Time: 12.49s\n",
            "Train Loss: 0.3074, Train F1: 0.7474\n",
            "Val Loss: 0.3792, Val F1: 0.6354\n",
            "Val Precision: 0.7160, Val Recall: 0.5712\n",
            "Validation F1 increased (0.604822 --> 0.635442). Saving model...\n"
          ]
        },
        {
          "output_type": "stream",
          "name": "stderr",
          "text": [
            "Training: 100%|██████████| 269/269 [00:10<00:00, 25.13it/s]\n",
            "Validating: 100%|██████████| 68/68 [00:01<00:00, 42.65it/s]\n"
          ]
        },
        {
          "output_type": "stream",
          "name": "stdout",
          "text": [
            "Epoch 3/5 - Time: 12.39s\n",
            "Train Loss: 0.1871, Train F1: 0.8622\n",
            "Val Loss: 0.5445, Val F1: 0.6296\n",
            "Val Precision: 0.6307, Val Recall: 0.6285\n",
            "EarlyStopping counter: 1 out of 3\n"
          ]
        },
        {
          "output_type": "stream",
          "name": "stderr",
          "text": [
            "Training: 100%|██████████| 269/269 [00:10<00:00, 25.23it/s]\n",
            "Validating: 100%|██████████| 68/68 [00:01<00:00, 42.53it/s]\n"
          ]
        },
        {
          "output_type": "stream",
          "name": "stdout",
          "text": [
            "Epoch 4/5 - Time: 12.36s\n",
            "Train Loss: 0.0900, Train F1: 0.9392\n",
            "Val Loss: 0.8335, Val F1: 0.5791\n",
            "Val Precision: 0.6327, Val Recall: 0.5339\n",
            "EarlyStopping counter: 2 out of 3\n"
          ]
        },
        {
          "output_type": "stream",
          "name": "stderr",
          "text": [
            "Training: 100%|██████████| 269/269 [00:10<00:00, 25.08it/s]\n",
            "Validating: 100%|██████████| 68/68 [00:01<00:00, 43.36it/s]\n"
          ]
        },
        {
          "output_type": "stream",
          "name": "stdout",
          "text": [
            "Epoch 5/5 - Time: 12.39s\n",
            "Train Loss: 0.0471, Train F1: 0.9696\n",
            "Val Loss: 1.3027, Val F1: 0.5792\n",
            "Val Precision: 0.6049, Val Recall: 0.5556\n",
            "EarlyStopping counter: 3 out of 3\n",
            "Early stopping triggered\n",
            "Loaded best model from 'best_bilstm_attention_model.pt'\n"
          ]
        },
        {
          "output_type": "stream",
          "name": "stderr",
          "text": [
            "Validating: 100%|██████████| 68/68 [00:01<00:00, 43.63it/s]\n",
            "[I 2025-03-28 01:13:44,093] Trial 14 finished with value: 0.6354418155480445 and parameters: {'hidden_dim': 128, 'dropout': 0.42063572625227, 'batch_size': 64, 'learning_rate': 0.0034448239318478867, 'weight_decay': 1.091573939626316e-06}. Best is trial 0 with value: 0.6857366771159875.\n"
          ]
        },
        {
          "output_type": "stream",
          "name": "stdout",
          "text": [
            "Starting training on device: cuda\n",
            "Training set size: 17206\n",
            "Validation set size: 4302\n"
          ]
        },
        {
          "output_type": "stream",
          "name": "stderr",
          "text": [
            "Training: 100%|██████████| 1076/1076 [00:21<00:00, 49.33it/s]\n",
            "Validating: 100%|██████████| 269/269 [00:02<00:00, 109.83it/s]\n"
          ]
        },
        {
          "output_type": "stream",
          "name": "stdout",
          "text": [
            "Epoch 1/5 - Time: 24.36s\n",
            "Train Loss: 0.4547, Train F1: 0.5130\n",
            "Val Loss: 0.3842, Val F1: 0.6249\n",
            "Val Precision: 0.7028, Val Recall: 0.5625\n",
            "Validation F1 increased (0.000000 --> 0.624879). Saving model...\n"
          ]
        },
        {
          "output_type": "stream",
          "name": "stderr",
          "text": [
            "Training: 100%|██████████| 1076/1076 [00:21<00:00, 50.01it/s]\n",
            "Validating: 100%|██████████| 269/269 [00:02<00:00, 110.15it/s]\n"
          ]
        },
        {
          "output_type": "stream",
          "name": "stdout",
          "text": [
            "Epoch 2/5 - Time: 24.05s\n",
            "Train Loss: 0.3594, Train F1: 0.6752\n",
            "Val Loss: 0.3646, Val F1: 0.6588\n",
            "Val Precision: 0.7194, Val Recall: 0.6076\n",
            "Validation F1 increased (0.624879 --> 0.658824). Saving model...\n"
          ]
        },
        {
          "output_type": "stream",
          "name": "stderr",
          "text": [
            "Training: 100%|██████████| 1076/1076 [00:21<00:00, 49.97it/s]\n",
            "Validating: 100%|██████████| 269/269 [00:02<00:00, 110.36it/s]\n"
          ]
        },
        {
          "output_type": "stream",
          "name": "stdout",
          "text": [
            "Epoch 3/5 - Time: 24.07s\n",
            "Train Loss: 0.2973, Train F1: 0.7557\n",
            "Val Loss: 0.3822, Val F1: 0.6903\n",
            "Val Precision: 0.6656, Val Recall: 0.7170\n",
            "Validation F1 increased (0.658824 --> 0.690347). Saving model...\n"
          ]
        },
        {
          "output_type": "stream",
          "name": "stderr",
          "text": [
            "Training: 100%|██████████| 1076/1076 [00:21<00:00, 49.64it/s]\n",
            "Validating: 100%|██████████| 269/269 [00:02<00:00, 110.44it/s]\n"
          ]
        },
        {
          "output_type": "stream",
          "name": "stdout",
          "text": [
            "Epoch 4/5 - Time: 24.21s\n",
            "Train Loss: 0.2251, Train F1: 0.8308\n",
            "Val Loss: 0.4134, Val F1: 0.6630\n",
            "Val Precision: 0.6932, Val Recall: 0.6354\n",
            "EarlyStopping counter: 1 out of 3\n"
          ]
        },
        {
          "output_type": "stream",
          "name": "stderr",
          "text": [
            "Training: 100%|██████████| 1076/1076 [00:21<00:00, 49.77it/s]\n",
            "Validating: 100%|██████████| 269/269 [00:02<00:00, 109.70it/s]\n"
          ]
        },
        {
          "output_type": "stream",
          "name": "stdout",
          "text": [
            "Epoch 5/5 - Time: 24.17s\n",
            "Train Loss: 0.1520, Train F1: 0.8899\n",
            "Val Loss: 0.5902, Val F1: 0.6464\n",
            "Val Precision: 0.6220, Val Recall: 0.6727\n",
            "EarlyStopping counter: 2 out of 3\n",
            "Loaded best model from 'best_bilstm_attention_model.pt'\n"
          ]
        },
        {
          "output_type": "stream",
          "name": "stderr",
          "text": [
            "Validating: 100%|██████████| 269/269 [00:02<00:00, 109.08it/s]\n",
            "[I 2025-03-28 01:15:47,639] Trial 15 finished with value: 0.6903468449644797 and parameters: {'hidden_dim': 256, 'dropout': 0.4277148867646843, 'batch_size': 16, 'learning_rate': 0.00033550020021625327, 'weight_decay': 1.8390870324768507e-05}. Best is trial 15 with value: 0.6903468449644797.\n"
          ]
        },
        {
          "output_type": "stream",
          "name": "stdout",
          "text": [
            "Starting training on device: cuda\n",
            "Training set size: 17206\n",
            "Validation set size: 4302\n"
          ]
        },
        {
          "output_type": "stream",
          "name": "stderr",
          "text": [
            "Training: 100%|██████████| 1076/1076 [00:21<00:00, 49.44it/s]\n",
            "Validating: 100%|██████████| 269/269 [00:02<00:00, 110.93it/s]\n"
          ]
        },
        {
          "output_type": "stream",
          "name": "stdout",
          "text": [
            "Epoch 1/5 - Time: 24.29s\n",
            "Train Loss: 0.4570, Train F1: 0.5156\n",
            "Val Loss: 0.4115, Val F1: 0.6680\n",
            "Val Precision: 0.6300, Val Recall: 0.7109\n",
            "Validation F1 increased (0.000000 --> 0.668026). Saving model...\n"
          ]
        },
        {
          "output_type": "stream",
          "name": "stderr",
          "text": [
            "Training: 100%|██████████| 1076/1076 [00:21<00:00, 49.71it/s]\n",
            "Validating: 100%|██████████| 269/269 [00:02<00:00, 110.03it/s]\n"
          ]
        },
        {
          "output_type": "stream",
          "name": "stdout",
          "text": [
            "Epoch 2/5 - Time: 24.19s\n",
            "Train Loss: 0.3657, Train F1: 0.6694\n",
            "Val Loss: 0.3690, Val F1: 0.6291\n",
            "Val Precision: 0.7403, Val Recall: 0.5469\n",
            "EarlyStopping counter: 1 out of 3\n"
          ]
        },
        {
          "output_type": "stream",
          "name": "stderr",
          "text": [
            "Training: 100%|██████████| 1076/1076 [00:21<00:00, 49.74it/s]\n",
            "Validating: 100%|██████████| 269/269 [00:02<00:00, 108.57it/s]\n"
          ]
        },
        {
          "output_type": "stream",
          "name": "stdout",
          "text": [
            "Epoch 3/5 - Time: 24.20s\n",
            "Train Loss: 0.3121, Train F1: 0.7372\n",
            "Val Loss: 0.3779, Val F1: 0.6373\n",
            "Val Precision: 0.7293, Val Recall: 0.5660\n",
            "EarlyStopping counter: 2 out of 3\n"
          ]
        },
        {
          "output_type": "stream",
          "name": "stderr",
          "text": [
            "Training: 100%|██████████| 1076/1076 [00:21<00:00, 49.57it/s]\n",
            "Validating: 100%|██████████| 269/269 [00:02<00:00, 109.94it/s]\n"
          ]
        },
        {
          "output_type": "stream",
          "name": "stdout",
          "text": [
            "Epoch 4/5 - Time: 24.25s\n",
            "Train Loss: 0.2482, Train F1: 0.8098\n",
            "Val Loss: 0.4082, Val F1: 0.6452\n",
            "Val Precision: 0.6866, Val Recall: 0.6085\n",
            "EarlyStopping counter: 3 out of 3\n",
            "Early stopping triggered\n",
            "Loaded best model from 'best_bilstm_attention_model.pt'\n"
          ]
        },
        {
          "output_type": "stream",
          "name": "stderr",
          "text": [
            "Validating: 100%|██████████| 269/269 [00:02<00:00, 110.27it/s]\n",
            "[I 2025-03-28 01:17:27,147] Trial 16 finished with value: 0.668026101141925 and parameters: {'hidden_dim': 256, 'dropout': 0.3648229659000902, 'batch_size': 16, 'learning_rate': 0.0002657140953969589, 'weight_decay': 1.1292149250104596e-05}. Best is trial 15 with value: 0.6903468449644797.\n"
          ]
        },
        {
          "output_type": "stream",
          "name": "stdout",
          "text": [
            "Starting training on device: cuda\n",
            "Training set size: 17206\n",
            "Validation set size: 4302\n"
          ]
        },
        {
          "output_type": "stream",
          "name": "stderr",
          "text": [
            "Training: 100%|██████████| 1076/1076 [00:21<00:00, 49.98it/s]\n",
            "Validating: 100%|██████████| 269/269 [00:02<00:00, 109.71it/s]\n"
          ]
        },
        {
          "output_type": "stream",
          "name": "stdout",
          "text": [
            "Epoch 1/5 - Time: 24.07s\n",
            "Train Loss: 0.4962, Train F1: 0.3996\n",
            "Val Loss: 0.4141, Val F1: 0.5686\n",
            "Val Precision: 0.6974, Val Recall: 0.4800\n",
            "Validation F1 increased (0.000000 --> 0.568638). Saving model...\n"
          ]
        },
        {
          "output_type": "stream",
          "name": "stderr",
          "text": [
            "Training: 100%|██████████| 1076/1076 [00:21<00:00, 49.63it/s]\n",
            "Validating: 100%|██████████| 269/269 [00:02<00:00, 109.64it/s]\n"
          ]
        },
        {
          "output_type": "stream",
          "name": "stdout",
          "text": [
            "Epoch 2/5 - Time: 24.23s\n",
            "Train Loss: 0.4047, Train F1: 0.6149\n",
            "Val Loss: 0.4062, Val F1: 0.6691\n",
            "Val Precision: 0.6232, Val Recall: 0.7222\n",
            "Validation F1 increased (0.568638 --> 0.669079). Saving model...\n"
          ]
        },
        {
          "output_type": "stream",
          "name": "stderr",
          "text": [
            "Training: 100%|██████████| 1076/1076 [00:21<00:00, 49.72it/s]\n",
            "Validating: 100%|██████████| 269/269 [00:02<00:00, 109.59it/s]\n"
          ]
        },
        {
          "output_type": "stream",
          "name": "stdout",
          "text": [
            "Epoch 3/5 - Time: 24.19s\n",
            "Train Loss: 0.3701, Train F1: 0.6588\n",
            "Val Loss: 0.3721, Val F1: 0.6548\n",
            "Val Precision: 0.6918, Val Recall: 0.6215\n",
            "EarlyStopping counter: 1 out of 3\n"
          ]
        },
        {
          "output_type": "stream",
          "name": "stderr",
          "text": [
            "Training: 100%|██████████| 1076/1076 [00:21<00:00, 49.59it/s]\n",
            "Validating: 100%|██████████| 269/269 [00:02<00:00, 108.95it/s]\n"
          ]
        },
        {
          "output_type": "stream",
          "name": "stdout",
          "text": [
            "Epoch 4/5 - Time: 24.26s\n",
            "Train Loss: 0.3392, Train F1: 0.7035\n",
            "Val Loss: 0.3749, Val F1: 0.6309\n",
            "Val Precision: 0.7554, Val Recall: 0.5417\n",
            "EarlyStopping counter: 2 out of 3\n"
          ]
        },
        {
          "output_type": "stream",
          "name": "stderr",
          "text": [
            "Training: 100%|██████████| 1076/1076 [00:21<00:00, 49.86it/s]\n",
            "Validating: 100%|██████████| 269/269 [00:02<00:00, 110.35it/s]\n"
          ]
        },
        {
          "output_type": "stream",
          "name": "stdout",
          "text": [
            "Epoch 5/5 - Time: 24.11s\n",
            "Train Loss: 0.3069, Train F1: 0.7417\n",
            "Val Loss: 0.4246, Val F1: 0.5931\n",
            "Val Precision: 0.7805, Val Recall: 0.4783\n",
            "EarlyStopping counter: 3 out of 3\n",
            "Early stopping triggered\n",
            "Loaded best model from 'best_bilstm_attention_model.pt'\n"
          ]
        },
        {
          "output_type": "stream",
          "name": "stderr",
          "text": [
            "Validating: 100%|██████████| 269/269 [00:02<00:00, 109.92it/s]\n",
            "[I 2025-03-28 01:19:30,652] Trial 17 finished with value: 0.6690792119018898 and parameters: {'hidden_dim': 256, 'dropout': 0.41538312999527705, 'batch_size': 16, 'learning_rate': 0.00010131918392776047, 'weight_decay': 4.262754891456775e-05}. Best is trial 15 with value: 0.6903468449644797.\n"
          ]
        },
        {
          "output_type": "stream",
          "name": "stdout",
          "text": [
            "Starting training on device: cuda\n",
            "Training set size: 17206\n",
            "Validation set size: 4302\n"
          ]
        },
        {
          "output_type": "stream",
          "name": "stderr",
          "text": [
            "Training: 100%|██████████| 1076/1076 [00:21<00:00, 49.73it/s]\n",
            "Validating: 100%|██████████| 269/269 [00:02<00:00, 104.91it/s]\n"
          ]
        },
        {
          "output_type": "stream",
          "name": "stdout",
          "text": [
            "Epoch 1/5 - Time: 24.30s\n",
            "Train Loss: 0.4397, Train F1: 0.5531\n",
            "Val Loss: 0.3760, Val F1: 0.6014\n",
            "Val Precision: 0.7772, Val Recall: 0.4905\n",
            "Validation F1 increased (0.000000 --> 0.601384). Saving model...\n"
          ]
        },
        {
          "output_type": "stream",
          "name": "stderr",
          "text": [
            "Training: 100%|██████████| 1076/1076 [00:21<00:00, 49.52it/s]\n",
            "Validating: 100%|██████████| 269/269 [00:02<00:00, 109.83it/s]\n"
          ]
        },
        {
          "output_type": "stream",
          "name": "stdout",
          "text": [
            "Epoch 2/5 - Time: 24.27s\n",
            "Train Loss: 0.3297, Train F1: 0.7126\n",
            "Val Loss: 0.3815, Val F1: 0.6726\n",
            "Val Precision: 0.6334, Val Recall: 0.7170\n",
            "Validation F1 increased (0.601384 --> 0.672638). Saving model...\n"
          ]
        },
        {
          "output_type": "stream",
          "name": "stderr",
          "text": [
            "Training: 100%|██████████| 1076/1076 [00:21<00:00, 49.23it/s]\n",
            "Validating: 100%|██████████| 269/269 [00:02<00:00, 109.19it/s]\n"
          ]
        },
        {
          "output_type": "stream",
          "name": "stdout",
          "text": [
            "Epoch 3/5 - Time: 24.42s\n",
            "Train Loss: 0.2378, Train F1: 0.8169\n",
            "Val Loss: 0.4155, Val F1: 0.6539\n",
            "Val Precision: 0.6908, Val Recall: 0.6207\n",
            "EarlyStopping counter: 1 out of 3\n"
          ]
        },
        {
          "output_type": "stream",
          "name": "stderr",
          "text": [
            "Training: 100%|██████████| 1076/1076 [00:21<00:00, 49.76it/s]\n",
            "Validating: 100%|██████████| 269/269 [00:02<00:00, 110.24it/s]\n"
          ]
        },
        {
          "output_type": "stream",
          "name": "stdout",
          "text": [
            "Epoch 4/5 - Time: 24.16s\n",
            "Train Loss: 0.1457, Train F1: 0.8964\n",
            "Val Loss: 0.5577, Val F1: 0.6250\n",
            "Val Precision: 0.6534, Val Recall: 0.5990\n",
            "EarlyStopping counter: 2 out of 3\n"
          ]
        },
        {
          "output_type": "stream",
          "name": "stderr",
          "text": [
            "Training: 100%|██████████| 1076/1076 [00:21<00:00, 49.71it/s]\n",
            "Validating: 100%|██████████| 269/269 [00:02<00:00, 110.15it/s]\n"
          ]
        },
        {
          "output_type": "stream",
          "name": "stdout",
          "text": [
            "Epoch 5/5 - Time: 24.18s\n",
            "Train Loss: 0.0835, Train F1: 0.9421\n",
            "Val Loss: 0.8398, Val F1: 0.6029\n",
            "Val Precision: 0.6756, Val Recall: 0.5443\n",
            "EarlyStopping counter: 3 out of 3\n",
            "Early stopping triggered\n",
            "Loaded best model from 'best_bilstm_attention_model.pt'\n"
          ]
        },
        {
          "output_type": "stream",
          "name": "stderr",
          "text": [
            "Validating: 100%|██████████| 269/269 [00:02<00:00, 109.82it/s]\n",
            "[I 2025-03-28 01:21:34,613] Trial 18 finished with value: 0.6726384364820847 and parameters: {'hidden_dim': 256, 'dropout': 0.451447954502428, 'batch_size': 16, 'learning_rate': 0.0009370554500833287, 'weight_decay': 1.0499915710530115e-05}. Best is trial 15 with value: 0.6903468449644797.\n"
          ]
        },
        {
          "output_type": "stream",
          "name": "stdout",
          "text": [
            "Starting training on device: cuda\n",
            "Training set size: 17206\n",
            "Validation set size: 4302\n"
          ]
        },
        {
          "output_type": "stream",
          "name": "stderr",
          "text": [
            "Training: 100%|██████████| 1076/1076 [00:21<00:00, 49.78it/s]\n",
            "Validating: 100%|██████████| 269/269 [00:02<00:00, 110.13it/s]\n"
          ]
        },
        {
          "output_type": "stream",
          "name": "stdout",
          "text": [
            "Epoch 1/5 - Time: 24.15s\n",
            "Train Loss: 0.4695, Train F1: 0.4810\n",
            "Val Loss: 0.3970, Val F1: 0.6370\n",
            "Val Precision: 0.6673, Val Recall: 0.6094\n",
            "Validation F1 increased (0.000000 --> 0.637024). Saving model...\n"
          ]
        },
        {
          "output_type": "stream",
          "name": "stderr",
          "text": [
            "Training: 100%|██████████| 1076/1076 [00:21<00:00, 49.76it/s]\n",
            "Validating: 100%|██████████| 269/269 [00:02<00:00, 110.76it/s]\n"
          ]
        },
        {
          "output_type": "stream",
          "name": "stdout",
          "text": [
            "Epoch 2/5 - Time: 24.15s\n",
            "Train Loss: 0.3869, Train F1: 0.6374\n",
            "Val Loss: 0.3704, Val F1: 0.6449\n",
            "Val Precision: 0.7347, Val Recall: 0.5747\n",
            "Validation F1 increased (0.637024 --> 0.644910). Saving model...\n"
          ]
        },
        {
          "output_type": "stream",
          "name": "stderr",
          "text": [
            "Training: 100%|██████████| 1076/1076 [00:21<00:00, 49.87it/s]\n",
            "Validating: 100%|██████████| 269/269 [00:02<00:00, 110.92it/s]\n"
          ]
        },
        {
          "output_type": "stream",
          "name": "stdout",
          "text": [
            "Epoch 3/5 - Time: 24.10s\n",
            "Train Loss: 0.3441, Train F1: 0.6947\n",
            "Val Loss: 0.3769, Val F1: 0.6607\n",
            "Val Precision: 0.7251, Val Recall: 0.6068\n",
            "Validation F1 increased (0.644910 --> 0.660681). Saving model...\n"
          ]
        },
        {
          "output_type": "stream",
          "name": "stderr",
          "text": [
            "Training: 100%|██████████| 1076/1076 [00:21<00:00, 49.95it/s]\n",
            "Validating: 100%|██████████| 269/269 [00:02<00:00, 109.26it/s]\n"
          ]
        },
        {
          "output_type": "stream",
          "name": "stdout",
          "text": [
            "Epoch 4/5 - Time: 24.10s\n",
            "Train Loss: 0.3005, Train F1: 0.7557\n",
            "Val Loss: 0.3698, Val F1: 0.6808\n",
            "Val Precision: 0.6767, Val Recall: 0.6849\n",
            "Validation F1 increased (0.660681 --> 0.680759). Saving model...\n"
          ]
        },
        {
          "output_type": "stream",
          "name": "stderr",
          "text": [
            "Training: 100%|██████████| 1076/1076 [00:21<00:00, 49.69it/s]\n",
            "Validating: 100%|██████████| 269/269 [00:02<00:00, 109.30it/s]\n"
          ]
        },
        {
          "output_type": "stream",
          "name": "stdout",
          "text": [
            "Epoch 5/5 - Time: 24.21s\n",
            "Train Loss: 0.2540, Train F1: 0.7994\n",
            "Val Loss: 0.4311, Val F1: 0.6363\n",
            "Val Precision: 0.7209, Val Recall: 0.5694\n",
            "EarlyStopping counter: 1 out of 3\n",
            "Loaded best model from 'best_bilstm_attention_model.pt'\n"
          ]
        },
        {
          "output_type": "stream",
          "name": "stderr",
          "text": [
            "Validating: 100%|██████████| 269/269 [00:02<00:00, 109.54it/s]\n",
            "[I 2025-03-28 01:23:38,045] Trial 19 finished with value: 0.6807592752372735 and parameters: {'hidden_dim': 256, 'dropout': 0.4755848851044957, 'batch_size': 16, 'learning_rate': 0.00019775950299027404, 'weight_decay': 5.850865438429701e-05}. Best is trial 15 with value: 0.6903468449644797.\n"
          ]
        },
        {
          "output_type": "stream",
          "name": "stdout",
          "text": [
            "Best trial:\n",
            "  Value (F1 Score): 0.6903\n",
            "  Params: \n",
            "    hidden_dim: 256\n",
            "    dropout: 0.4277148867646843\n",
            "    batch_size: 16\n",
            "    learning_rate: 0.00033550020021625327\n",
            "    weight_decay: 1.8390870324768507e-05\n"
          ]
        }
      ]
    },
    {
      "cell_type": "markdown",
      "source": [
        "### Train Model"
      ],
      "metadata": {
        "id": "hARI31lKTTKG"
      }
    },
    {
      "cell_type": "code",
      "source": [
        "# Train final model with best hyperparameters\n",
        "print(\"\\nTraining final model with best hyperparameters...\")\n",
        "model = BiLSTMAttention(\n",
        "    vocab_size=len(vocab),\n",
        "    embedding_dim=embedding_dim,\n",
        "    hidden_dim=trial.params['hidden_dim'],\n",
        "    num_layers=num_layers,\n",
        "    dropout=trial.params['dropout'],\n",
        "    pretrained_embeddings=embeddings\n",
        ")\n",
        "\n",
        "\n",
        "# Print model architecture summary\n",
        "print(\"\\nModel Architecture:\")\n",
        "print(f\"Vocabulary Size: {len(vocab)}\")\n",
        "print(f\"Embedding Dimension: {embedding_dim}\")\n",
        "print(f\"Hidden Dimension: {trial.params['hidden_dim']}\")\n",
        "print(f\"Number of LSTM Layers: {num_layers}\")\n",
        "print(f\"Dropout Rate: {trial.params['dropout']}\")\n",
        "\n",
        "\n",
        "\n",
        "# Count parameters\n",
        "total_params = sum(p.numel() for p in model.parameters())\n",
        "trainable_params = sum(p.numel() for p in model.parameters() if p.requires_grad)\n",
        "print(f\"Total Parameters: {total_params:,}\")\n",
        "print(f\"Trainable Parameters: {trainable_params:,}\")\n",
        "\n",
        "# Initialize trainer\n",
        "trainer = Trainer(\n",
        "    model=model,\n",
        "    train_dataset=train_dataset,\n",
        "    val_dataset=val_dataset,\n",
        "    batch_size=trial.params['batch_size'],\n",
        "    learning_rate=trial.params['learning_rate'],\n",
        "    weight_decay=trial.params['weight_decay'],\n",
        "    device=device\n",
        ")\n",
        "\n",
        "# Train model\n",
        "print(\"\\nStarting training...\")\n",
        "trainer.train(num_epochs=15)\n",
        "\n",
        "# Final evaluation\n",
        "print(\"\\nPerforming final evaluation on validation set...\")\n",
        "val_metrics = trainer.evaluate()\n",
        "\n",
        "print(\"\\nFinal Validation Metrics:\")\n",
        "print(f\"Loss: {val_metrics['loss']:.4f}\")\n",
        "print(f\"Accuracy: {val_metrics['accuracy']:.4f}\")\n",
        "print(f\"Precision: {val_metrics['precision']:.4f}\")\n",
        "print(f\"Recall: {val_metrics['recall']:.4f}\")\n",
        "print(f\"F1 Score: {val_metrics['f1']:.4f}\")\n",
        "\n",
        "# Save final model\n",
        "final_model_path = 'ED_model_B.pt'\n",
        "trainer.save_model(final_model_path)\n",
        "\n",
        "print(\"\\nTraining and evaluation completed!\")"
      ],
      "metadata": {
        "colab": {
          "base_uri": "https://localhost:8080/"
        },
        "id": "5OBaBa6JxJ8Z",
        "outputId": "0dbd5d30-4e0f-41c0-ebeb-26de5ad69136"
      },
      "execution_count": null,
      "outputs": [
        {
          "output_type": "stream",
          "name": "stdout",
          "text": [
            "\n",
            "Training final model with best hyperparameters...\n",
            "\n",
            "Model Architecture:\n",
            "Vocabulary Size: 12686\n",
            "Embedding Dimension: 300\n",
            "Hidden Dimension: 256\n",
            "Number of LSTM Layers: 1\n",
            "Dropout Rate: 0.4277148867646843\n",
            "Total Parameters: 4,884,332\n",
            "Trainable Parameters: 4,884,332\n",
            "\n",
            "Starting training...\n",
            "Starting training on device: cuda\n",
            "Training set size: 17206\n",
            "Validation set size: 4302\n"
          ]
        },
        {
          "output_type": "stream",
          "name": "stderr",
          "text": [
            "Training: 100%|██████████| 1076/1076 [00:21<00:00, 49.93it/s]\n",
            "Validating: 100%|██████████| 269/269 [00:02<00:00, 109.92it/s]\n"
          ]
        },
        {
          "output_type": "stream",
          "name": "stdout",
          "text": [
            "Epoch 1/15 - Time: 24.09s\n",
            "Train Loss: 0.4558, Train F1: 0.5205\n",
            "Val Loss: 0.3881, Val F1: 0.6065\n",
            "Val Precision: 0.7177, Val Recall: 0.5252\n",
            "Validation F1 increased (0.000000 --> 0.606516). Saving model...\n"
          ]
        },
        {
          "output_type": "stream",
          "name": "stderr",
          "text": [
            "Training: 100%|██████████| 1076/1076 [00:21<00:00, 49.59it/s]\n",
            "Validating: 100%|██████████| 269/269 [00:02<00:00, 108.81it/s]\n"
          ]
        },
        {
          "output_type": "stream",
          "name": "stdout",
          "text": [
            "Epoch 2/15 - Time: 24.27s\n",
            "Train Loss: 0.3654, Train F1: 0.6681\n",
            "Val Loss: 0.3880, Val F1: 0.6222\n",
            "Val Precision: 0.7440, Val Recall: 0.5347\n",
            "Validation F1 increased (0.606516 --> 0.622222). Saving model...\n"
          ]
        },
        {
          "output_type": "stream",
          "name": "stderr",
          "text": [
            "Training: 100%|██████████| 1076/1076 [00:21<00:00, 49.99it/s]\n",
            "Validating: 100%|██████████| 269/269 [00:02<00:00, 109.38it/s]\n"
          ]
        },
        {
          "output_type": "stream",
          "name": "stdout",
          "text": [
            "Epoch 3/15 - Time: 24.08s\n",
            "Train Loss: 0.3016, Train F1: 0.7519\n",
            "Val Loss: 0.3906, Val F1: 0.6340\n",
            "Val Precision: 0.7291, Val Recall: 0.5608\n",
            "Validation F1 increased (0.622222 --> 0.633955). Saving model...\n"
          ]
        },
        {
          "output_type": "stream",
          "name": "stderr",
          "text": [
            "Training: 100%|██████████| 1076/1076 [00:21<00:00, 49.85it/s]\n",
            "Validating: 100%|██████████| 269/269 [00:02<00:00, 108.37it/s]\n"
          ]
        },
        {
          "output_type": "stream",
          "name": "stdout",
          "text": [
            "Epoch 4/15 - Time: 24.16s\n",
            "Train Loss: 0.2286, Train F1: 0.8284\n",
            "Val Loss: 0.4167, Val F1: 0.6658\n",
            "Val Precision: 0.6890, Val Recall: 0.6441\n",
            "Validation F1 increased (0.633955 --> 0.665769). Saving model...\n"
          ]
        },
        {
          "output_type": "stream",
          "name": "stderr",
          "text": [
            "Training: 100%|██████████| 1076/1076 [00:21<00:00, 49.92it/s]\n",
            "Validating: 100%|██████████| 269/269 [00:02<00:00, 109.48it/s]\n"
          ]
        },
        {
          "output_type": "stream",
          "name": "stdout",
          "text": [
            "Epoch 5/15 - Time: 24.11s\n",
            "Train Loss: 0.1529, Train F1: 0.8898\n",
            "Val Loss: 0.4930, Val F1: 0.6573\n",
            "Val Precision: 0.6268, Val Recall: 0.6910\n",
            "EarlyStopping counter: 1 out of 3\n"
          ]
        },
        {
          "output_type": "stream",
          "name": "stderr",
          "text": [
            "Training: 100%|██████████| 1076/1076 [00:21<00:00, 49.90it/s]\n",
            "Validating: 100%|██████████| 269/269 [00:02<00:00, 107.22it/s]\n"
          ]
        },
        {
          "output_type": "stream",
          "name": "stdout",
          "text": [
            "Epoch 6/15 - Time: 24.17s\n",
            "Train Loss: 0.0948, Train F1: 0.9388\n",
            "Val Loss: 0.6593, Val F1: 0.6453\n",
            "Val Precision: 0.6047, Val Recall: 0.6918\n",
            "EarlyStopping counter: 2 out of 3\n"
          ]
        },
        {
          "output_type": "stream",
          "name": "stderr",
          "text": [
            "Training: 100%|██████████| 1076/1076 [00:21<00:00, 50.11it/s]\n",
            "Validating: 100%|██████████| 269/269 [00:02<00:00, 110.06it/s]\n"
          ]
        },
        {
          "output_type": "stream",
          "name": "stdout",
          "text": [
            "Epoch 7/15 - Time: 24.01s\n",
            "Train Loss: 0.0568, Train F1: 0.9647\n",
            "Val Loss: 0.7944, Val F1: 0.6345\n",
            "Val Precision: 0.6251, Val Recall: 0.6441\n",
            "EarlyStopping counter: 3 out of 3\n",
            "Early stopping triggered\n",
            "Loaded best model from 'best_bilstm_attention_model.pt'\n",
            "\n",
            "Performing final evaluation on validation set...\n"
          ]
        },
        {
          "output_type": "stream",
          "name": "stderr",
          "text": [
            "Validating: 100%|██████████| 269/269 [00:02<00:00, 110.18it/s]"
          ]
        },
        {
          "output_type": "stream",
          "name": "stdout",
          "text": [
            "\n",
            "Final Validation Metrics:\n",
            "Loss: 0.4167\n",
            "Accuracy: 0.8268\n",
            "Precision: 0.6890\n",
            "Recall: 0.6441\n",
            "F1 Score: 0.6658\n",
            "Model saved to ED_model_B.pt\n",
            "\n",
            "Training and evaluation completed!\n"
          ]
        },
        {
          "output_type": "stream",
          "name": "stderr",
          "text": [
            "\n"
          ]
        }
      ]
    },
    {
      "cell_type": "code",
      "source": [
        "trainer.plot_training_metrics()"
      ],
      "metadata": {
        "colab": {
          "base_uri": "https://localhost:8080/",
          "height": 817
        },
        "id": "Fi7hQuWjuu5P",
        "outputId": "1d37d6f9-3330-49a6-b2f4-a69c78e09f08"
      },
      "execution_count": null,
      "outputs": [
        {
          "output_type": "display_data",
          "data": {
            "text/plain": [
              "<Figure size 1200x500 with 1 Axes>"
            ],
            "image/png": "[encoded data removed]"
          },
          "metadata": {}
        },
        {
          "output_type": "display_data",
          "data": {
            "text/plain": [
              "<Figure size 1200x500 with 1 Axes>"
            ],
            "image/png": "[encoded data removed]"
          },
          "metadata": {}
        }
      ]
    }
  ]
}